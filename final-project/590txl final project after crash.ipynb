{
 "cells": [
  {
   "cell_type": "code",
   "execution_count": 157,
   "metadata": {
    "collapsed": true
   },
   "outputs": [],
   "source": [
    "import os, csv, math, random\n",
    "import pandas as pd\n",
    "import numpy as np\n",
    "from collections import Counter\n",
    "import html2text\n",
    "import requests\n",
    "import urllib\n",
    "from bs4 import BeautifulSoup\n",
    "import matplotlib\n",
    "import matplotlib.pyplot as plt\n",
    "%matplotlib inline"
   ]
  },
  {
   "cell_type": "markdown",
   "metadata": {},
   "source": [
    "## Problem / Research Question\n",
    "My research question is relatively simple: what can we learn about movie reviews and video games when testing if they can be reliably classified in comparison to each other, when we look at their top and bottom words and when examining sentiment? A lot is written and said by video game fans, journalists, developers, producers and studios about the medium's status as art. Often individuals representing these communities lament the general skepticism to video games as art. But do journalists speak about video games the same way that journalists speak about movies? For many, a review is the first entry to a piece--film or game--and the language used can influence the reader to "
   ]
  },
  {
   "cell_type": "markdown",
   "metadata": {},
   "source": [
    "## \"Literature\" Review\n",
    "Placeholder"
   ]
  },
  {
   "cell_type": "markdown",
   "metadata": {},
   "source": [
    "## First Step: Gathering Data\n",
    "Placeholder"
   ]
  },
  {
   "cell_type": "code",
   "execution_count": 13,
   "metadata": {
    "collapsed": false
   },
   "outputs": [
    {
     "data": {
      "text/html": [
       "<div>\n",
       "<table border=\"1\" class=\"dataframe\">\n",
       "  <thead>\n",
       "    <tr style=\"text-align: right;\">\n",
       "      <th></th>\n",
       "      <th>review_text</th>\n",
       "      <th>is_movie_review</th>\n",
       "    </tr>\n",
       "  </thead>\n",
       "  <tbody>\n",
       "    <tr>\n",
       "      <th>0</th>\n",
       "      <td>Early on, I feared Shiness might buckle under ...</td>\n",
       "      <td>0</td>\n",
       "    </tr>\n",
       "    <tr>\n",
       "      <th>1</th>\n",
       "      <td>Full Throttle Remastered [official site] is th...</td>\n",
       "      <td>0</td>\n",
       "    </tr>\n",
       "    <tr>\n",
       "      <th>2</th>\n",
       "      <td>The most appealing part of the collection is A...</td>\n",
       "      <td>0</td>\n",
       "    </tr>\n",
       "    <tr>\n",
       "      <th>3</th>\n",
       "      <td>Halo Wars 2’s story is the most compelling asp...</td>\n",
       "      <td>0</td>\n",
       "    </tr>\n",
       "    <tr>\n",
       "      <th>4</th>\n",
       "      <td>The Odd Gentlemen have done a fine job with it...</td>\n",
       "      <td>0</td>\n",
       "    </tr>\n",
       "  </tbody>\n",
       "</table>\n",
       "</div>"
      ],
      "text/plain": [
       "                                         review_text is_movie_review\n",
       "0  Early on, I feared Shiness might buckle under ...               0\n",
       "1  Full Throttle Remastered [official site] is th...               0\n",
       "2  The most appealing part of the collection is A...               0\n",
       "3  Halo Wars 2’s story is the most compelling asp...               0\n",
       "4  The Odd Gentlemen have done a fine job with it...               0"
      ]
     },
     "execution_count": 13,
     "metadata": {},
     "output_type": "execute_result"
    }
   ],
   "source": [
    "# vg_lines = [line.rstrip('\\n') for line in open('clean_videogame_text.txt')]\n",
    "# # print(vg_lines)\n",
    "\n",
    "# vg_data = pd.DataFrame(vg_lines)\n",
    "# vg_df.columns = ['review_text']\n",
    "\n",
    "# vg_data['review_text'].replace('', np.nan, inplace=True)\n",
    "# vg_data.dropna(subset=['review_text'], inplace=True)\n",
    "# vg_data = vg_data.reset_index(drop=True)\n",
    "# vg_df['is_movie_review'] = '0'\n",
    "\n",
    "# vg_word_count = 0\n",
    "\n",
    "# dropping rows where the revies are less than 150 characters\n",
    "# mask = (vg_data['review_text'].str.len() > 150)\n",
    "# vg_data = vg_data.loc[mask]\n",
    "\n",
    "# vg_data.head(500)\n",
    "\n",
    "# taking a sample of the video game reviews that is equal to the movie review data\n",
    "# vg_sample = vg_data.sample(n=175)\n",
    "# vg_sample.head(130)\n",
    " \n",
    "# vg_sample = vg_sample.reset_index(drop=True)\n",
    "# vg_sample.head(130)\n",
    "\n",
    "# creating a copy of my VG data that can easily be imported into a data frame again, if needed\n",
    "# with open('vg_dataframe_data.txt', 'w') as f:\n",
    "#     for row in vg_sample['review_text']:\n",
    "#         f.write(row + '\\n')\n",
    "\n",
    "# vg3 = open('/Users/rdubnic2/Documents/lis590txl/final-project/vg_dataframe_data.txt')\n",
    "# vg3_lines = vg3.readlines()\n",
    "# vg_df = pd.DataFrame(vg3_lines)\n",
    "\n",
    "# vg_df.columns = ['review_text']\n",
    "# vg_df['is_movie_review'] = '0'\n",
    "\n",
    "vg_df.head()"
   ]
  },
  {
   "cell_type": "code",
   "execution_count": 73,
   "metadata": {
    "collapsed": false
   },
   "outputs": [],
   "source": [
    "# movie_data.head(15)"
   ]
  },
  {
   "cell_type": "code",
   "execution_count": 75,
   "metadata": {
    "collapsed": false
   },
   "outputs": [],
   "source": [
    "# vg_data.head(100)\n",
    "# vg_copy.head(100)\n",
    "# vg_sample.head(15)"
   ]
  },
  {
   "cell_type": "code",
   "execution_count": 25,
   "metadata": {
    "collapsed": false
   },
   "outputs": [
    {
     "name": "stdout",
     "output_type": "stream",
     "text": [
      "vg_sample has 39376 words.\n",
      "movie_data has 39939 words.\n"
     ]
    }
   ],
   "source": [
    "vg_count = 0\n",
    "vg_clean_tokens = []\n",
    "\n",
    "for i in vg_df.index:\n",
    "    text = vg_df['review_text'][i]\n",
    "    tokens = text.split()\n",
    "    for w in tokens:\n",
    "        clean = w.strip(',.!?:;-—()<>[]/\"\\'').lower()\n",
    "        vg_clean_tokens.append(clean)\n",
    "\n",
    "vg_count = len(vg_clean_tokens)\n",
    "\n",
    "\n",
    "mov_count = 0\n",
    "mov_clean_tokens = []\n",
    "\n",
    "for i in movie_data.index:\n",
    "    text = movie_data['review_text'][i]\n",
    "    tokens = text.split()\n",
    "    for w in tokens:\n",
    "        clean = w.strip(',.!?:;-—()<>[]/\"\\'').lower()\n",
    "        mov_clean_tokens.append(clean)\n",
    "\n",
    "mov_count = len(mov_clean_tokens)\n",
    "\n",
    "print('vg_sample has', vg_count, 'words.')\n",
    "print('movie_data has', mov_count, 'words.')"
   ]
  },
  {
   "cell_type": "code",
   "execution_count": 35,
   "metadata": {
    "collapsed": false
   },
   "outputs": [
    {
     "name": "stdout",
     "output_type": "stream",
     "text": [
      "movie_data has  23647 words.\n",
      "vg_df has  22532 words.\n"
     ]
    }
   ],
   "source": [
    "# importing in movie review data, and putting into a df with one review per row\n",
    "# movie_lines = [line.rstrip('\\n') for line in open('clean_movie_rev_text.txt')]      \n",
    "# movie_data = pd.DataFrame(movie_lines)\n",
    "# # print(movie_data.columns)\n",
    "\n",
    "# movie_data.head()\n",
    "\n",
    "# adding the label for the review row, and adding a column for 'is_movie_review' which will be used to train and\n",
    "#  test classifier\n",
    "\n",
    "# movie_data.columns = ['review_text']\n",
    "# movie_data['is_movie_review'] = 1\n",
    "# movie_data['review_text'].replace('', np.nan, inplace=True)\n",
    "# movie_data.dropna(subset=['review_text'], inplace=True)\n",
    "# movie_data = movie_data.reset_index(drop=True)\n",
    "\n",
    "movie_count = 0\n",
    " \n",
    "for i in movie_data.index:\n",
    "    text = movie_data['review_text'][i]\n",
    "    tokens = tokenize(text)\n",
    "    movie_count += len(tokens)\n",
    "\n",
    "print('movie_data has ', movie_count, 'words.')\n",
    "\n",
    "vg_count = 0\n",
    " \n",
    "for i in vg_df.index:\n",
    "    text = vg_df['review_text'][i]\n",
    "    tokens = tokenize(text)\n",
    "    vg_count += len(tokens)\n",
    "\n",
    "print('vg_df has ', vg_count, 'words.')\n",
    "\n",
    "# movie_data = movie_data.reset_index(drop=True)\n",
    "\n",
    "# reviews = [movie_data, vg_df]\n",
    "# review_data = pd.concat(reviews)\n",
    "# review_data = review_data.reset_index(drop=True)\n",
    "# review_data.head(300)\n",
    "\n",
    "# THIS IS WORTHLESS, I THINK, AS YOU CAN'T TELL SOURCE FOR REVIEWS\n",
    "# with open('review_data.txt', 'w') as f:\n",
    "#     for row in review_data['review_text']:\n",
    "#         f.write(row + '\\n')"
   ]
  },
  {
   "cell_type": "code",
   "execution_count": 28,
   "metadata": {
    "collapsed": false
   },
   "outputs": [
    {
     "data": {
      "text/html": [
       "<div>\n",
       "<table border=\"1\" class=\"dataframe\">\n",
       "  <thead>\n",
       "    <tr style=\"text-align: right;\">\n",
       "      <th></th>\n",
       "      <th>review_text</th>\n",
       "      <th>is_movie_review</th>\n",
       "    </tr>\n",
       "  </thead>\n",
       "  <tbody>\n",
       "    <tr>\n",
       "      <th>0</th>\n",
       "      <td>Teeming with acts both heroic and reprehensibl...</td>\n",
       "      <td>1</td>\n",
       "    </tr>\n",
       "    <tr>\n",
       "      <th>1</th>\n",
       "      <td>The cinema innovator and iconoclast Jean-Luc G...</td>\n",
       "      <td>1</td>\n",
       "    </tr>\n",
       "    <tr>\n",
       "      <th>2</th>\n",
       "      <td>A funny thing happened to the French director ...</td>\n",
       "      <td>1</td>\n",
       "    </tr>\n",
       "    <tr>\n",
       "      <th>3</th>\n",
       "      <td>The title character in “The Happiest Day in th...</td>\n",
       "      <td>1</td>\n",
       "    </tr>\n",
       "    <tr>\n",
       "      <th>4</th>\n",
       "      <td>As the thriller “Unforgettable” wends its way ...</td>\n",
       "      <td>1</td>\n",
       "    </tr>\n",
       "  </tbody>\n",
       "</table>\n",
       "</div>"
      ],
      "text/plain": [
       "                                         review_text  is_movie_review\n",
       "0  Teeming with acts both heroic and reprehensibl...                1\n",
       "1  The cinema innovator and iconoclast Jean-Luc G...                1\n",
       "2  A funny thing happened to the French director ...                1\n",
       "3  The title character in “The Happiest Day in th...                1\n",
       "4  As the thriller “Unforgettable” wends its way ...                1"
      ]
     },
     "execution_count": 28,
     "metadata": {},
     "output_type": "execute_result"
    }
   ],
   "source": [
    "movie_data.head()"
   ]
  },
  {
   "cell_type": "code",
   "execution_count": 29,
   "metadata": {
    "collapsed": false,
    "scrolled": true
   },
   "outputs": [
    {
     "data": {
      "text/html": [
       "<div>\n",
       "<table border=\"1\" class=\"dataframe\">\n",
       "  <thead>\n",
       "    <tr style=\"text-align: right;\">\n",
       "      <th></th>\n",
       "      <th>review_text</th>\n",
       "      <th>is_movie_review</th>\n",
       "    </tr>\n",
       "  </thead>\n",
       "  <tbody>\n",
       "    <tr>\n",
       "      <th>0</th>\n",
       "      <td>Early on, I feared Shiness might buckle under ...</td>\n",
       "      <td>0</td>\n",
       "    </tr>\n",
       "    <tr>\n",
       "      <th>1</th>\n",
       "      <td>Full Throttle Remastered [official site] is th...</td>\n",
       "      <td>0</td>\n",
       "    </tr>\n",
       "    <tr>\n",
       "      <th>2</th>\n",
       "      <td>The most appealing part of the collection is A...</td>\n",
       "      <td>0</td>\n",
       "    </tr>\n",
       "    <tr>\n",
       "      <th>3</th>\n",
       "      <td>Halo Wars 2’s story is the most compelling asp...</td>\n",
       "      <td>0</td>\n",
       "    </tr>\n",
       "    <tr>\n",
       "      <th>4</th>\n",
       "      <td>The Odd Gentlemen have done a fine job with it...</td>\n",
       "      <td>0</td>\n",
       "    </tr>\n",
       "  </tbody>\n",
       "</table>\n",
       "</div>"
      ],
      "text/plain": [
       "                                         review_text is_movie_review\n",
       "0  Early on, I feared Shiness might buckle under ...               0\n",
       "1  Full Throttle Remastered [official site] is th...               0\n",
       "2  The most appealing part of the collection is A...               0\n",
       "3  Halo Wars 2’s story is the most compelling asp...               0\n",
       "4  The Odd Gentlemen have done a fine job with it...               0"
      ]
     },
     "execution_count": 29,
     "metadata": {},
     "output_type": "execute_result"
    }
   ],
   "source": [
    "vg_df.head()"
   ]
  },
  {
   "cell_type": "code",
   "execution_count": 36,
   "metadata": {
    "collapsed": false
   },
   "outputs": [
    {
     "data": {
      "text/html": [
       "<div>\n",
       "<table border=\"1\" class=\"dataframe\">\n",
       "  <thead>\n",
       "    <tr style=\"text-align: right;\">\n",
       "      <th></th>\n",
       "      <th>review_text</th>\n",
       "      <th>is_movie_review</th>\n",
       "    </tr>\n",
       "  </thead>\n",
       "  <tbody>\n",
       "    <tr>\n",
       "      <th>0</th>\n",
       "      <td>Teeming with acts both heroic and reprehensibl...</td>\n",
       "      <td>1</td>\n",
       "    </tr>\n",
       "    <tr>\n",
       "      <th>1</th>\n",
       "      <td>The cinema innovator and iconoclast Jean-Luc G...</td>\n",
       "      <td>1</td>\n",
       "    </tr>\n",
       "    <tr>\n",
       "      <th>2</th>\n",
       "      <td>A funny thing happened to the French director ...</td>\n",
       "      <td>1</td>\n",
       "    </tr>\n",
       "    <tr>\n",
       "      <th>3</th>\n",
       "      <td>The title character in “The Happiest Day in th...</td>\n",
       "      <td>1</td>\n",
       "    </tr>\n",
       "    <tr>\n",
       "      <th>4</th>\n",
       "      <td>As the thriller “Unforgettable” wends its way ...</td>\n",
       "      <td>1</td>\n",
       "    </tr>\n",
       "  </tbody>\n",
       "</table>\n",
       "</div>"
      ],
      "text/plain": [
       "                                         review_text is_movie_review\n",
       "0  Teeming with acts both heroic and reprehensibl...               1\n",
       "1  The cinema innovator and iconoclast Jean-Luc G...               1\n",
       "2  A funny thing happened to the French director ...               1\n",
       "3  The title character in “The Happiest Day in th...               1\n",
       "4  As the thriller “Unforgettable” wends its way ...               1"
      ]
     },
     "execution_count": 36,
     "metadata": {},
     "output_type": "execute_result"
    }
   ],
   "source": [
    "review_data.head()"
   ]
  },
  {
   "cell_type": "code",
   "execution_count": 37,
   "metadata": {
    "collapsed": false
   },
   "outputs": [],
   "source": [
    "def movie_test(a_data_frame, rowidx):\n",
    "    if a_data_frame['is_movie_review'][rowidx] == 1:\n",
    "        return 'mov'\n",
    "    else:\n",
    "        return 'vg'"
   ]
  },
  {
   "cell_type": "code",
   "execution_count": 41,
   "metadata": {
    "collapsed": false
   },
   "outputs": [
    {
     "data": {
      "text/html": [
       "<div>\n",
       "<table border=\"1\" class=\"dataframe\">\n",
       "  <thead>\n",
       "    <tr style=\"text-align: right;\">\n",
       "      <th></th>\n",
       "      <th>review</th>\n",
       "      <th>source</th>\n",
       "      <th>fold</th>\n",
       "    </tr>\n",
       "  </thead>\n",
       "  <tbody>\n",
       "    <tr>\n",
       "      <th>0</th>\n",
       "      <td>Teeming with acts both heroic and reprehensibl...</td>\n",
       "      <td>mov</td>\n",
       "      <td>4</td>\n",
       "    </tr>\n",
       "    <tr>\n",
       "      <th>1</th>\n",
       "      <td>The cinema innovator and iconoclast Jean-Luc G...</td>\n",
       "      <td>mov</td>\n",
       "      <td>1</td>\n",
       "    </tr>\n",
       "    <tr>\n",
       "      <th>2</th>\n",
       "      <td>A funny thing happened to the French director ...</td>\n",
       "      <td>mov</td>\n",
       "      <td>2</td>\n",
       "    </tr>\n",
       "    <tr>\n",
       "      <th>3</th>\n",
       "      <td>The title character in “The Happiest Day in th...</td>\n",
       "      <td>mov</td>\n",
       "      <td>2</td>\n",
       "    </tr>\n",
       "    <tr>\n",
       "      <th>4</th>\n",
       "      <td>As the thriller “Unforgettable” wends its way ...</td>\n",
       "      <td>mov</td>\n",
       "      <td>3</td>\n",
       "    </tr>\n",
       "    <tr>\n",
       "      <th>5</th>\n",
       "      <td>Here’s what sounds like one dud job: calculati...</td>\n",
       "      <td>mov</td>\n",
       "      <td>2</td>\n",
       "    </tr>\n",
       "    <tr>\n",
       "      <th>6</th>\n",
       "      <td>“Behind the White Glasses,” an effusive portra...</td>\n",
       "      <td>mov</td>\n",
       "      <td>1</td>\n",
       "    </tr>\n",
       "    <tr>\n",
       "      <th>7</th>\n",
       "      <td>Weighed down by the worthiness of its intentio...</td>\n",
       "      <td>mov</td>\n",
       "      <td>0</td>\n",
       "    </tr>\n",
       "    <tr>\n",
       "      <th>8</th>\n",
       "      <td>You’ll want to see “Tomorrow” if you’re fuming...</td>\n",
       "      <td>mov</td>\n",
       "      <td>2</td>\n",
       "    </tr>\n",
       "    <tr>\n",
       "      <th>9</th>\n",
       "      <td>Much of Lydia Tenaglia’s diverting documentary...</td>\n",
       "      <td>mov</td>\n",
       "      <td>1</td>\n",
       "    </tr>\n",
       "    <tr>\n",
       "      <th>10</th>\n",
       "      <td>Because New York City is so ecumenically photo...</td>\n",
       "      <td>mov</td>\n",
       "      <td>3</td>\n",
       "    </tr>\n",
       "    <tr>\n",
       "      <th>11</th>\n",
       "      <td>“Born in China,” another animals-are-just-like...</td>\n",
       "      <td>mov</td>\n",
       "      <td>1</td>\n",
       "    </tr>\n",
       "    <tr>\n",
       "      <th>12</th>\n",
       "      <td>In “The Lost City of Z,” a lush, melancholic s...</td>\n",
       "      <td>mov</td>\n",
       "      <td>3</td>\n",
       "    </tr>\n",
       "    <tr>\n",
       "      <th>13</th>\n",
       "      <td>New England in the mid-19th century was a lite...</td>\n",
       "      <td>mov</td>\n",
       "      <td>2</td>\n",
       "    </tr>\n",
       "    <tr>\n",
       "      <th>14</th>\n",
       "      <td>The full, spoilerish title of Joseph Cedar’s n...</td>\n",
       "      <td>mov</td>\n",
       "      <td>3</td>\n",
       "    </tr>\n",
       "  </tbody>\n",
       "</table>\n",
       "</div>"
      ],
      "text/plain": [
       "                                               review source  fold\n",
       "0   Teeming with acts both heroic and reprehensibl...    mov     4\n",
       "1   The cinema innovator and iconoclast Jean-Luc G...    mov     1\n",
       "2   A funny thing happened to the French director ...    mov     2\n",
       "3   The title character in “The Happiest Day in th...    mov     2\n",
       "4   As the thriller “Unforgettable” wends its way ...    mov     3\n",
       "5   Here’s what sounds like one dud job: calculati...    mov     2\n",
       "6   “Behind the White Glasses,” an effusive portra...    mov     1\n",
       "7   Weighed down by the worthiness of its intentio...    mov     0\n",
       "8   You’ll want to see “Tomorrow” if you’re fuming...    mov     2\n",
       "9   Much of Lydia Tenaglia’s diverting documentary...    mov     1\n",
       "10  Because New York City is so ecumenically photo...    mov     3\n",
       "11  “Born in China,” another animals-are-just-like...    mov     1\n",
       "12  In “The Lost City of Z,” a lush, melancholic s...    mov     3\n",
       "13  New England in the mid-19th century was a lite...    mov     2\n",
       "14  The full, spoilerish title of Joseph Cedar’s n...    mov     3"
      ]
     },
     "execution_count": 41,
     "metadata": {},
     "output_type": "execute_result"
    }
   ],
   "source": [
    "# Now, I need to separate the data into training (4/5) and test data (1/5).\n",
    "#  I do this by assigning folds to each row (review) alongside a column that shows their source,\n",
    "#  generated and extracted using the above movie_test function.\n",
    "\n",
    "# review_text = review_data['review_text']\n",
    "# is_movie_review = review_data['is_movie_review']\n",
    "\n",
    "# source = []\n",
    "# fold = []\n",
    "# for idx in review_data.index:\n",
    "#     source.append(movie_test(review_data, idx))\n",
    "#     fold.append(random.sample(list(range(5)), 1)[0])\n",
    "\n",
    "# source = pd.Series(source, index = review_data.index)\n",
    "# fold = pd.Series(fold, index = review_data.index)\n",
    "\n",
    "# review_data = pd.concat([review_text, source, fold], axis = 1)\n",
    "# review_data.columns = ['review', 'source', 'fold']\n",
    "\n",
    "review_data.head(15)"
   ]
  },
  {
   "cell_type": "code",
   "execution_count": 63,
   "metadata": {
    "collapsed": false
   },
   "outputs": [
    {
     "name": "stdout",
     "output_type": "stream",
     "text": [
      "Training set includes 202\n",
      "Test set includes 50\n"
     ]
    },
    {
     "data": {
      "text/html": [
       "<div>\n",
       "<table border=\"1\" class=\"dataframe\">\n",
       "  <thead>\n",
       "    <tr style=\"text-align: right;\">\n",
       "      <th></th>\n",
       "      <th>review</th>\n",
       "      <th>source</th>\n",
       "      <th>fold</th>\n",
       "    </tr>\n",
       "  </thead>\n",
       "  <tbody>\n",
       "    <tr>\n",
       "      <th>0</th>\n",
       "      <td>Teeming with acts both heroic and reprehensibl...</td>\n",
       "      <td>mov</td>\n",
       "      <td>4</td>\n",
       "    </tr>\n",
       "    <tr>\n",
       "      <th>1</th>\n",
       "      <td>The cinema innovator and iconoclast Jean-Luc G...</td>\n",
       "      <td>mov</td>\n",
       "      <td>1</td>\n",
       "    </tr>\n",
       "    <tr>\n",
       "      <th>2</th>\n",
       "      <td>A funny thing happened to the French director ...</td>\n",
       "      <td>mov</td>\n",
       "      <td>2</td>\n",
       "    </tr>\n",
       "    <tr>\n",
       "      <th>3</th>\n",
       "      <td>The title character in “The Happiest Day in th...</td>\n",
       "      <td>mov</td>\n",
       "      <td>2</td>\n",
       "    </tr>\n",
       "    <tr>\n",
       "      <th>5</th>\n",
       "      <td>Here’s what sounds like one dud job: calculati...</td>\n",
       "      <td>mov</td>\n",
       "      <td>2</td>\n",
       "    </tr>\n",
       "    <tr>\n",
       "      <th>6</th>\n",
       "      <td>“Behind the White Glasses,” an effusive portra...</td>\n",
       "      <td>mov</td>\n",
       "      <td>1</td>\n",
       "    </tr>\n",
       "    <tr>\n",
       "      <th>7</th>\n",
       "      <td>Weighed down by the worthiness of its intentio...</td>\n",
       "      <td>mov</td>\n",
       "      <td>0</td>\n",
       "    </tr>\n",
       "    <tr>\n",
       "      <th>8</th>\n",
       "      <td>You’ll want to see “Tomorrow” if you’re fuming...</td>\n",
       "      <td>mov</td>\n",
       "      <td>2</td>\n",
       "    </tr>\n",
       "    <tr>\n",
       "      <th>9</th>\n",
       "      <td>Much of Lydia Tenaglia’s diverting documentary...</td>\n",
       "      <td>mov</td>\n",
       "      <td>1</td>\n",
       "    </tr>\n",
       "    <tr>\n",
       "      <th>11</th>\n",
       "      <td>“Born in China,” another animals-are-just-like...</td>\n",
       "      <td>mov</td>\n",
       "      <td>1</td>\n",
       "    </tr>\n",
       "    <tr>\n",
       "      <th>13</th>\n",
       "      <td>New England in the mid-19th century was a lite...</td>\n",
       "      <td>mov</td>\n",
       "      <td>2</td>\n",
       "    </tr>\n",
       "    <tr>\n",
       "      <th>15</th>\n",
       "      <td>Redolent of damp wool and dour personalities, ...</td>\n",
       "      <td>mov</td>\n",
       "      <td>1</td>\n",
       "    </tr>\n",
       "    <tr>\n",
       "      <th>17</th>\n",
       "      <td>At best ambiguous and at worst unfathomable, “...</td>\n",
       "      <td>mov</td>\n",
       "      <td>0</td>\n",
       "    </tr>\n",
       "    <tr>\n",
       "      <th>18</th>\n",
       "      <td>“I think he’s one of the greatest artists that...</td>\n",
       "      <td>mov</td>\n",
       "      <td>2</td>\n",
       "    </tr>\n",
       "    <tr>\n",
       "      <th>19</th>\n",
       "      <td>“Little Boxes,” a mildly comic story about a b...</td>\n",
       "      <td>mov</td>\n",
       "      <td>0</td>\n",
       "    </tr>\n",
       "  </tbody>\n",
       "</table>\n",
       "</div>"
      ],
      "text/plain": [
       "                                               review source  fold\n",
       "0   Teeming with acts both heroic and reprehensibl...    mov     4\n",
       "1   The cinema innovator and iconoclast Jean-Luc G...    mov     1\n",
       "2   A funny thing happened to the French director ...    mov     2\n",
       "3   The title character in “The Happiest Day in th...    mov     2\n",
       "5   Here’s what sounds like one dud job: calculati...    mov     2\n",
       "6   “Behind the White Glasses,” an effusive portra...    mov     1\n",
       "7   Weighed down by the worthiness of its intentio...    mov     0\n",
       "8   You’ll want to see “Tomorrow” if you’re fuming...    mov     2\n",
       "9   Much of Lydia Tenaglia’s diverting documentary...    mov     1\n",
       "11  “Born in China,” another animals-are-just-like...    mov     1\n",
       "13  New England in the mid-19th century was a lite...    mov     2\n",
       "15  Redolent of damp wool and dour personalities, ...    mov     1\n",
       "17  At best ambiguous and at worst unfathomable, “...    mov     0\n",
       "18  “I think he’s one of the greatest artists that...    mov     2\n",
       "19  “Little Boxes,” a mildly comic story about a b...    mov     0"
      ]
     },
     "execution_count": 63,
     "metadata": {},
     "output_type": "execute_result"
    }
   ],
   "source": [
    "test_set = review_data[review_data['fold'] == 3]\n",
    "\n",
    "train_set = review_data[review_data['fold'] != 3]\n",
    "\n",
    "print('Training set includes ' + str(train_set.shape[0]))\n",
    "print('Test set includes ' + str(test_set.shape[0]))\n",
    "train_set.head(15)"
   ]
  },
  {
   "cell_type": "code",
   "execution_count": 19,
   "metadata": {
    "collapsed": false
   },
   "outputs": [],
   "source": [
    "def tokenize(astring):\n",
    "    ''' Breaks a string into words, and counts them.\n",
    "    Designed so it strips punctuation and lowercases everything,\n",
    "    but doesn't separate hashtags and at-signs.\n",
    "    '''\n",
    "    wordcounts = Counter()\n",
    "    # create a counter to hold the counts\n",
    "    \n",
    "    tokens = astring.split()\n",
    "    for t in tokens:\n",
    "        word = t.strip(',.!?:;-—()<>[]/\"\\'').lower()\n",
    "        wordcounts[word] += 1\n",
    "        \n",
    "    return wordcounts\n",
    "\n",
    "def create_vocab(seq_of_strings, n):\n",
    "    ''' Given a sequence of text snippets, this function\n",
    "    returns the n most common words. We'll use this to\n",
    "    create a limited 'vocabulary'.\n",
    "    '''\n",
    "    vocab = Counter()\n",
    "    for astring in seq_of_strings:\n",
    "        counts = tokenize(astring)\n",
    "        vocab = vocab + counts\n",
    "    topn = [x[0] for x in vocab.most_common(n)]\n",
    "    return topn\n",
    "\n",
    "def categorize(df, rowidx): # 'df' is 'data frame'\n",
    "    if df.loc[rowidx, 'source'] == 'vg':\n",
    "        return 'vg'\n",
    "    elif df.loc[rowidx, 'source'] == 'mov':\n",
    "        return 'mov'\n",
    "    else:\n",
    "        print('error: neither vg or mov')\n",
    "        return 'other'\n",
    "\n",
    "def get_priors(df):\n",
    "    source_counts = df.groupby('source').count()['review']\n",
    "    print(source_counts)\n",
    "    videogame_odds = source_counts['vg'] / source_counts['mov']\n",
    "    movie_odds = source_counts['mov'] / source_counts['vg']\n",
    "    return math.log(videogame_odds), math.log(movie_odds)\n"
   ]
  },
  {
   "cell_type": "markdown",
   "metadata": {},
   "source": [
    "## Training our classifier\n",
    "Now, down to the actual business of building our classifier. To do this, I've brought over some code I've adapted from Ted Underwood to train our model on the training set of data. Basically, this function calls the above 3 functions to 1) create a vocab of words in the training set reviews, 2) tokenize the words, row-by-row and sort them into classifications (either 'mov' or 'vg') and 3) count how many times each word is classified as 'vg' or 'mov' and then create an overall probability of the word belonging to either class. A bonus 4th step here is that I also run log odds for each probability in order to see if there are drastic differences."
   ]
  },
  {
   "cell_type": "code",
   "execution_count": 49,
   "metadata": {
    "collapsed": false,
    "scrolled": false
   },
   "outputs": [],
   "source": [
    "def train_nb_model(df, p): # p is the number of words you're using in your model, the portion of the total vocabulary\n",
    "    vocab = create_vocab(df['review'], p)\n",
    "    vocabset = set(vocab)\n",
    "    \n",
    "    # we make a set because membership-checking is faster\n",
    "    # in sets; but we also hold onto the list, which is ordered\n",
    "    \n",
    "    vg_prior, mov_prior = get_priors(df)\n",
    "    \n",
    "    vg_counts = Counter()\n",
    "    mov_counts = Counter()\n",
    "    \n",
    "    for i in df.index:\n",
    "        review = df['review'][i]\n",
    "        review_counts = tokenize(review)\n",
    "        category = categorize(df, i)\n",
    "        # print(category)\n",
    "        if category == 'mov':\n",
    "            mov_counts = mov_counts + review_counts\n",
    "        elif category == 'vg':\n",
    "            vg_counts = vg_counts + review_counts\n",
    "    \n",
    "    # Now let's organize these Counters into a DataFrame\n",
    "    \n",
    "    movie = pd.Series(1, index = vocab)\n",
    "    video_game = pd.Series(1, index = vocab)\n",
    "    # notice initializing to 1 -- Laplacian smoothing\n",
    "    \n",
    "    for word, count in vg_counts.items():\n",
    "        if word in vocabset:\n",
    "            video_game[word] += count\n",
    "    \n",
    "    for word, count in mov_counts.items():\n",
    "        if word in vocabset:\n",
    "            movie[word] += count\n",
    "    \n",
    "    all_prob = (movie + video_game) / (np.sum(movie) + np.sum(video_game))\n",
    "    \n",
    "    mov_prob = movie / np.sum(movie)\n",
    "    vg_prob = video_game / np.sum(video_game)\n",
    "    \n",
    "    # note that when we sum up the negative and positive\n",
    "    # columns, we are also summing up all the Laplacian 1's\n",
    "    # we initially added to them\n",
    "    \n",
    "    model = pd.concat([movie, video_game, all_prob, \n",
    "                       mov_prob, vg_prob], axis = 1) \n",
    "        \n",
    "    model.columns = ['mov', 'vg', 'all_prob', 'mov_prob', 'vg_prob']\n",
    "    \n",
    "    model['mov_norm'] = mov_prob / all_prob\n",
    "    model['vg_norm'] = vg_prob / all_prob\n",
    "    \n",
    "    \n",
    "    model['log_mov'] = [math.log(x) for x in model['mov_norm']] # using log to control for long floats, which are hard to handle\n",
    "    model['log_vg'] = [math.log(x) for x in model['vg_norm']]\n",
    "    \n",
    "    return vocab, vg_prior, mov_prior, model"
   ]
  },
  {
   "cell_type": "code",
   "execution_count": 64,
   "metadata": {
    "collapsed": false
   },
   "outputs": [
    {
     "name": "stdout",
     "output_type": "stream",
     "text": [
      "source\n",
      "mov     60\n",
      "vg     142\n",
      "Name: review, dtype: int64\n"
     ]
    },
    {
     "data": {
      "text/html": [
       "<div>\n",
       "<table border=\"1\" class=\"dataframe\">\n",
       "  <thead>\n",
       "    <tr style=\"text-align: right;\">\n",
       "      <th></th>\n",
       "      <th>mov</th>\n",
       "      <th>vg</th>\n",
       "      <th>all_prob</th>\n",
       "      <th>mov_prob</th>\n",
       "      <th>vg_prob</th>\n",
       "      <th>mov_norm</th>\n",
       "      <th>vg_norm</th>\n",
       "      <th>log_mov</th>\n",
       "      <th>log_vg</th>\n",
       "    </tr>\n",
       "  </thead>\n",
       "  <tbody>\n",
       "    <tr>\n",
       "      <th>the</th>\n",
       "      <td>1789</td>\n",
       "      <td>1814</td>\n",
       "      <td>0.053123</td>\n",
       "      <td>0.055713</td>\n",
       "      <td>0.050794</td>\n",
       "      <td>1.048759</td>\n",
       "      <td>0.956159</td>\n",
       "      <td>0.047607</td>\n",
       "      <td>-0.044831</td>\n",
       "    </tr>\n",
       "    <tr>\n",
       "      <th>a</th>\n",
       "      <td>981</td>\n",
       "      <td>1024</td>\n",
       "      <td>0.029562</td>\n",
       "      <td>0.030550</td>\n",
       "      <td>0.028673</td>\n",
       "      <td>1.033437</td>\n",
       "      <td>0.969935</td>\n",
       "      <td>0.032891</td>\n",
       "      <td>-0.030526</td>\n",
       "    </tr>\n",
       "    <tr>\n",
       "      <th>of</th>\n",
       "      <td>951</td>\n",
       "      <td>955</td>\n",
       "      <td>0.028102</td>\n",
       "      <td>0.029616</td>\n",
       "      <td>0.026741</td>\n",
       "      <td>1.053870</td>\n",
       "      <td>0.951563</td>\n",
       "      <td>0.052469</td>\n",
       "      <td>-0.049649</td>\n",
       "    </tr>\n",
       "    <tr>\n",
       "      <th>and</th>\n",
       "      <td>960</td>\n",
       "      <td>935</td>\n",
       "      <td>0.027940</td>\n",
       "      <td>0.029896</td>\n",
       "      <td>0.026181</td>\n",
       "      <td>1.070019</td>\n",
       "      <td>0.937043</td>\n",
       "      <td>0.067677</td>\n",
       "      <td>-0.065026</td>\n",
       "    </tr>\n",
       "    <tr>\n",
       "      <th>to</th>\n",
       "      <td>685</td>\n",
       "      <td>940</td>\n",
       "      <td>0.023959</td>\n",
       "      <td>0.021332</td>\n",
       "      <td>0.026321</td>\n",
       "      <td>0.890362</td>\n",
       "      <td>1.098580</td>\n",
       "      <td>-0.116127</td>\n",
       "      <td>0.094018</td>\n",
       "    </tr>\n",
       "  </tbody>\n",
       "</table>\n",
       "</div>"
      ],
      "text/plain": [
       "      mov    vg  all_prob  mov_prob   vg_prob  mov_norm   vg_norm   log_mov  \\\n",
       "the  1789  1814  0.053123  0.055713  0.050794  1.048759  0.956159  0.047607   \n",
       "a     981  1024  0.029562  0.030550  0.028673  1.033437  0.969935  0.032891   \n",
       "of    951   955  0.028102  0.029616  0.026741  1.053870  0.951563  0.052469   \n",
       "and   960   935  0.027940  0.029896  0.026181  1.070019  0.937043  0.067677   \n",
       "to    685   940  0.023959  0.021332  0.026321  0.890362  1.098580 -0.116127   \n",
       "\n",
       "       log_vg  \n",
       "the -0.044831  \n",
       "a   -0.030526  \n",
       "of  -0.049649  \n",
       "and -0.065026  \n",
       "to   0.094018  "
      ]
     },
     "execution_count": 64,
     "metadata": {},
     "output_type": "execute_result"
    }
   ],
   "source": [
    "vocab, vg_prior, mov_prior, model = train_nb_model(train_set, 5000)\n",
    "model.head()"
   ]
  },
  {
   "cell_type": "code",
   "execution_count": 58,
   "metadata": {
    "collapsed": false,
    "scrolled": false
   },
   "outputs": [
    {
     "data": {
      "text/html": [
       "<div>\n",
       "<table border=\"1\" class=\"dataframe\">\n",
       "  <thead>\n",
       "    <tr style=\"text-align: right;\">\n",
       "      <th></th>\n",
       "      <th>review</th>\n",
       "      <th>source</th>\n",
       "      <th>fold</th>\n",
       "    </tr>\n",
       "  </thead>\n",
       "  <tbody>\n",
       "    <tr>\n",
       "      <th>0</th>\n",
       "      <td>Teeming with acts both heroic and reprehensibl...</td>\n",
       "      <td>mov</td>\n",
       "      <td>4</td>\n",
       "    </tr>\n",
       "    <tr>\n",
       "      <th>21</th>\n",
       "      <td>More than once in “Karl Marx City,” a shrewd p...</td>\n",
       "      <td>mov</td>\n",
       "      <td>4</td>\n",
       "    </tr>\n",
       "    <tr>\n",
       "      <th>23</th>\n",
       "      <td>Riots or rebellion? Anarchy or insurrection? U...</td>\n",
       "      <td>mov</td>\n",
       "      <td>4</td>\n",
       "    </tr>\n",
       "    <tr>\n",
       "      <th>28</th>\n",
       "      <td>“Born in China” is the latest installment in t...</td>\n",
       "      <td>mov</td>\n",
       "      <td>4</td>\n",
       "    </tr>\n",
       "    <tr>\n",
       "      <th>46</th>\n",
       "      <td>As a title, “A Woman, A Part” both reveals and...</td>\n",
       "      <td>mov</td>\n",
       "      <td>4</td>\n",
       "    </tr>\n",
       "  </tbody>\n",
       "</table>\n",
       "</div>"
      ],
      "text/plain": [
       "                                               review source  fold\n",
       "0   Teeming with acts both heroic and reprehensibl...    mov     4\n",
       "21  More than once in “Karl Marx City,” a shrewd p...    mov     4\n",
       "23  Riots or rebellion? Anarchy or insurrection? U...    mov     4\n",
       "28  “Born in China” is the latest installment in t...    mov     4\n",
       "46  As a title, “A Woman, A Part” both reveals and...    mov     4"
      ]
     },
     "execution_count": 58,
     "metadata": {},
     "output_type": "execute_result"
    }
   ],
   "source": [
    "test_set.head()"
   ]
  },
  {
   "cell_type": "markdown",
   "metadata": {
    "collapsed": false
   },
   "source": [
    "## Testing \n",
    "Now, after training the model, it's time to apply it to the test data and check the results"
   ]
  },
  {
   "cell_type": "code",
   "execution_count": 65,
   "metadata": {
    "collapsed": false
   },
   "outputs": [],
   "source": [
    "# Check out textblob that has a built-in sentiment and subjectivity analysis method.\n",
    "pd.options.mode.chained_assignment = None\n",
    "\n",
    "def apply_model(vocab, vg_prior, mov_prior, model, testset):\n",
    "    right = 0\n",
    "    wrong = 0\n",
    "    vocabset = set(vocab)\n",
    "    odds_vg = []\n",
    "    odds_mov = []\n",
    "\n",
    "    for i in testset.index:\n",
    "        odds_videogame = vg_prior\n",
    "        odds_movie = mov_prior\n",
    "        review = testset['review'][i]\n",
    "        review_counts = tokenize(review)\n",
    "        for word, count in review_counts.items():\n",
    "            if word not in vocabset:\n",
    "                continue\n",
    "            odds_videogame += model.loc[word, 'log_vg']\n",
    "            odds_movie += model.loc[word, 'log_mov']\n",
    "            \n",
    "        if odds_videogame > odds_movie:\n",
    "            prediction = 'vg'\n",
    "        else:\n",
    "            prediction = 'mov'\n",
    "        \n",
    "        odds_vg.append(odds_videogame)\n",
    "        odds_mov.append(odds_movie)\n",
    "\n",
    "        reality = categorize(testset, i)\n",
    "        if reality != 'vg' and reality != 'mov':\n",
    "            continue\n",
    "        elif prediction == reality:\n",
    "            right += 1\n",
    "        else:\n",
    "            wrong += 1\n",
    "\n",
    "    print(\"Got \" + str(right) + \" rows right, and \" + str(wrong) + \" wrong.\")\n",
    "    accuracy = (right / (wrong + right)) * 100\n",
    "    print(\"Accuracy was {0:.2f}%\".format(accuracy))\n",
    "    \n",
    "    resultset = test_set.copy()\n",
    "    resultset['odds_videogame'] = odds_vg\n",
    "    resultset['odds_movie'] = odds_mov\n",
    "    resultset = resultset.sort_values(by = 'odds_videogame')\n",
    "    \n",
    "    return resultset, accuracy"
   ]
  },
  {
   "cell_type": "code",
   "execution_count": 66,
   "metadata": {
    "collapsed": false
   },
   "outputs": [
    {
     "name": "stdout",
     "output_type": "stream",
     "text": [
      "Got 49 rows right, and 1 wrong.\n",
      "Accuracy was 98.00%\n"
     ]
    }
   ],
   "source": [
    "newtestset, accuracy = apply_model(vocab, vg_prior, mov_prior, model, test_set)"
   ]
  },
  {
   "cell_type": "code",
   "execution_count": 61,
   "metadata": {
    "collapsed": false
   },
   "outputs": [],
   "source": [
    "def five_fold_cross_valid(df, p):\n",
    "    accuracies = []\n",
    "    for i in range(5):\n",
    "        revdf_test_set = df[df['fold'] == i]\n",
    "        revdf_training_set = df[df['fold'] != i] \n",
    "        vocab, vg_prior, mov_prior, model = train_nb_model(revdf_training_set, p)\n",
    "        revdf_test_set, accuracy = apply_model(vocab, vg_prior, mov_prior, model, test_set)\n",
    "        accuracies.append(accuracy)\n",
    "    avg_acc = print('Average accuracy is ', round(sum(accuracies)/len(accuracies),2), '%')\n",
    "    return avg_acc"
   ]
  },
  {
   "cell_type": "code",
   "execution_count": 67,
   "metadata": {
    "collapsed": false
   },
   "outputs": [
    {
     "name": "stdout",
     "output_type": "stream",
     "text": [
      "source\n",
      "mov     65\n",
      "vg     143\n",
      "Name: review, dtype: int64\n",
      "Got 50 rows right, and 0 wrong.\n",
      "Accuracy was 100.00%\n",
      "source\n",
      "mov     57\n",
      "vg     144\n",
      "Name: review, dtype: int64\n",
      "Got 50 rows right, and 0 wrong.\n",
      "Accuracy was 100.00%\n",
      "source\n",
      "mov     62\n",
      "vg     139\n",
      "Name: review, dtype: int64\n",
      "Got 50 rows right, and 0 wrong.\n",
      "Accuracy was 100.00%\n",
      "source\n",
      "mov     60\n",
      "vg     142\n",
      "Name: review, dtype: int64\n",
      "Got 49 rows right, and 1 wrong.\n",
      "Accuracy was 98.00%\n",
      "source\n",
      "mov     64\n",
      "vg     132\n",
      "Name: review, dtype: int64\n",
      "Got 50 rows right, and 0 wrong.\n",
      "Accuracy was 100.00%\n",
      "Average accuracy is  99.6 %\n"
     ]
    }
   ],
   "source": [
    "five_fold_cross_valid(review_data, 2500)"
   ]
  },
  {
   "cell_type": "code",
   "execution_count": 87,
   "metadata": {
    "collapsed": false
   },
   "outputs": [
    {
     "name": "stdout",
     "output_type": "stream",
     "text": [
      "Average sentiment of VG reviews in corpus is 0.07842215108200824\n",
      "Average sentiment of MOV reviews in corpus is 0.12921615440100293\n",
      "\n",
      "\n",
      "Average objectivity of VG reviews in corpus is 0.5027806270815656\n",
      "Average objectivity of MOV reviews in corpus is 0.4748284952346567\n"
     ]
    }
   ],
   "source": [
    "from textblob import TextBlob\n",
    "\n",
    "vg_sent_list = [ ]\n",
    "mov_sent_list = [ ]\n",
    "\n",
    "for i in review_data.index:\n",
    "        review = review_data['review'][i]\n",
    "        rev_blob = TextBlob(review)\n",
    "        if review_data['source'][i] == 'vg':\n",
    "            vg_sent_list.append(rev_blob.sentiment)\n",
    "        elif review_data['source'][i] == 'mov':\n",
    "            mov_sent_list.append(rev_blob.sentiment)\n",
    "        \n",
    "# testimonial = TextBlob(\"Textblob is amazingly simple to use. What great fun!\")\n",
    "# testimonial.sentiment\n",
    "# testimonial.sentiment.polarity\n",
    "\n",
    "vg_sent_only = []\n",
    "mov_sent_only = []\n",
    "mov_obj = []\n",
    "vg_obj = []\n",
    "\n",
    "for item in vg_sent_list:\n",
    "    sentiment = item[0]\n",
    "    objectivity = item[1]\n",
    "    vg_sent_only.append(sentiment)\n",
    "    vg_obj.append(objectivity)\n",
    "    \n",
    "# print(vg_sent_only)\n",
    "\n",
    "for item in mov_sent_list:\n",
    "    sentiment = item[0]\n",
    "    objectivity = item[1]\n",
    "    mov_sent_only.append(sentiment)\n",
    "    mov_obj.append(objectivity)\n",
    "    \n",
    "# print(mov_sent_only)\n",
    "\n",
    "vg_sent_avg = sum(vg_sent_only)/len(vg_sent_only)\n",
    "mov_sent_avg = sum(mov_sent_only) / len(mov_sent_only)\n",
    "mov_obj_avg = sum(mov_obj) / len(mov_obj)\n",
    "vg_obj_avg = sum(vg_obj) / len(vg_obj)\n",
    "\n",
    "print('Average sentiment of VG reviews in corpus is', vg_sent_avg)\n",
    "print('Average sentiment of MOV reviews in corpus is', mov_sent_avg)\n",
    "print('\\n')\n",
    "print('Average objectivity of VG reviews in corpus is', vg_obj_avg)\n",
    "print('Average objectivity of MOV reviews in corpus is', mov_obj_avg)\n",
    "\n",
    "# Maybe look at median sentiment--how many are polar emotional reviews vs. neutral, and see if difference between classes\n",
    "# plotting sentiments of each review for each class, and look at distribution--helps with statistical significance\n",
    "#   Ideally be looking for something non-normal in distribution. Scipy.stats--see link in tab"
   ]
  },
  {
   "cell_type": "markdown",
   "metadata": {},
   "source": [
    "## Plotting for better comparison\n",
    "This data is great, but it can be hard to compare directly, both because of the difficulty of visualizing difference between such long floats and because of the need to see the distribution for each figure, which will be more enlightening. To do this, we'll convert the lists of sentiment and objectivty into data frames and then plot them against each other. Here's how, using a subplot call:"
   ]
  },
  {
   "cell_type": "code",
   "execution_count": 152,
   "metadata": {
    "collapsed": false
   },
   "outputs": [
    {
     "name": "stdout",
     "output_type": "stream",
     "text": [
      "Sentiment distributions compared:\n"
     ]
    },
    {
     "data": {
      "image/png": "[encoded data removed]",
      "text/plain": [
       "<matplotlib.figure.Figure at 0x11bda8080>"
      ]
     },
     "metadata": {},
     "output_type": "display_data"
    }
   ],
   "source": [
    "vg_obj_df = pd.DataFrame(vg_obj)\n",
    "# vg_obj_df.head()\n",
    "\n",
    "vg_sent_df = pd.DataFrame(vg_sent_only)\n",
    "# vg_sent_df.head()\n",
    "\n",
    "mov_obj_df = pd.DataFrame(mov_obj)\n",
    "# mov_obj_df.head()\n",
    "\n",
    "mov_sent_df = pd.DataFrame(mov_sent_only)\n",
    "# mov_sent_df.head()\n",
    "\n",
    "mylabels = ['vg', 'mov']\n",
    "a = vg_sent_df.plot()\n",
    "mov_sent_df.plot(ax=a)\n",
    "print('Sentiment distributions compared:')\n",
    "plt.legend(mylabels)\n",
    "plt.show()"
   ]
  },
  {
   "cell_type": "code",
   "execution_count": 155,
   "metadata": {
    "collapsed": false
   },
   "outputs": [
    {
     "name": "stdout",
     "output_type": "stream",
     "text": [
      "Objectivity of sentiment distrubitions compared:\n"
     ]
    },
    {
     "data": {
      "image/png": "[encoded data removed]",
      "text/plain": [
       "<matplotlib.figure.Figure at 0x11b0cc748>"
      ]
     },
     "metadata": {},
     "output_type": "display_data"
    }
   ],
   "source": [
    "c = vg_obj_df.plot()\n",
    "mov_obj_df.plot(ax=c)\n",
    "print('Objectivity of sentiment distrubitions compared:')\n",
    "plt.legend(mylabels)\n",
    "plt.show()"
   ]
  },
  {
   "cell_type": "code",
   "execution_count": 156,
   "metadata": {
    "collapsed": true
   },
   "outputs": [],
   "source": [
    "# Now, let's take a look at the actual top and bottom words associated with each class.\n",
    "# For this, we need to bring in some functions adapted from work of Ted Underwood\n",
    "def addcounters(counter2add, countersum):\n",
    "    ''' Adds all the counts in counter2add to countersum.'''\n",
    "    \n",
    "    for key, value in counter2add.items():\n",
    "        countersum[key] += value\n",
    "        \n",
    "def headandtail(tuplelist, n):\n",
    "    tuplelist.sort(reverse = True)\n",
    "    print(\"TOP VALUES:\")\n",
    "    for i in range(n):\n",
    "        print(tuplelist[i][1], tuplelist[i][0])\n",
    "    \n",
    "    print()\n",
    "    print(\"BOTTOM VALUES:\")\n",
    "    lastindex = len(tuplelist) - 1\n",
    "    for i in range(lastindex, lastindex - n, -1):\n",
    "        print(tuplelist[i][1], tuplelist[i][0])\n",
    "\n",
    "def logodds(countsA, countsB, word):\n",
    "    ''' Straightforward.\n",
    "    '''\n",
    "    \n",
    "    odds = (countsA[word] + 1) / (countsB[word] + 1)\n",
    "    \n",
    "    # Why do we add 1 on both sides? Two reasons. The hacky one is \n",
    "    # that otherwise we'll get a division-by-zero error whenever\n",
    "    # word isn't present in countsB. The more principled reason\n",
    "    # is that this technique (called Laplacian smoothing) tends\n",
    "    # to reduce the dramatic disproportion likely to be found in\n",
    "    # very rare words.\n",
    "    \n",
    "    return math.log(odds)\n",
    "\n",
    "def signed_dunnings(countsA, totalA, countsB, totalB, word):\n",
    "    ''' Less straightforward. This function calculates a signed (+1 / -1)\n",
    "    version of Dunning's log likelihood. Intuitively, this is a number \n",
    "    that gets larger as the frequency of the word in our two corpora\n",
    "    diverges from its EXPECTED frequency -- i.e., the frequency it would\n",
    "    have if it were equally distributed over both. But it also tends to get\n",
    "    larger as the raw frequency of the word increases.\n",
    "    \n",
    "    Note that this function requires two additional arguments:\n",
    "    the total number of words in A and B. We could calculate that inside\n",
    "    the function, but it's faster to calculate it just once, outside the function.\n",
    "    \n",
    "    Also note: the strict definition of Dunnings has no 'sign': it gets bigger\n",
    "    whether a word is overrepresented in A or B. I've edited that so that Dunnings\n",
    "    is positive if overrepresented in A, and negative if overrepresented in B.\n",
    "    '''\n",
    "    if word not in countsA and word not in countsB:\n",
    "        return 0\n",
    "    \n",
    "    # the raw frequencies of this word in our two corpora\n",
    "    # still doing a little Laplacian smoothing here\n",
    "    a = countsA[word] + 0.1\n",
    "    b = countsB[word] + 0.1\n",
    "    \n",
    "    # now let's calculate the expected number of times this\n",
    "    # word would occur in both if the frequency were constant\n",
    "    # across both\n",
    "    overallfreq = (a + b) / (totalA + totalB)\n",
    "    expectedA = totalA * overallfreq\n",
    "    expectedB = totalB * overallfreq\n",
    "    \n",
    "    # and now the Dunning's formula\n",
    "    dunning = 2 * ((a * math.log(a / expectedA)) + (b * math.log(b / expectedB)))\n",
    "    \n",
    "    if a < expectedA:\n",
    "        return -dunning\n",
    "    else:   \n",
    "        return dunning\n"
   ]
  },
  {
   "cell_type": "code",
   "execution_count": 109,
   "metadata": {
    "collapsed": false
   },
   "outputs": [
    {
     "name": "stdout",
     "output_type": "stream",
     "text": [
      "Total vocab =  13516\n",
      "Total vocab minus stop words =  13492\n"
     ]
    }
   ],
   "source": [
    "# Now, it's time to see the words most prevalent in each set of reviews.\n",
    "\n",
    "# First, we create a vocab. The create_vocab fucntion takes text and 'n' which is a stand-in for max size of the vocab.\n",
    "#  I'm going to try to capture all words, even though it's not necessary. It provides more flexibility for analysis,\n",
    "#  though.\n",
    "\n",
    "rev_vocab = create_vocab(review_data['review'], 20000)\n",
    "print('Total vocab = ', len(rev_vocab))\n",
    "\n",
    "# a list of common stop words to use for removing frequent words that are unenlightening:\n",
    "stopwords = {'a', 'an', 'are', 'and', 'but', 'or', 'that', 'this', 'so', \n",
    "             'all', 'at', 'if', 'in', 'i', 'is', 'was', 'by', 'of', 'to', \n",
    "             'the', 'be', 'you', 'were', '–', '\"'}\n",
    "\n",
    "# Removing stopwords for more enlightening results\n",
    "rev_vocab_nostop = list(set(rev_vocab) - stopwords)\n",
    "print('Total vocab minus stop words = ', len(rev_vocab_nostop))"
   ]
  },
  {
   "cell_type": "code",
   "execution_count": 110,
   "metadata": {
    "collapsed": false
   },
   "outputs": [
    {
     "name": "stdout",
     "output_type": "stream",
     "text": [
      "Total number of rows in test_review_data dataset =  252\n",
      "Total movie review words =  9550\n",
      "Total video game review words =  7026\n"
     ]
    }
   ],
   "source": [
    "video_game = Counter()\n",
    "movie = Counter()\n",
    "\n",
    "num_rows = review_data.shape[0]\n",
    "print('Total number of rows in test_review_data dataset = ', num_rows)\n",
    "\n",
    "# Figure out how many rows are in the Trump DataFrame\n",
    "# and put that number in a variable like 'numrows.'\n",
    "# Then iterate through the 'text' column of the data frame.\n",
    "\n",
    "for i in range(num_rows):\n",
    "    counts = tokenize(review_data['review'][i])\n",
    "    if 'mov' in review_data['source'][i]:\n",
    "        addcounters(counts, movie)\n",
    "    elif 'vg' in review_data['source'][i]:\n",
    "        addcounters(counts, video_game)\n",
    "\n",
    "vg_count = len(video_game)\n",
    "mov_count = len(movie)\n",
    "\n",
    "print('Total movie review words = ', mov_count)\n",
    "print('Total video game review words = ', vg_count)"
   ]
  },
  {
   "cell_type": "code",
   "execution_count": 111,
   "metadata": {
    "collapsed": false
   },
   "outputs": [
    {
     "name": "stdout",
     "output_type": "stream",
     "text": [
      "FOR LOG ODDS:\n",
      "TOP VALUES:\n",
      "– 4.804021044733257\n",
      "games 4.110873864173311\n",
      "enemies 3.713572066704308\n",
      "puzzles 3.4011973816621555\n",
      "game 3.3758795736778655\n",
      "gameplay 3.332204510175204\n",
      "cards 3.295836866004329\n",
      "resi 3.1780538303479458\n",
      "main 3.1780538303479458\n",
      "card 3.1780538303479458\n",
      "campaign 3.1354942159291497\n",
      "voodoo 3.091042453358316\n",
      "game’s 3.091042453358316\n",
      "extra 2.995732273553991\n",
      "units 2.9444389791664403\n",
      "you’re 2.9267394020670396\n",
      "player 2.8903717578961645\n",
      "missions 2.8903717578961645\n",
      "i’m 2.8903717578961645\n",
      "halo 2.8903717578961645\n",
      "wars 2.833213344056216\n",
      "collect 2.772588722239781\n",
      "thimbleweed 2.70805020110221\n",
      "myself 2.70805020110221\n",
      "options 2.6390573296152584\n",
      "\n",
      "BOTTOM VALUES:\n",
      "film -4.350277936359301\n",
      "director -3.871201010907891\n",
      "documentary -3.6635616461296463\n",
      "fawcett -3.332204510175204\n",
      "olli -3.1780538303479458\n",
      "films -3.1354942159291497\n",
      "michael -3.1354942159291497\n",
      "movies -3.1354942159291497\n",
      "norman -3.1354942159291497\n",
      "directed -3.044522437723423\n",
      "drama -3.044522437723423\n",
      "wife -3.044522437723423\n",
      "“the -3.044522437723423\n",
      "french -2.995732273553991\n",
      "film’s -2.9444389791664407\n",
      "ms -2.9444389791664407\n",
      "audiences -2.890371757896165\n",
      "james -2.833213344056216\n",
      "john -2.833213344056216\n",
      "tommy -2.833213344056216\n",
      "“a -2.833213344056216\n",
      "audience -2.772588722239781\n",
      "british -2.772588722239781\n",
      "film's -2.772588722239781\n",
      "filmmaker -2.772588722239781\n",
      "\n",
      "\n",
      "FOR DUNNINGS:\n",
      "TOP VALUES:\n",
      "his 163.50389043775527\n",
      "film 158.75348353237396\n",
      "he 122.28132192876419\n",
      "her 80.85521129722653\n",
      "movie 61.42719052927957\n",
      "“the 53.59590451095252\n",
      "director 50.68374971077046\n",
      "documentary 40.8006465722928\n",
      "mr 37.91713929034529\n",
      "she 34.89678958514073\n",
      "who 34.00815747855843\n",
      "whose 32.13469584935861\n",
      "young 29.136380632237973\n",
      "life 28.87205448363585\n",
      "fawcett 28.737552715500524\n",
      "olli 24.358111518437607\n",
      "school 23.506331042204007\n",
      "norman 23.264113566434126\n",
      "movies 23.264113566434126\n",
      "michael 23.264113566434126\n",
      "films 23.264113566434126\n",
      "baby 22.481672545716464\n",
      "woman 21.45989468751975\n",
      "wife 21.077381397107093\n",
      "drama 21.077381397107093\n",
      "\n",
      "BOTTOM VALUES:\n",
      "game -343.9958205719624\n",
      "your -254.88368525568876\n",
      "my -123.10435677865789\n",
      "can -109.74352571888875\n",
      "games -101.80266278872595\n",
      "me -89.94332574960129\n",
      "it -88.26860098699854\n",
      "you’re -78.90349339002009\n",
      "enemies -67.54997412845613\n",
      "get -56.387626253408044\n",
      "more -54.87583558735663\n",
      "it’s -52.92640161822442\n",
      "them -50.29104439545396\n",
      "players -49.951960166448785\n",
      "puzzles -48.73056481121615\n",
      "gameplay -45.31142715054672\n",
      "cards -43.60225610606544\n",
      "every -41.87525794544209\n",
      "just -41.20908492992229\n",
      "playing -41.13224514379124\n",
      "up -39.096506746910805\n",
      "card -38.47659714829177\n",
      "main -38.47659714829177\n",
      "resi -38.47659714829177\n",
      "don’t -36.83731310242366\n"
     ]
    }
   ],
   "source": [
    "# When you get around to running Dunning's, you'll need to\n",
    "# create variables that hold the total count of *all words*\n",
    "# in iphone and android.\n",
    "\n",
    "total_words = Counter()\n",
    "addcounters(video_game, total_words)\n",
    "addcounters(movie, total_words)\n",
    "\n",
    "# print('Total word count = ', len(total_words))\n",
    "\n",
    "# Create an empty list to hold pairs of (overrepresentation_measure, word)\n",
    "# Then iterate through your vocabulary. For each word, measure \n",
    "# overrepresentation using either logodds or signed_dunnings.\n",
    "# Create a tuple, (overrepresentation_measure, word)\n",
    "# and append it to the empty list you created.\n",
    "\n",
    "overrep_words_log = []\n",
    "overrep_words_dunnings = []\n",
    "\n",
    "for wrd in rev_vocab_nostop:\n",
    "    x = signed_dunnings(movie, mov_count, video_game, vg_count, wrd)\n",
    "    overrep_words_dunnings.append((x, wrd))\n",
    "\n",
    "for word in rev_vocab:\n",
    "    x = logodds(video_game, movie, word)\n",
    "    overrep_words_log.append((x, word))\n",
    "\n",
    "# Finally use the headandtail function to display the top 25 and bottom 25\n",
    "# words in your tuplelist.\n",
    "\n",
    "print('FOR LOG ODDS:')\n",
    "headandtail(overrep_words_log, 25)\n",
    "print('\\n')\n",
    "print('FOR DUNNINGS:')\n",
    "headandtail(overrep_words_dunnings, 25)"
   ]
  },
  {
   "cell_type": "markdown",
   "metadata": {},
   "source": [
    "## Findings\n"
   ]
  },
  {
   "cell_type": "code",
   "execution_count": null,
   "metadata": {
    "collapsed": true
   },
   "outputs": [],
   "source": []
  }
 ],
 "metadata": {
  "anaconda-cloud": {},
  "kernelspec": {
   "display_name": "Python [conda root]",
   "language": "python",
   "name": "conda-root-py"
  },
  "language_info": {
   "codemirror_mode": {
    "name": "ipython",
    "version": 3
   },
   "file_extension": ".py",
   "mimetype": "text/x-python",
   "name": "python",
   "nbconvert_exporter": "python",
   "pygments_lexer": "ipython3",
   "version": "3.5.3"
  }
 },
 "nbformat": 4,
 "nbformat_minor": 1
}
