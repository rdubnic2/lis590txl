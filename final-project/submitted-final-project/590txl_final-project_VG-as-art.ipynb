{
 "cells": [
  {
   "cell_type": "markdown",
   "metadata": {},
   "source": [
    "![Red Dead Redemption photo courtesy Rockstar Games](590txl_banner_image_lg.png)\n",
    "*Red Dead Redemption* photo courtesy Rockstar Games"
   ]
  },
  {
   "cell_type": "markdown",
   "metadata": {},
   "source": [
    "# Video Games as Art: An Analysis of Review Language\n",
    "Ryan Dubnicek (May 8, 2017)\n"
   ]
  },
  {
   "cell_type": "markdown",
   "metadata": {},
   "source": [
    "### Introduction\n",
    "In this project—the final of my LIS 590TXL course at UIUC—I sought to analyze video game reviews versus film reviews from a number of reputable sites using Python and a few different methods. The chief research question is how reviews differ in their tone and language. This was spurred by a number of high-profile debates of whether or note video games are art, something that films have been considered for many years, capped by Roger Ebert's famous rejection of the medium as being capable of producing art. If video games are considered art by the journalists/writers who cover them, are they treated the same in their reviews? Put more simply: do journalists speak about them in the same ways that high-profile film reviewers for The New York Times, Washington Post, Rolling Stone, Boston Globe, Chicago Tribune and LA Times speak about their subjects? In order to answer this question, the first hurdle was compiling a corpus of review data to analyze, achieved using BeautifulSoup, a Python library, to scrape and clean HTML contents of the review pages (the URLs for which were manually compiled). Then, the data required cleaning, both manually and using a regular expression to remove the HTML tag artifacts from the data. In the end, my total corpus covered 77 movie reviews from the above listed outlets, from tens of authors as well as 130 reviews from outlets Giant Bomb, Game Informer, Rock, Paper, Shotgun and Destructoid, also covering tens of authors.\n",
    "\n",
    "Once the data was compiled, I imported it into Pandas data frames and started formatting the data frames for successful construction of a predictive model, using a [naïve Bayes classifier]( https://en.wikipedia.org/wiki/Naive_Bayes_classifier). A big piece of this work was choosing a sample of the game review data in order to not stack the deck against the movie reviews by having a large disparity in review data for games over movies. I chose to take a random sample of 175 chunks from the video game review data that got as close as possible to the total amount of data in the movie review data. In the end, the video game reviews encompassed about 500 extra words than the movie review data, but out of a total combined corpus of over 50,000 words, this shouldn't make a difference to the results. Training on 80% of my corpus, and testing on the remaining 20%, I was able to achieve a high success rate of the classifier correctly identifying the two types of reviews. Building a classifier is relatively useless without understanding your success or failure, so I took a closer look at results by using TextBlob to analyze sentiment and the objectivity (essentially accuracy) of sentiment, as well as using Dunnings log likelihood and regular log likelihood to take a look at the most likely and least likely words for each class of review.\n",
    "\n",
    "My conclusions (admittedly really only a proof-of-concept wrapped into a test analysis, when compared to a rigorous study) were slightly surprising. Ownership as a theme was highly prevalent in video game reviews, with possessive words like \"your\" and \"my\" were among the words most likely to show up in game reviews as compared to movie reviews, as were general references to the player, such as \"I'm\" and \"myself.\" This is a nice, simple illustration of the connection between games and their players, as compared to that of films and their viewers. It is also a hint to the less formal style of video game reviews. This thread works well with my sentiment analysis results, as video game reviews were found to have far more range in sentiment when compared to more even-keeled movie reviews, another piece of evidence supporting disparity in formality of writing. Though perhaps not unexpected conclusions, being able to support these ideas without employment of anecdotal evidence, and across thousands of words worth of reviews from 4 different outlets, and many different reviewers is a substantial development."
   ]
  },
  {
   "cell_type": "markdown",
   "metadata": {},
   "source": [
    "### Research Question\n",
    "My research question is relatively simple: what can we learn about movie reviews and video games when testing 1) if they can be reliably classified in comparison to each other; 2) what the most and least likely words are for each class; and 3) when examining sentiment? A lot is written and said by video game fans, journalists, developers, producers and studios about the medium's status as art, most often with individuals representing these communities lamenting the general skepticism to video games as art. But do journalists speak about video games the same way that journalists speak about movies? For many, a review is the first entry to a piece--film or game--and the language used can influence the readers' perceptions not just of the particular work, but also of the medium as a whole. And though the old adage of someone not being taken seriously until they take themselves seriously is not always true, that video game players, reviewers and studios are hesitant to take on the mantal of professionalism as the other art forms know it has been a prominent point of discussion both within their own community and in the general populace. Things like [Gamergate](https://en.wikipedia.org/wiki/Gamergate_controversy) and the myriad of examples of [conflicts of interest within video game journalism](https://en.wikipedia.org/wiki/Video_game_journalism#Conflicts_of_interest_and_pressure_from_game_publishers) and inflitration of said journalism by the studios and developers themselves are high-profile examples of problems in the video game community that influence it's perception within the general populace. Understanding the tangible differences between language and sentiment in film reviews and video game reviews could either refute or reaffirm the idea that the games community has a lot of improvement to do within its own circles first, as well as provide potential steps for correction."
   ]
  },
  {
   "cell_type": "markdown",
   "metadata": {},
   "source": [
    "### Related Work\n",
    "Surprisingly I didn’t really find any similar projects that focused on video game reviews. Iny my literature review process, I found a few articles that have focused on mining movie reviews, and various subsequent tasks such as genre classification, sentiment analysis, etc. These are at least slightly indicative that this type of inquiry has value and is happening, but the application and broader impact is likely limited, given the lack of attention placed on the video game industry. However, it's important to note that there is generally little focus on video games, as compared to other art forms, from the typical scholarly/academic outlets that would usually both value and fund this type of inquiry. This despite that it has been found that video game players are [generally more computer literate](https://www.researchgate.net/publication/257171429_Are_heavy_users_of_computer_games_and_social_media_more_computer_literate), signalling the importance of more research into how people interact with video games, what it might mean for development, both intellectual and emotional, and how it compares to other types of art stimulus.\n",
    "\n",
    "I was also unable to find much about the web scraping/mining process for movie and video game reviews. Little has been written about scraping reviews of video games or movie reviews from news sources, which could just be a result from it's gray legal status, with many news outlets preventing the scraping of their content (even when it's for non-consumptive use, such as in this instance) through their own web security or by building a ban on it into their terms of use/service. This contextualizes why it's easier to find work that has been done on user reviews, which are often exempt from such restrictions. I found one such project via an interesting paper that was presented at ACM SIGCHI Annual Symposium on Computer-Human Interaction in Play (for more succinctly referred to as *CHI PLAY*). This paper covers scraping PlayStation Network user data to look at achievements and [better understand how people play](https://www.scopus.com/inward/record.uri?eid=2-s2.0-84995474896&doi=10.1145%2f2967934.2968112&partnerID=40&md5=10b5f941688a2f3311b2bb416bdd4ac4). Unfortunately, this is one article not available to me as a student at UIUC, and I was unable to find full text. The abstract hints that their findings uncovered a number of influential factors on players' behavior in-game--less directly relevant to my research question, but likely showcasing methods that might be helpful to this project.\n",
    "\n",
    "The amount of literature pertaining to scraping movie reviews is basically the same, with most focus on scraping user reviews and ratings, but not necessarily the reviews from the major media outlets. There were some interesting individual projects though, such as one that seeks to [guess genre of movies based on their reviews](https://github.com/rahulpenti/Scraping), as well as one that focused on general movie review [scraping and sentiment analysis](https://rstudio-pubs-static.s3.amazonaws.com/230684_e473986b469d447887b590d9499bedb7.html), albeit using R. In the back of my mind during this project was also the great work from FiveThirtyEight [analyzing revenues brought in by movies](https://fivethirtyeight.com/features/the-dollar-and-cents-case-against-hollywoods-exclusion-of-women/), based on if they passed the [Bechdel Test](https://en.wikipedia.org/wiki/Bechdel_test). FiveThirtyEight also released a [follow-up](https://fivethirtyeight.com/datalab/the-bechdel-test-checking-our-work/) that links to a post-doctoral researcher's replication of their first studio, which was helpful to review and occasionally consult for ideas.\n",
    "\n",
    "The lack of focus and guidance specific to my subject data was both encouraging and slightly discouraging. Lack of direct work in this realm illustrates that it is at least a semi-novel project, but also made my life more difficult when I hit a wall or ran into quirks with my specific data (as I did several times). There's also caution to be heeded from the lack of material, as we may not yet exactly know just what this data means about the reviews of each medium, and the people who read and write them."
   ]
  },
  {
   "cell_type": "markdown",
   "metadata": {},
   "source": [
    "### Data Collection\n",
    "Data collection was truly my greatest hurdle on this project, and I estimate at least 75% of my time was spent in this phase. As stated, my aim was to scrape movie and video game reviews from various websites, and export them into a simple text file for each class of review (movie or video game). This is a complicated task, both practically and intellectually, as most outlets do not allow for web scraping, either through security measures on their own websites, or through inclusion of rules against this type of behavior in terms of use. Since I was ascribing to a non-consumptive data use policy, such as [that of HathiTrust Research Center](https://www.hathitrust.org/htrc_ncup), I decided to go ahead with my scraping, as it would not violate any intellectual property concerns. Further, I was making so few queries (< 100 for each website), and made sure to stagger them by 1 second each so as to not overload their servers.\n",
    "\n",
    "My first instinct was to check if an outlet like The New York Times offered a data API through which to interact with their content. They do offer [a number of APIs](https://developer.nytimes.com/), including one for their movie reviews, however none of them provide direct access to data (rather unsurprisingly, given their business model).\n",
    "\n",
    "Second, I looked for Python libraries that might address the challenges of both compiling URLs to articles online and then pulling the full text from them. I experimented with a package called [`Newspaper`](https://newspaper.readthedocs.io/en/latest/) for Python. This package was able to build a `Newspaper` object that could pull all articles from a given domain or subdomain and manipulate them so that they could be printed and output into other variable for text analysis. `Newspaper` seemed a great option, but it had a caching mechanic that would cause me to lose the articles in the object if I made the call to create the `Newspaper` object more than once. The documentation for the library was relativley poor, and I was unable to overcome this piece. I then looked briefly into [Scrapy](https://scrapy.org/), but it proved to be a bit too steep of a learning curve.\n",
    "\n",
    "In the end, I employed BeautifulSoup to scrape HTML, both for finding the links to the articles and for getting the article text. I'm pretty familiar with BeautifulSoup, which helped in what was a long and tedious a process. First, to gather URLs for articles, I plugged the sub-domain which hosted reviews of the site I was scraping into a variable and created a BeautifulSoup (henceforth unelegantly shortened to \"BS\" in this write-up) object and made a call for pages' text. Using a `for` loop, I then iteratively found all `<a>` tags and then the `<href>` tags, which held URLs, within the `<a>` sections, and added them to a list:"
   ]
  },
  {
   "cell_type": "code",
   "execution_count": 51,
   "metadata": {
    "collapsed": true
   },
   "outputs": [],
   "source": [
    "# lots of imports we'll need in our data collection and analysis\n",
    "import pandas as pd\n",
    "import numpy as np\n",
    "import requests, os, urllib\n",
    "from bs4 import BeautifulSoup\n",
    "from bs4.diagnose import diagnose\n",
    "import random\n",
    "import time\n",
    "import re"
   ]
  },
  {
   "cell_type": "code",
   "execution_count": 4,
   "metadata": {
    "collapsed": false
   },
   "outputs": [],
   "source": [
    "url = ('www.rockpapershotgun.com/pc-game-reviews/')\n",
    "r  = requests.get(\"https://\" + url)\n",
    "data = r.text\n",
    "soup = BeautifulSoup(data)\n",
    "\n",
    "rps_rev_list = []\n",
    "\n",
    "for link in soup.find_all('a'):\n",
    "    url = link.get('href')\n",
    "    # print(url)\n",
    "    if url not in rps_rev_list:\n",
    "        rps_rev_list.append(url)"
   ]
  },
  {
   "cell_type": "markdown",
   "metadata": {},
   "source": [
    "(Don't worry if the above throws an error because we didn't specify a parser. The default, \"lxml,\" is what we wanted anyway) This list was not safe from needing it's own cleaning, as at least half of the URLs returned were often irrelevant or in need of removing hanging HTML tags, and were almost solely not full URLs, but partial ones starting from teh subdomain from which they were scraped. In order to clean the list of irrelevant URLs (such as those that were from the sidebar, header or footer) and get complete URLs, I used two simple `for` loops:"
   ]
  },
  {
   "cell_type": "code",
   "execution_count": null,
   "metadata": {
    "collapsed": true
   },
   "outputs": [],
   "source": [
    "for item in rps_rev_list:\n",
    "    if item[0:38] == 'https://www.rockpapershotgun.com/2017/':\n",
    "        clean_rps_rev_list.append(item)\n",
    "\n",
    "clean_d_game_rev_list = []\n",
    "\n",
    "# example code\n",
    "for item in dest_rev_list:\n",
    "    str_item = str(item)\n",
    "    full_url = 'https://www.destructoid.com/' + str_item # this line obviously varied based on the source being scraped\n",
    "    clean_dest_rev_list.append(full_url)\n",
    "\n",
    "print(clean_dest_rev_list)"
   ]
  },
  {
   "cell_type": "markdown",
   "metadata": {},
   "source": [
    "Then, with max efficiency in mind, I simply chose to `print` the list's contents, and I copied and pasted them into a new text file of the URLs.\n",
    "\n",
    "With the URLs in hand, I could then use a simple function modified from a StackOverflow thread on scraping NYT to get the text for each url, within a `for` loop:"
   ]
  },
  {
   "cell_type": "code",
   "execution_count": null,
   "metadata": {
    "collapsed": true
   },
   "outputs": [],
   "source": [
    "def get_text(url):\n",
    "    data = ''\n",
    "    p = requests.get(url).content\n",
    "    # print('p = ', p)\n",
    "    soup = BeautifulSoup(p, 'lxml')\n",
    "    # print('soup =', soup)\n",
    "    paragraphs = soup.select('p')\n",
    "    # print('\\n paragraphs: \\n', paragraphs)\n",
    "    data = p\n",
    "    # print('\\n data = \\n',data)\n",
    "    return(paragraphs)\n",
    "\n",
    "with open(\"partial_video_games.txt\", \"r\") as text:\n",
    "    for line in text:\n",
    "        time.sleep(1)\n",
    "        review = get_text(line)\n",
    "        partial_vg.append(review)"
   ]
  },
  {
   "cell_type": "markdown",
   "metadata": {},
   "source": [
    "After compiling the HTML, I manually copied it to a single text file for that class, and used a simple regex to clean the entire text file of its HTML tags, a massively efficient process:"
   ]
  },
  {
   "cell_type": "code",
   "execution_count": null,
   "metadata": {
    "collapsed": true
   },
   "outputs": [],
   "source": [
    "clean_mov  = open('clean_movie_rev_text.txt', 'w')\n",
    "\n",
    "with open('movie_rev_text.txt', encoding ='utf-8') as f:\n",
    "    for line in f:\n",
    "            clean = re.sub('<[^<]+?>', '', str(line))\n",
    "            clean_mov.write(clean)"
   ]
  },
  {
   "cell_type": "markdown",
   "metadata": {},
   "source": [
    "At this point, I then repeated this process for all of my other outlets, for both classes, and eventually compiled one large text file of video game reviews and one for movie review, each file with line breaks only after a complete review, which allowed me to separate the data into data frame rows more easily down the line. **(Note: this is the point of the notebook in which cells are now runnable without error)**\n",
    "\n",
    "My next step was to import my two text files into two data frames, with an eye to eventually combine them into one. This involved repeating the same step for both text files, each representative of a class of reviews:"
   ]
  },
  {
   "cell_type": "code",
   "execution_count": 9,
   "metadata": {
    "collapsed": false
   },
   "outputs": [
    {
     "data": {
      "text/html": [
       "<div>\n",
       "<table border=\"1\" class=\"dataframe\">\n",
       "  <thead>\n",
       "    <tr style=\"text-align: right;\">\n",
       "      <th></th>\n",
       "      <th>review</th>\n",
       "    </tr>\n",
       "  </thead>\n",
       "  <tbody>\n",
       "    <tr>\n",
       "      <th>0</th>\n",
       "      <td>The refrain you most often hear when talking a...</td>\n",
       "    </tr>\n",
       "    <tr>\n",
       "      <th>1</th>\n",
       "      <td></td>\n",
       "    </tr>\n",
       "    <tr>\n",
       "      <th>2</th>\n",
       "      <td></td>\n",
       "    </tr>\n",
       "    <tr>\n",
       "      <th>3</th>\n",
       "      <td>No entertainment company has a more complicate...</td>\n",
       "    </tr>\n",
       "    <tr>\n",
       "      <th>4</th>\n",
       "      <td></td>\n",
       "    </tr>\n",
       "  </tbody>\n",
       "</table>\n",
       "</div>"
      ],
      "text/plain": [
       "                                              review\n",
       "0  The refrain you most often hear when talking a...\n",
       "1                                                   \n",
       "2                                                   \n",
       "3  No entertainment company has a more complicate...\n",
       "4                                                   "
      ]
     },
     "execution_count": 9,
     "metadata": {},
     "output_type": "execute_result"
    }
   ],
   "source": [
    "vg_lines = [line.rstrip('\\n') for line in open('clean_videogame_text.txt')]\n",
    "# print(vg_lines)\n",
    "\n",
    "vg_df = pd.DataFrame(vg_lines)\n",
    "vg_df.columns = ['review'] # a simple way to change the name of our only column to something we'll remember\n",
    "vg_df.head()"
   ]
  },
  {
   "cell_type": "markdown",
   "metadata": {},
   "source": [
    "As you can see, this yields a strange data frame, as I used two line breaks after each review, since the line breaks were manually added, and it aided with me tracking which reviews had already been formatted correctly. As a result, we have two rows between reviews with no review text. We can rectify this with a few simple lines:"
   ]
  },
  {
   "cell_type": "code",
   "execution_count": 10,
   "metadata": {
    "collapsed": false
   },
   "outputs": [
    {
     "data": {
      "text/html": [
       "<div>\n",
       "<table border=\"1\" class=\"dataframe\">\n",
       "  <thead>\n",
       "    <tr style=\"text-align: right;\">\n",
       "      <th></th>\n",
       "      <th>review</th>\n",
       "      <th>is_movie_review</th>\n",
       "    </tr>\n",
       "  </thead>\n",
       "  <tbody>\n",
       "    <tr>\n",
       "      <th>0</th>\n",
       "      <td>The refrain you most often hear when talking a...</td>\n",
       "      <td>0</td>\n",
       "    </tr>\n",
       "    <tr>\n",
       "      <th>1</th>\n",
       "      <td>No entertainment company has a more complicate...</td>\n",
       "      <td>0</td>\n",
       "    </tr>\n",
       "    <tr>\n",
       "      <th>2</th>\n",
       "      <td>Rise of the Tomb Raider is an apt name for a g...</td>\n",
       "      <td>0</td>\n",
       "    </tr>\n",
       "    <tr>\n",
       "      <th>3</th>\n",
       "      <td>Buggy, yet beautiful. Occasionally broken, but...</td>\n",
       "      <td>0</td>\n",
       "    </tr>\n",
       "    <tr>\n",
       "      <th>4</th>\n",
       "      <td>When Star Wars hit theaters in 1977, the conce...</td>\n",
       "      <td>0</td>\n",
       "    </tr>\n",
       "  </tbody>\n",
       "</table>\n",
       "</div>"
      ],
      "text/plain": [
       "                                              review is_movie_review\n",
       "0  The refrain you most often hear when talking a...               0\n",
       "1  No entertainment company has a more complicate...               0\n",
       "2  Rise of the Tomb Raider is an apt name for a g...               0\n",
       "3  Buggy, yet beautiful. Occasionally broken, but...               0\n",
       "4  When Star Wars hit theaters in 1977, the conce...               0"
      ]
     },
     "execution_count": 10,
     "metadata": {},
     "output_type": "execute_result"
    }
   ],
   "source": [
    "# first, we replace empty rows with NaN, which are easier to work with\n",
    "vg_df['review'].replace('', np.nan, inplace=True)\n",
    "\n",
    "# then we use a built-in function of Pandas data frames to drop the rows with NaN values\n",
    "vg_df.dropna(subset=['review'], inplace=True)\n",
    "\n",
    "# in order to have a more accurate index, we re-index the data frame,\n",
    "#  which removes out the lots indices due to deleted rows\n",
    "vg_df = vg_df.reset_index(drop=True)\n",
    "\n",
    "# and we add a column with binary values for 'is_movie_review' which is important to our \n",
    "#  training and testing of our classifier later on\n",
    "vg_df['is_movie_review'] = '0'\n",
    "\n",
    "vg_df.head()"
   ]
  },
  {
   "cell_type": "markdown",
   "metadata": {},
   "source": [
    "As you can now see, we have something more akin to a final data product for our analysis. But first, we must do the same for the movie review data, this time in one quick cell:"
   ]
  },
  {
   "cell_type": "code",
   "execution_count": 12,
   "metadata": {
    "collapsed": false,
    "scrolled": true
   },
   "outputs": [
    {
     "data": {
      "text/html": [
       "<div>\n",
       "<table border=\"1\" class=\"dataframe\">\n",
       "  <thead>\n",
       "    <tr style=\"text-align: right;\">\n",
       "      <th></th>\n",
       "      <th>review</th>\n",
       "      <th>is_movie_review</th>\n",
       "    </tr>\n",
       "  </thead>\n",
       "  <tbody>\n",
       "    <tr>\n",
       "      <th>0</th>\n",
       "      <td>Teeming with acts both heroic and reprehensibl...</td>\n",
       "      <td>1</td>\n",
       "    </tr>\n",
       "    <tr>\n",
       "      <th>1</th>\n",
       "      <td>The cinema innovator and iconoclast Jean-Luc G...</td>\n",
       "      <td>1</td>\n",
       "    </tr>\n",
       "    <tr>\n",
       "      <th>2</th>\n",
       "      <td>A funny thing happened to the French director ...</td>\n",
       "      <td>1</td>\n",
       "    </tr>\n",
       "    <tr>\n",
       "      <th>3</th>\n",
       "      <td>The title character in “The Happiest Day in th...</td>\n",
       "      <td>1</td>\n",
       "    </tr>\n",
       "    <tr>\n",
       "      <th>4</th>\n",
       "      <td>As the thriller “Unforgettable” wends its way ...</td>\n",
       "      <td>1</td>\n",
       "    </tr>\n",
       "  </tbody>\n",
       "</table>\n",
       "</div>"
      ],
      "text/plain": [
       "                                              review  is_movie_review\n",
       "0  Teeming with acts both heroic and reprehensibl...                1\n",
       "1  The cinema innovator and iconoclast Jean-Luc G...                1\n",
       "2  A funny thing happened to the French director ...                1\n",
       "3  The title character in “The Happiest Day in th...                1\n",
       "4  As the thriller “Unforgettable” wends its way ...                1"
      ]
     },
     "execution_count": 12,
     "metadata": {},
     "output_type": "execute_result"
    }
   ],
   "source": [
    "movie_lines = [line.rstrip('\\n') for line in open('clean_movie_rev_text.txt')]      \n",
    "movie_df = pd.DataFrame(movie_lines)\n",
    "# print(movie_data.columns)\n",
    "\n",
    "# movie_df.head()\n",
    "\n",
    "movie_df.columns = ['review']\n",
    "movie_df['is_movie_review'] = 1 # note this column is automatically populated with 1, as they are all movie reviews\n",
    "movie_df['review'].replace('', np.nan, inplace=True)\n",
    "movie_df.dropna(subset=['review'], inplace=True)\n",
    "movie_df = movie_df.reset_index(drop=True)\n",
    "\n",
    "movie_df.head()"
   ]
  },
  {
   "cell_type": "markdown",
   "metadata": {},
   "source": [
    "One pitfall with naive Bayes is that it can end up being \"broken\" by having two classes of data where one has much more than the other. In those instances, the classifier will often just default to guessing the class with more words each time, as it is statistically the best choice. That would be less creating a classifier that works based on text and more creating a lazy classifier that has outsmarted it's creator (a troubling thought!). To prevent this, we make sure we can get our data pools to be of a similar size. This can be achieved by taking a sample of our video game review data, which I happened to know was much larger:"
   ]
  },
  {
   "cell_type": "code",
   "execution_count": 29,
   "metadata": {
    "collapsed": false,
    "scrolled": true
   },
   "outputs": [
    {
     "name": "stdout",
     "output_type": "stream",
     "text": [
      "vg_sample has 39320 words.\n",
      "movie_df has 39939 words.\n"
     ]
    }
   ],
   "source": [
    "# dropping rows where the reviews are less than 150 characters\n",
    "mask = (vg_df['review'].str.len() > 150)\n",
    "vg_df = vg_df.loc[mask]\n",
    "# vg_df.head()\n",
    "\n",
    "# taking a sample of the video game reviews that is equal to the movie review data.\n",
    "#  just to make it easier to get the random samples to be closer to the movie data,\n",
    "#  I limit the number of rows in my sample to 175\n",
    "vg_sample = vg_df.sample(n=175)\n",
    "vg_sample = vg_sample.reset_index(drop=True)\n",
    "# vg_sample.head()\n",
    "\n",
    "# doing a bit of text cleaning and counting the words in each data frame, to see if the sample should\n",
    "#  be retaken to get closer to the amount of words in movie_df\n",
    "vg_count = 0\n",
    "vg_clean_tokens = []\n",
    "\n",
    "for i in vg_sample.index:\n",
    "    text = vg_sample['review'][i]\n",
    "    tokens = text.split()\n",
    "    for w in tokens:\n",
    "        clean = w.strip(',.!?:;-—()<>[]/\"\\'').lower()\n",
    "        vg_clean_tokens.append(clean)\n",
    "\n",
    "vg_count = len(vg_clean_tokens)\n",
    "\n",
    "\n",
    "mov_count = 0\n",
    "mov_clean_tokens = []\n",
    "\n",
    "for i in movie_df.index:\n",
    "    text = movie_df['review'][i]\n",
    "    tokens = text.split()\n",
    "    for w in tokens:\n",
    "        clean = w.strip(',.!?:;-—()<>[]/\"\\'').lower()\n",
    "        mov_clean_tokens.append(clean)\n",
    "\n",
    "mov_count = len(mov_clean_tokens)\n",
    "\n",
    "print('vg_sample has', vg_count, 'words.')\n",
    "print('movie_df has', mov_count, 'words.')"
   ]
  },
  {
   "cell_type": "markdown",
   "metadata": {},
   "source": [
    "This is a challenge to the reproducability of this project, as the sampling method I used is basically impossible to exactly reproduce, and instead will be different each time it's tried. There are other ways to make sure your data are the same size, but I liked the idea of taking complete reviews rather than getting the exact number of words. I'll speak more later on completeness when we get to analysis. I should also mention that portion of code below the sampling is our mechanism for checking the size of each set of data, as well as some basic token cleaning. I'm using `for` loops to iterate through each data frame and extract the review text. This is then stripped of punctuation and all put into lower case to avoid any issues later on with most and least-frequent words.\n",
    "\n",
    "Reproducability is a nice segue into my own efforts to preserve the data I was working on after stages of cleaning. I actually (and very sadly for me) encountered this issue when my computer crashed overnight, with Jupyter open, and my progress was lost. In order to prevent this, for each data frame, I wrote each row of the review text to a text file, adding a `\\n` after each review to faciliate data frame ingest:"
   ]
  },
  {
   "cell_type": "code",
   "execution_count": 39,
   "metadata": {
    "collapsed": false
   },
   "outputs": [],
   "source": [
    "with open('vg_sample.txt', 'w') as f:\n",
    "    for i in vg_sample.index:\n",
    "        review = vg_sample['review'][i]\n",
    "        f.write(review + '\\n')"
   ]
  },
  {
   "cell_type": "markdown",
   "metadata": {},
   "source": [
    "This doesn't need to be done for the movie review data, as we are using all of it, and it is already in the manually-achieved data frame ingestible format.\n",
    "\n",
    "Now that we have each data frame set up, we need to combine the two data sets into one. This is achieved simply by using `pd.concat()`, as so:"
   ]
  },
  {
   "cell_type": "code",
   "execution_count": 41,
   "metadata": {
    "collapsed": false
   },
   "outputs": [
    {
     "data": {
      "text/html": [
       "<div>\n",
       "<table border=\"1\" class=\"dataframe\">\n",
       "  <thead>\n",
       "    <tr style=\"text-align: right;\">\n",
       "      <th></th>\n",
       "      <th>review</th>\n",
       "      <th>is_movie_review</th>\n",
       "    </tr>\n",
       "  </thead>\n",
       "  <tbody>\n",
       "    <tr>\n",
       "      <th>0</th>\n",
       "      <td>Teeming with acts both heroic and reprehensibl...</td>\n",
       "      <td>1</td>\n",
       "    </tr>\n",
       "    <tr>\n",
       "      <th>1</th>\n",
       "      <td>The cinema innovator and iconoclast Jean-Luc G...</td>\n",
       "      <td>1</td>\n",
       "    </tr>\n",
       "    <tr>\n",
       "      <th>2</th>\n",
       "      <td>A funny thing happened to the French director ...</td>\n",
       "      <td>1</td>\n",
       "    </tr>\n",
       "    <tr>\n",
       "      <th>3</th>\n",
       "      <td>The title character in “The Happiest Day in th...</td>\n",
       "      <td>1</td>\n",
       "    </tr>\n",
       "    <tr>\n",
       "      <th>4</th>\n",
       "      <td>As the thriller “Unforgettable” wends its way ...</td>\n",
       "      <td>1</td>\n",
       "    </tr>\n",
       "    <tr>\n",
       "      <th>5</th>\n",
       "      <td>Here’s what sounds like one dud job: calculati...</td>\n",
       "      <td>1</td>\n",
       "    </tr>\n",
       "    <tr>\n",
       "      <th>6</th>\n",
       "      <td>“Behind the White Glasses,” an effusive portra...</td>\n",
       "      <td>1</td>\n",
       "    </tr>\n",
       "    <tr>\n",
       "      <th>7</th>\n",
       "      <td>Weighed down by the worthiness of its intentio...</td>\n",
       "      <td>1</td>\n",
       "    </tr>\n",
       "    <tr>\n",
       "      <th>8</th>\n",
       "      <td>You’ll want to see “Tomorrow” if you’re fuming...</td>\n",
       "      <td>1</td>\n",
       "    </tr>\n",
       "    <tr>\n",
       "      <th>9</th>\n",
       "      <td>Much of Lydia Tenaglia’s diverting documentary...</td>\n",
       "      <td>1</td>\n",
       "    </tr>\n",
       "    <tr>\n",
       "      <th>10</th>\n",
       "      <td>Because New York City is so ecumenically photo...</td>\n",
       "      <td>1</td>\n",
       "    </tr>\n",
       "    <tr>\n",
       "      <th>11</th>\n",
       "      <td>“Born in China,” another animals-are-just-like...</td>\n",
       "      <td>1</td>\n",
       "    </tr>\n",
       "    <tr>\n",
       "      <th>12</th>\n",
       "      <td>In “The Lost City of Z,” a lush, melancholic s...</td>\n",
       "      <td>1</td>\n",
       "    </tr>\n",
       "    <tr>\n",
       "      <th>13</th>\n",
       "      <td>New England in the mid-19th century was a lite...</td>\n",
       "      <td>1</td>\n",
       "    </tr>\n",
       "    <tr>\n",
       "      <th>14</th>\n",
       "      <td>The full, spoilerish title of Joseph Cedar’s n...</td>\n",
       "      <td>1</td>\n",
       "    </tr>\n",
       "    <tr>\n",
       "      <th>15</th>\n",
       "      <td>Redolent of damp wool and dour personalities, ...</td>\n",
       "      <td>1</td>\n",
       "    </tr>\n",
       "    <tr>\n",
       "      <th>16</th>\n",
       "      <td>Hot on the heels of “The Death of Louis XIV” c...</td>\n",
       "      <td>1</td>\n",
       "    </tr>\n",
       "    <tr>\n",
       "      <th>17</th>\n",
       "      <td>At best ambiguous and at worst unfathomable, “...</td>\n",
       "      <td>1</td>\n",
       "    </tr>\n",
       "    <tr>\n",
       "      <th>18</th>\n",
       "      <td>“I think he’s one of the greatest artists that...</td>\n",
       "      <td>1</td>\n",
       "    </tr>\n",
       "    <tr>\n",
       "      <th>19</th>\n",
       "      <td>“Little Boxes,” a mildly comic story about a b...</td>\n",
       "      <td>1</td>\n",
       "    </tr>\n",
       "    <tr>\n",
       "      <th>20</th>\n",
       "      <td>\"The Happiest Day in the Life of Olli Maki\" is...</td>\n",
       "      <td>1</td>\n",
       "    </tr>\n",
       "    <tr>\n",
       "      <th>21</th>\n",
       "      <td>More than once in “Karl Marx City,” a shrewd p...</td>\n",
       "      <td>1</td>\n",
       "    </tr>\n",
       "    <tr>\n",
       "      <th>22</th>\n",
       "      <td>If food is your passion, Jeremiah Tower is a n...</td>\n",
       "      <td>1</td>\n",
       "    </tr>\n",
       "    <tr>\n",
       "      <th>23</th>\n",
       "      <td>Riots or rebellion? Anarchy or insurrection? U...</td>\n",
       "      <td>1</td>\n",
       "    </tr>\n",
       "    <tr>\n",
       "      <th>24</th>\n",
       "      <td>Set in late-’70s Boston, the ferocious, funny ...</td>\n",
       "      <td>1</td>\n",
       "    </tr>\n",
       "    <tr>\n",
       "      <th>25</th>\n",
       "      <td>If vampires are defined as lethal beings who s...</td>\n",
       "      <td>1</td>\n",
       "    </tr>\n",
       "    <tr>\n",
       "      <th>26</th>\n",
       "      <td>Every once in a while, you need a good, juicy,...</td>\n",
       "      <td>1</td>\n",
       "    </tr>\n",
       "    <tr>\n",
       "      <th>27</th>\n",
       "      <td>History is rife with horrific events that some...</td>\n",
       "      <td>1</td>\n",
       "    </tr>\n",
       "    <tr>\n",
       "      <th>28</th>\n",
       "      <td>“Born in China” is the latest installment in t...</td>\n",
       "      <td>1</td>\n",
       "    </tr>\n",
       "    <tr>\n",
       "      <th>29</th>\n",
       "      <td>A forward-thinking take on addressing the demi...</td>\n",
       "      <td>1</td>\n",
       "    </tr>\n",
       "    <tr>\n",
       "      <th>...</th>\n",
       "      <td>...</td>\n",
       "      <td>...</td>\n",
       "    </tr>\n",
       "    <tr>\n",
       "      <th>70</th>\n",
       "      <td>A pleasant hangout session for its stars, and ...</td>\n",
       "      <td>1</td>\n",
       "    </tr>\n",
       "    <tr>\n",
       "      <th>71</th>\n",
       "      <td>Whereas so many movie romances begin with a ch...</td>\n",
       "      <td>1</td>\n",
       "    </tr>\n",
       "    <tr>\n",
       "      <th>72</th>\n",
       "      <td>The casting debate swirling around \"Ghost in t...</td>\n",
       "      <td>1</td>\n",
       "    </tr>\n",
       "    <tr>\n",
       "      <th>73</th>\n",
       "      <td>Art and life converge — and sparks fly — in \"M...</td>\n",
       "      <td>1</td>\n",
       "    </tr>\n",
       "    <tr>\n",
       "      <th>74</th>\n",
       "      <td>\"The Boss Baby\" derives its premise from the n...</td>\n",
       "      <td>1</td>\n",
       "    </tr>\n",
       "    <tr>\n",
       "      <th>75</th>\n",
       "      <td>The Holocaust film has become a genre unto its...</td>\n",
       "      <td>1</td>\n",
       "    </tr>\n",
       "    <tr>\n",
       "      <th>76</th>\n",
       "      <td>Back in the '90s, you probably knew them as Mi...</td>\n",
       "      <td>1</td>\n",
       "    </tr>\n",
       "    <tr>\n",
       "      <th>77</th>\n",
       "      <td>Standard enemies in many areas can be triviali...</td>\n",
       "      <td>0</td>\n",
       "    </tr>\n",
       "    <tr>\n",
       "      <th>78</th>\n",
       "      <td>The mechanics of the story translate over to t...</td>\n",
       "      <td>0</td>\n",
       "    </tr>\n",
       "    <tr>\n",
       "      <th>79</th>\n",
       "      <td>This marks the last full episode of the King’s...</td>\n",
       "      <td>0</td>\n",
       "    </tr>\n",
       "    <tr>\n",
       "      <th>80</th>\n",
       "      <td>Sony also included a novelty Retro mode that t...</td>\n",
       "      <td>0</td>\n",
       "    </tr>\n",
       "    <tr>\n",
       "      <th>81</th>\n",
       "      <td>This edition includes the After Dark expansion...</td>\n",
       "      <td>0</td>\n",
       "    </tr>\n",
       "    <tr>\n",
       "      <th>82</th>\n",
       "      <td>By putting players in control of city-planning...</td>\n",
       "      <td>0</td>\n",
       "    </tr>\n",
       "    <tr>\n",
       "      <th>83</th>\n",
       "      <td>The campaign, while relatively slight by compa...</td>\n",
       "      <td>0</td>\n",
       "    </tr>\n",
       "    <tr>\n",
       "      <th>84</th>\n",
       "      <td>Even with these issues, Super Bomberman R's mo...</td>\n",
       "      <td>0</td>\n",
       "    </tr>\n",
       "    <tr>\n",
       "      <th>85</th>\n",
       "      <td>Every week we send Brendan onto the high seas ...</td>\n",
       "      <td>0</td>\n",
       "    </tr>\n",
       "    <tr>\n",
       "      <th>86</th>\n",
       "      <td>You can fast forward to certain points in the ...</td>\n",
       "      <td>0</td>\n",
       "    </tr>\n",
       "    <tr>\n",
       "      <th>87</th>\n",
       "      <td>Shantae also earns an assortment of transforma...</td>\n",
       "      <td>0</td>\n",
       "    </tr>\n",
       "    <tr>\n",
       "      <th>88</th>\n",
       "      <td>This is all the more maddening when you realiz...</td>\n",
       "      <td>0</td>\n",
       "    </tr>\n",
       "    <tr>\n",
       "      <th>89</th>\n",
       "      <td>In trying to make The Devil’s Daughter a bigge...</td>\n",
       "      <td>0</td>\n",
       "    </tr>\n",
       "    <tr>\n",
       "      <th>90</th>\n",
       "      <td>Let’s break this down. You fight by playing si...</td>\n",
       "      <td>0</td>\n",
       "    </tr>\n",
       "    <tr>\n",
       "      <th>91</th>\n",
       "      <td>Telltale’s Batman initially did a poor job est...</td>\n",
       "      <td>0</td>\n",
       "    </tr>\n",
       "    <tr>\n",
       "      <th>92</th>\n",
       "      <td>When combat encounters do erupt, Homefront has...</td>\n",
       "      <td>0</td>\n",
       "    </tr>\n",
       "    <tr>\n",
       "      <th>93</th>\n",
       "      <td>Technical problems aside, the latter half is d...</td>\n",
       "      <td>0</td>\n",
       "    </tr>\n",
       "    <tr>\n",
       "      <th>94</th>\n",
       "      <td>Watch Dogs 2 gives you plenty of ways to cause...</td>\n",
       "      <td>0</td>\n",
       "    </tr>\n",
       "    <tr>\n",
       "      <th>95</th>\n",
       "      <td>Multiplayer offers massive customization. You ...</td>\n",
       "      <td>0</td>\n",
       "    </tr>\n",
       "    <tr>\n",
       "      <th>96</th>\n",
       "      <td>After the plane crashes into the mysterious Rh...</td>\n",
       "      <td>0</td>\n",
       "    </tr>\n",
       "    <tr>\n",
       "      <th>97</th>\n",
       "      <td>Tales of Berseria is the darkest Tales game, b...</td>\n",
       "      <td>0</td>\n",
       "    </tr>\n",
       "    <tr>\n",
       "      <th>98</th>\n",
       "      <td>While the characters and world of Owlboy made ...</td>\n",
       "      <td>0</td>\n",
       "    </tr>\n",
       "    <tr>\n",
       "      <th>99</th>\n",
       "      <td>The best way to think about Everything is as a...</td>\n",
       "      <td>0</td>\n",
       "    </tr>\n",
       "  </tbody>\n",
       "</table>\n",
       "<p>100 rows × 2 columns</p>\n",
       "</div>"
      ],
      "text/plain": [
       "                                               review is_movie_review\n",
       "0   Teeming with acts both heroic and reprehensibl...               1\n",
       "1   The cinema innovator and iconoclast Jean-Luc G...               1\n",
       "2   A funny thing happened to the French director ...               1\n",
       "3   The title character in “The Happiest Day in th...               1\n",
       "4   As the thriller “Unforgettable” wends its way ...               1\n",
       "5   Here’s what sounds like one dud job: calculati...               1\n",
       "6   “Behind the White Glasses,” an effusive portra...               1\n",
       "7   Weighed down by the worthiness of its intentio...               1\n",
       "8   You’ll want to see “Tomorrow” if you’re fuming...               1\n",
       "9   Much of Lydia Tenaglia’s diverting documentary...               1\n",
       "10  Because New York City is so ecumenically photo...               1\n",
       "11  “Born in China,” another animals-are-just-like...               1\n",
       "12  In “The Lost City of Z,” a lush, melancholic s...               1\n",
       "13  New England in the mid-19th century was a lite...               1\n",
       "14  The full, spoilerish title of Joseph Cedar’s n...               1\n",
       "15  Redolent of damp wool and dour personalities, ...               1\n",
       "16  Hot on the heels of “The Death of Louis XIV” c...               1\n",
       "17  At best ambiguous and at worst unfathomable, “...               1\n",
       "18  “I think he’s one of the greatest artists that...               1\n",
       "19  “Little Boxes,” a mildly comic story about a b...               1\n",
       "20  \"The Happiest Day in the Life of Olli Maki\" is...               1\n",
       "21  More than once in “Karl Marx City,” a shrewd p...               1\n",
       "22  If food is your passion, Jeremiah Tower is a n...               1\n",
       "23  Riots or rebellion? Anarchy or insurrection? U...               1\n",
       "24  Set in late-’70s Boston, the ferocious, funny ...               1\n",
       "25  If vampires are defined as lethal beings who s...               1\n",
       "26  Every once in a while, you need a good, juicy,...               1\n",
       "27  History is rife with horrific events that some...               1\n",
       "28  “Born in China” is the latest installment in t...               1\n",
       "29  A forward-thinking take on addressing the demi...               1\n",
       "..                                                ...             ...\n",
       "70  A pleasant hangout session for its stars, and ...               1\n",
       "71  Whereas so many movie romances begin with a ch...               1\n",
       "72  The casting debate swirling around \"Ghost in t...               1\n",
       "73  Art and life converge — and sparks fly — in \"M...               1\n",
       "74  \"The Boss Baby\" derives its premise from the n...               1\n",
       "75  The Holocaust film has become a genre unto its...               1\n",
       "76  Back in the '90s, you probably knew them as Mi...               1\n",
       "77  Standard enemies in many areas can be triviali...               0\n",
       "78  The mechanics of the story translate over to t...               0\n",
       "79  This marks the last full episode of the King’s...               0\n",
       "80  Sony also included a novelty Retro mode that t...               0\n",
       "81  This edition includes the After Dark expansion...               0\n",
       "82  By putting players in control of city-planning...               0\n",
       "83  The campaign, while relatively slight by compa...               0\n",
       "84  Even with these issues, Super Bomberman R's mo...               0\n",
       "85  Every week we send Brendan onto the high seas ...               0\n",
       "86  You can fast forward to certain points in the ...               0\n",
       "87  Shantae also earns an assortment of transforma...               0\n",
       "88  This is all the more maddening when you realiz...               0\n",
       "89  In trying to make The Devil’s Daughter a bigge...               0\n",
       "90  Let’s break this down. You fight by playing si...               0\n",
       "91  Telltale’s Batman initially did a poor job est...               0\n",
       "92  When combat encounters do erupt, Homefront has...               0\n",
       "93  Technical problems aside, the latter half is d...               0\n",
       "94  Watch Dogs 2 gives you plenty of ways to cause...               0\n",
       "95  Multiplayer offers massive customization. You ...               0\n",
       "96  After the plane crashes into the mysterious Rh...               0\n",
       "97  Tales of Berseria is the darkest Tales game, b...               0\n",
       "98  While the characters and world of Owlboy made ...               0\n",
       "99  The best way to think about Everything is as a...               0\n",
       "\n",
       "[100 rows x 2 columns]"
      ]
     },
     "execution_count": 41,
     "metadata": {},
     "output_type": "execute_result"
    }
   ],
   "source": [
    "reviews = [movie_df, vg_sample]\n",
    "review_data = pd.concat(reviews)\n",
    "review_data = review_data.reset_index(drop=True)\n",
    "review_data.head(100) # we use a longer head call here to verify that the video game reviews have 0 in is_movie_review"
   ]
  },
  {
   "cell_type": "markdown",
   "metadata": {
    "collapsed": false
   },
   "source": [
    "This is the culmination of many hours of work, so let's pause and celebrate!"
   ]
  },
  {
   "cell_type": "code",
   "execution_count": 67,
   "metadata": {
    "collapsed": false
   },
   "outputs": [
    {
     "name": "stdout",
     "output_type": "stream",
     "text": [
      "Yay!\n",
      "Yay!\n",
      "Yay!\n",
      "Yay!\n",
      "Yay!\n",
      "Yay!\n",
      "Yay!\n",
      "Yay!\n",
      "Yay!\n",
      "Yay!\n"
     ]
    }
   ],
   "source": [
    "for num in range(10):\n",
    "    time.sleep(1)\n",
    "    print('Yay!')"
   ]
  },
  {
   "cell_type": "markdown",
   "metadata": {},
   "source": [
    "## Data Analysis\n",
    "Now that we're congratulated, we get to begin the interesting stuff: analysis. To do this, we need to first define a very simple function that we'll call to add data to a new column, `source`, which will be used in creating our data to train and test our classifier:"
   ]
  },
  {
   "cell_type": "code",
   "execution_count": 49,
   "metadata": {
    "collapsed": false
   },
   "outputs": [],
   "source": [
    "def movie_test(a_data_frame, rowidx):\n",
    "    if a_data_frame['is_movie_review'][rowidx] == 1: # checking our binary column for identification of each review\n",
    "        return 'mov'\n",
    "    else:\n",
    "        return 'vg'"
   ]
  },
  {
   "cell_type": "markdown",
   "metadata": {},
   "source": [
    "You very rarely, if ever, want to train a classifier on the same data that you hope to test it on, so we'll portion our data into a test portion and a training portion. We want the training portion to be larger, as it will yield a more accurate classifier. Since we're dealing with two sets of data with just under 40,000 words each, we can afford to use 20% of our corpus for testing and the other 80% for training. To do this, we'll create a new column, `fold`, and assign it a random value from 0 to 4:"
   ]
  },
  {
   "cell_type": "code",
   "execution_count": 52,
   "metadata": {
    "collapsed": false
   },
   "outputs": [
    {
     "data": {
      "text/html": [
       "<div>\n",
       "<table border=\"1\" class=\"dataframe\">\n",
       "  <thead>\n",
       "    <tr style=\"text-align: right;\">\n",
       "      <th></th>\n",
       "      <th>review</th>\n",
       "      <th>source</th>\n",
       "      <th>fold</th>\n",
       "    </tr>\n",
       "  </thead>\n",
       "  <tbody>\n",
       "    <tr>\n",
       "      <th>0</th>\n",
       "      <td>Teeming with acts both heroic and reprehensibl...</td>\n",
       "      <td>mov</td>\n",
       "      <td>4</td>\n",
       "    </tr>\n",
       "    <tr>\n",
       "      <th>1</th>\n",
       "      <td>The cinema innovator and iconoclast Jean-Luc G...</td>\n",
       "      <td>mov</td>\n",
       "      <td>4</td>\n",
       "    </tr>\n",
       "    <tr>\n",
       "      <th>2</th>\n",
       "      <td>A funny thing happened to the French director ...</td>\n",
       "      <td>mov</td>\n",
       "      <td>2</td>\n",
       "    </tr>\n",
       "    <tr>\n",
       "      <th>3</th>\n",
       "      <td>The title character in “The Happiest Day in th...</td>\n",
       "      <td>mov</td>\n",
       "      <td>2</td>\n",
       "    </tr>\n",
       "    <tr>\n",
       "      <th>4</th>\n",
       "      <td>As the thriller “Unforgettable” wends its way ...</td>\n",
       "      <td>mov</td>\n",
       "      <td>4</td>\n",
       "    </tr>\n",
       "    <tr>\n",
       "      <th>5</th>\n",
       "      <td>Here’s what sounds like one dud job: calculati...</td>\n",
       "      <td>mov</td>\n",
       "      <td>3</td>\n",
       "    </tr>\n",
       "    <tr>\n",
       "      <th>6</th>\n",
       "      <td>“Behind the White Glasses,” an effusive portra...</td>\n",
       "      <td>mov</td>\n",
       "      <td>4</td>\n",
       "    </tr>\n",
       "    <tr>\n",
       "      <th>7</th>\n",
       "      <td>Weighed down by the worthiness of its intentio...</td>\n",
       "      <td>mov</td>\n",
       "      <td>2</td>\n",
       "    </tr>\n",
       "    <tr>\n",
       "      <th>8</th>\n",
       "      <td>You’ll want to see “Tomorrow” if you’re fuming...</td>\n",
       "      <td>mov</td>\n",
       "      <td>2</td>\n",
       "    </tr>\n",
       "    <tr>\n",
       "      <th>9</th>\n",
       "      <td>Much of Lydia Tenaglia’s diverting documentary...</td>\n",
       "      <td>mov</td>\n",
       "      <td>1</td>\n",
       "    </tr>\n",
       "    <tr>\n",
       "      <th>10</th>\n",
       "      <td>Because New York City is so ecumenically photo...</td>\n",
       "      <td>mov</td>\n",
       "      <td>4</td>\n",
       "    </tr>\n",
       "    <tr>\n",
       "      <th>11</th>\n",
       "      <td>“Born in China,” another animals-are-just-like...</td>\n",
       "      <td>mov</td>\n",
       "      <td>1</td>\n",
       "    </tr>\n",
       "    <tr>\n",
       "      <th>12</th>\n",
       "      <td>In “The Lost City of Z,” a lush, melancholic s...</td>\n",
       "      <td>mov</td>\n",
       "      <td>4</td>\n",
       "    </tr>\n",
       "    <tr>\n",
       "      <th>13</th>\n",
       "      <td>New England in the mid-19th century was a lite...</td>\n",
       "      <td>mov</td>\n",
       "      <td>2</td>\n",
       "    </tr>\n",
       "    <tr>\n",
       "      <th>14</th>\n",
       "      <td>The full, spoilerish title of Joseph Cedar’s n...</td>\n",
       "      <td>mov</td>\n",
       "      <td>4</td>\n",
       "    </tr>\n",
       "  </tbody>\n",
       "</table>\n",
       "</div>"
      ],
      "text/plain": [
       "                                               review source  fold\n",
       "0   Teeming with acts both heroic and reprehensibl...    mov     4\n",
       "1   The cinema innovator and iconoclast Jean-Luc G...    mov     4\n",
       "2   A funny thing happened to the French director ...    mov     2\n",
       "3   The title character in “The Happiest Day in th...    mov     2\n",
       "4   As the thriller “Unforgettable” wends its way ...    mov     4\n",
       "5   Here’s what sounds like one dud job: calculati...    mov     3\n",
       "6   “Behind the White Glasses,” an effusive portra...    mov     4\n",
       "7   Weighed down by the worthiness of its intentio...    mov     2\n",
       "8   You’ll want to see “Tomorrow” if you’re fuming...    mov     2\n",
       "9   Much of Lydia Tenaglia’s diverting documentary...    mov     1\n",
       "10  Because New York City is so ecumenically photo...    mov     4\n",
       "11  “Born in China,” another animals-are-just-like...    mov     1\n",
       "12  In “The Lost City of Z,” a lush, melancholic s...    mov     4\n",
       "13  New England in the mid-19th century was a lite...    mov     2\n",
       "14  The full, spoilerish title of Joseph Cedar’s n...    mov     4"
      ]
     },
     "execution_count": 52,
     "metadata": {},
     "output_type": "execute_result"
    }
   ],
   "source": [
    "review_text = review_data['review']\n",
    "is_movie_review = review_data['is_movie_review']\n",
    "\n",
    "source = []\n",
    "fold = []\n",
    "\n",
    "for idx in review_data.index: # iterating through a data frame, by row, based on index\n",
    "    source.append(movie_test(review_data, idx)) # using the movie_test function above to populate the source column\n",
    "    fold.append(random.sample(list(range(5)), 1)[0]) # using random.sample to populate the source column\n",
    "\n",
    "source = pd.Series(source, index = review_data.index) # creating a Pandas series out of the above source info\n",
    "fold = pd.Series(fold, index = review_data.index) # creating a Pandas series out of the above fold info\n",
    "\n",
    "review_df = pd.concat([review_text, source, fold], axis = 1) # creating a new data frame with all of the above info\n",
    "review_df.columns = ['review', 'source', 'fold'] # renaming columns for our use\n",
    "\n",
    "review_df.head(15)"
   ]
  },
  {
   "cell_type": "markdown",
   "metadata": {},
   "source": [
    "We can now easily define our training and test sets:"
   ]
  },
  {
   "cell_type": "code",
   "execution_count": 56,
   "metadata": {
    "collapsed": false
   },
   "outputs": [
    {
     "name": "stdout",
     "output_type": "stream",
     "text": [
      "Training set includes 196\n",
      "Test set includes 56\n"
     ]
    },
    {
     "data": {
      "text/html": [
       "<div>\n",
       "<table border=\"1\" class=\"dataframe\">\n",
       "  <thead>\n",
       "    <tr style=\"text-align: right;\">\n",
       "      <th></th>\n",
       "      <th>review</th>\n",
       "      <th>source</th>\n",
       "      <th>fold</th>\n",
       "    </tr>\n",
       "  </thead>\n",
       "  <tbody>\n",
       "    <tr>\n",
       "      <th>2</th>\n",
       "      <td>A funny thing happened to the French director ...</td>\n",
       "      <td>mov</td>\n",
       "      <td>2</td>\n",
       "    </tr>\n",
       "    <tr>\n",
       "      <th>3</th>\n",
       "      <td>The title character in “The Happiest Day in th...</td>\n",
       "      <td>mov</td>\n",
       "      <td>2</td>\n",
       "    </tr>\n",
       "    <tr>\n",
       "      <th>5</th>\n",
       "      <td>Here’s what sounds like one dud job: calculati...</td>\n",
       "      <td>mov</td>\n",
       "      <td>3</td>\n",
       "    </tr>\n",
       "    <tr>\n",
       "      <th>7</th>\n",
       "      <td>Weighed down by the worthiness of its intentio...</td>\n",
       "      <td>mov</td>\n",
       "      <td>2</td>\n",
       "    </tr>\n",
       "    <tr>\n",
       "      <th>8</th>\n",
       "      <td>You’ll want to see “Tomorrow” if you’re fuming...</td>\n",
       "      <td>mov</td>\n",
       "      <td>2</td>\n",
       "    </tr>\n",
       "    <tr>\n",
       "      <th>9</th>\n",
       "      <td>Much of Lydia Tenaglia’s diverting documentary...</td>\n",
       "      <td>mov</td>\n",
       "      <td>1</td>\n",
       "    </tr>\n",
       "    <tr>\n",
       "      <th>11</th>\n",
       "      <td>“Born in China,” another animals-are-just-like...</td>\n",
       "      <td>mov</td>\n",
       "      <td>1</td>\n",
       "    </tr>\n",
       "    <tr>\n",
       "      <th>13</th>\n",
       "      <td>New England in the mid-19th century was a lite...</td>\n",
       "      <td>mov</td>\n",
       "      <td>2</td>\n",
       "    </tr>\n",
       "    <tr>\n",
       "      <th>15</th>\n",
       "      <td>Redolent of damp wool and dour personalities, ...</td>\n",
       "      <td>mov</td>\n",
       "      <td>3</td>\n",
       "    </tr>\n",
       "    <tr>\n",
       "      <th>16</th>\n",
       "      <td>Hot on the heels of “The Death of Louis XIV” c...</td>\n",
       "      <td>mov</td>\n",
       "      <td>2</td>\n",
       "    </tr>\n",
       "    <tr>\n",
       "      <th>17</th>\n",
       "      <td>At best ambiguous and at worst unfathomable, “...</td>\n",
       "      <td>mov</td>\n",
       "      <td>2</td>\n",
       "    </tr>\n",
       "    <tr>\n",
       "      <th>18</th>\n",
       "      <td>“I think he’s one of the greatest artists that...</td>\n",
       "      <td>mov</td>\n",
       "      <td>0</td>\n",
       "    </tr>\n",
       "    <tr>\n",
       "      <th>19</th>\n",
       "      <td>“Little Boxes,” a mildly comic story about a b...</td>\n",
       "      <td>mov</td>\n",
       "      <td>3</td>\n",
       "    </tr>\n",
       "    <tr>\n",
       "      <th>20</th>\n",
       "      <td>\"The Happiest Day in the Life of Olli Maki\" is...</td>\n",
       "      <td>mov</td>\n",
       "      <td>1</td>\n",
       "    </tr>\n",
       "    <tr>\n",
       "      <th>21</th>\n",
       "      <td>More than once in “Karl Marx City,” a shrewd p...</td>\n",
       "      <td>mov</td>\n",
       "      <td>0</td>\n",
       "    </tr>\n",
       "  </tbody>\n",
       "</table>\n",
       "</div>"
      ],
      "text/plain": [
       "                                               review source  fold\n",
       "2   A funny thing happened to the French director ...    mov     2\n",
       "3   The title character in “The Happiest Day in th...    mov     2\n",
       "5   Here’s what sounds like one dud job: calculati...    mov     3\n",
       "7   Weighed down by the worthiness of its intentio...    mov     2\n",
       "8   You’ll want to see “Tomorrow” if you’re fuming...    mov     2\n",
       "9   Much of Lydia Tenaglia’s diverting documentary...    mov     1\n",
       "11  “Born in China,” another animals-are-just-like...    mov     1\n",
       "13  New England in the mid-19th century was a lite...    mov     2\n",
       "15  Redolent of damp wool and dour personalities, ...    mov     3\n",
       "16  Hot on the heels of “The Death of Louis XIV” c...    mov     2\n",
       "17  At best ambiguous and at worst unfathomable, “...    mov     2\n",
       "18  “I think he’s one of the greatest artists that...    mov     0\n",
       "19  “Little Boxes,” a mildly comic story about a b...    mov     3\n",
       "20  \"The Happiest Day in the Life of Olli Maki\" is...    mov     1\n",
       "21  More than once in “Karl Marx City,” a shrewd p...    mov     0"
      ]
     },
     "execution_count": 56,
     "metadata": {},
     "output_type": "execute_result"
    }
   ],
   "source": [
    "test_set = review_df[review_df['fold'] == 4] # an arbitrary choice\n",
    "\n",
    "train_set = review_df[review_df['fold'] != 4]\n",
    "\n",
    "print('Training set includes ' + str(train_set.shape[0]))\n",
    "print('Test set includes ' + str(test_set.shape[0]))\n",
    "train_set.head(15)"
   ]
  },
  {
   "cell_type": "code",
   "execution_count": 71,
   "metadata": {
    "collapsed": true
   },
   "outputs": [],
   "source": [
    "# yet more imports, in preparation for our work below\n",
    "import csv, math, random\n",
    "from collections import Counter\n",
    "from textblob import TextBlob\n",
    "import matplotlib\n",
    "import matplotlib.pyplot as plt\n",
    "import seaborn\n",
    "%matplotlib inline"
   ]
  },
  {
   "cell_type": "markdown",
   "metadata": {},
   "source": [
    "Before we get to running the analysis, we need to define a few functions that will be vital to the function in which we'll actually build our classifer. These functions are `tokenize`, `create_vocab`,`categorize` and `get_priors`.\n",
    "\n",
    "\n",
    "-  `tokenize`: turns a string into tokens, just as its name says. This could be replaced with the [built-in version](http://www.nltk.org/api/nltk.tokenize.html) in the Natural Language Toolkit (NLTK) or [the TextBlob version](https://textblob.readthedocs.io/en/dev/quickstart.html#tokenization). But we'll stick with this simple home-grown function adapted from Ted Underwood's work, as it is easy to understand and clearly see what it does.\n",
    "\n",
    "\n",
    "-  `create_vocab`: creates a vocabulary for a given sequence of strings, in this case our two classes of reviews. A vocabulary is a dictionary-like object with unique words as keys and their counts as values. This function takes a number of desired words for the vocab (n) as a parameter. Adjusting this number can influence accuracy and speed of run time for `train_model` and `apply_model` the two functions that deploy our classifer.\n",
    "\n",
    "\n",
    "-  `categorize`: a very similar function to our own movie_test, in that it checks a column of a row, this time the `source` column in order to determine its class, but this time based on the `source` column in our data frame. The `train_model` function that we'll soon get to uses this function, so efficiency dictated it being left in rather than further adapting the code the use `movie_test`.\n",
    "\n",
    "\n",
    "-  `get_priors`: gets prior log probability of a given class being assigned to a review. This is based on the initial breakdown of rows: how many are movie reviews and how many are video game reviews. This creates a starting point for our classifier to build upon as opposed to manually setting a probability from which to work, which could make the classifier less accurate.\n",
    "\n",
    "Here's the code for the functions:"
   ]
  },
  {
   "cell_type": "code",
   "execution_count": 19,
   "metadata": {
    "collapsed": false
   },
   "outputs": [],
   "source": [
    "def tokenize(astring):\n",
    "    ''' Breaks a string into words, and counts them.\n",
    "    Designed so it strips punctuation and lowercases everything,\n",
    "    but doesn't separate hashtags and at-signs.\n",
    "    '''\n",
    "    wordcounts = Counter()\n",
    "    # create a counter to hold the counts\n",
    "    \n",
    "    tokens = astring.split()\n",
    "    for t in tokens:\n",
    "        word = t.strip(',.!?:;-—()<>[]/\"\\'').lower()\n",
    "        wordcounts[word] += 1\n",
    "        \n",
    "    return wordcounts\n",
    "\n",
    "def create_vocab(seq_of_strings, n):\n",
    "    ''' Given a sequence of text snippets, this function\n",
    "    returns the n most common words. We'll use this to\n",
    "    create a limited 'vocabulary'.\n",
    "    '''\n",
    "    vocab = Counter()\n",
    "    for astring in seq_of_strings:\n",
    "        counts = tokenize(astring)\n",
    "        vocab = vocab + counts\n",
    "    topn = [x[0] for x in vocab.most_common(n)]\n",
    "    return topn\n",
    "\n",
    "def categorize(df, rowidx): # 'df' is 'data frame'\n",
    "    if df.loc[rowidx, 'source'] == 'vg':\n",
    "        return 'vg'\n",
    "    elif df.loc[rowidx, 'source'] == 'mov':\n",
    "        return 'mov'\n",
    "    else:\n",
    "        print('error: neither vg or mov')\n",
    "        return 'other'\n",
    "\n",
    "def get_priors(df):\n",
    "    source_counts = df.groupby('source').count()['review']\n",
    "    print(source_counts)\n",
    "    videogame_odds = source_counts['vg'] / source_counts['mov'] # simple calculation of likelihood based on prevalence\n",
    "    movie_odds = source_counts['mov'] / source_counts['vg']\n",
    "    return math.log(videogame_odds), math.log(movie_odds)\n"
   ]
  },
  {
   "cell_type": "markdown",
   "metadata": {},
   "source": [
    "### Training Classifier\n",
    "Now, down to the actual business of building our classifier. To do this, I've brought over some code I've adapted from Ted Underwood to train our model on the training set of data. Basically, this function calls the above 3 functions to 1) create a vocab of words in the training set reviews, 2) tokenize the words, row-by-row and sort them into classifications (either 'mov' or 'vg') and 3) count how many times each word is classified as 'vg' or 'mov' and then create an overall probability of the word belonging to either class. A bonus 4th step here is that we also run log odds for each probability in order to see if there are drastic differences."
   ]
  },
  {
   "cell_type": "code",
   "execution_count": 49,
   "metadata": {
    "collapsed": false,
    "scrolled": false
   },
   "outputs": [],
   "source": [
    "def train_nb_model(df, p): # p is the number of words you're using in your model, the portion of the total vocabulary\n",
    "    vocab = create_vocab(df['review'], p)\n",
    "    vocabset = set(vocab)\n",
    "    \n",
    "    # we make a set because membership-checking is faster\n",
    "    # in sets; but we also hold onto the list, which is ordered\n",
    "    \n",
    "    vg_prior, mov_prior = get_priors(df)\n",
    "    \n",
    "    vg_counts = Counter()\n",
    "    mov_counts = Counter()\n",
    "    \n",
    "    for i in df.index:\n",
    "        review = df['review'][i]\n",
    "        review_counts = tokenize(review)\n",
    "        category = categorize(df, i)\n",
    "        # print(category)\n",
    "        if category == 'mov':\n",
    "            mov_counts = mov_counts + review_counts\n",
    "        elif category == 'vg':\n",
    "            vg_counts = vg_counts + review_counts\n",
    "    \n",
    "    # Now let's organize these Counters into a DataFrame\n",
    "    \n",
    "    movie = pd.Series(1, index = vocab)\n",
    "    video_game = pd.Series(1, index = vocab)\n",
    "    # notice initializing to 1 -- Laplacian smoothing\n",
    "    \n",
    "    for word, count in vg_counts.items():\n",
    "        if word in vocabset:\n",
    "            video_game[word] += count\n",
    "    \n",
    "    for word, count in mov_counts.items():\n",
    "        if word in vocabset:\n",
    "            movie[word] += count\n",
    "    \n",
    "    all_prob = (movie + video_game) / (np.sum(movie) + np.sum(video_game))\n",
    "    \n",
    "    mov_prob = movie / np.sum(movie)\n",
    "    vg_prob = video_game / np.sum(video_game)\n",
    "    \n",
    "    # note that when we sum up the negative and positive\n",
    "    # columns, we are also summing up all the Laplacian 1's\n",
    "    # we initially added to them\n",
    "    \n",
    "    model = pd.concat([movie, video_game, all_prob, \n",
    "                       mov_prob, vg_prob], axis = 1) \n",
    "        \n",
    "    model.columns = ['mov', 'vg', 'all_prob', 'mov_prob', 'vg_prob']\n",
    "    \n",
    "    model['mov_norm'] = mov_prob / all_prob\n",
    "    model['vg_norm'] = vg_prob / all_prob\n",
    "    \n",
    "    \n",
    "    model['log_mov'] = [math.log(x) for x in model['mov_norm']] # using log to control for long floats, which are hard to handle\n",
    "    model['log_vg'] = [math.log(x) for x in model['vg_norm']]\n",
    "    \n",
    "    return vocab, vg_prior, mov_prior, model"
   ]
  },
  {
   "cell_type": "code",
   "execution_count": 64,
   "metadata": {
    "collapsed": false
   },
   "outputs": [
    {
     "name": "stdout",
     "output_type": "stream",
     "text": [
      "source\n",
      "mov     60\n",
      "vg     142\n",
      "Name: review, dtype: int64\n"
     ]
    },
    {
     "data": {
      "text/html": [
       "<div>\n",
       "<table border=\"1\" class=\"dataframe\">\n",
       "  <thead>\n",
       "    <tr style=\"text-align: right;\">\n",
       "      <th></th>\n",
       "      <th>mov</th>\n",
       "      <th>vg</th>\n",
       "      <th>all_prob</th>\n",
       "      <th>mov_prob</th>\n",
       "      <th>vg_prob</th>\n",
       "      <th>mov_norm</th>\n",
       "      <th>vg_norm</th>\n",
       "      <th>log_mov</th>\n",
       "      <th>log_vg</th>\n",
       "    </tr>\n",
       "  </thead>\n",
       "  <tbody>\n",
       "    <tr>\n",
       "      <th>the</th>\n",
       "      <td>1789</td>\n",
       "      <td>1814</td>\n",
       "      <td>0.053123</td>\n",
       "      <td>0.055713</td>\n",
       "      <td>0.050794</td>\n",
       "      <td>1.048759</td>\n",
       "      <td>0.956159</td>\n",
       "      <td>0.047607</td>\n",
       "      <td>-0.044831</td>\n",
       "    </tr>\n",
       "    <tr>\n",
       "      <th>a</th>\n",
       "      <td>981</td>\n",
       "      <td>1024</td>\n",
       "      <td>0.029562</td>\n",
       "      <td>0.030550</td>\n",
       "      <td>0.028673</td>\n",
       "      <td>1.033437</td>\n",
       "      <td>0.969935</td>\n",
       "      <td>0.032891</td>\n",
       "      <td>-0.030526</td>\n",
       "    </tr>\n",
       "    <tr>\n",
       "      <th>of</th>\n",
       "      <td>951</td>\n",
       "      <td>955</td>\n",
       "      <td>0.028102</td>\n",
       "      <td>0.029616</td>\n",
       "      <td>0.026741</td>\n",
       "      <td>1.053870</td>\n",
       "      <td>0.951563</td>\n",
       "      <td>0.052469</td>\n",
       "      <td>-0.049649</td>\n",
       "    </tr>\n",
       "    <tr>\n",
       "      <th>and</th>\n",
       "      <td>960</td>\n",
       "      <td>935</td>\n",
       "      <td>0.027940</td>\n",
       "      <td>0.029896</td>\n",
       "      <td>0.026181</td>\n",
       "      <td>1.070019</td>\n",
       "      <td>0.937043</td>\n",
       "      <td>0.067677</td>\n",
       "      <td>-0.065026</td>\n",
       "    </tr>\n",
       "    <tr>\n",
       "      <th>to</th>\n",
       "      <td>685</td>\n",
       "      <td>940</td>\n",
       "      <td>0.023959</td>\n",
       "      <td>0.021332</td>\n",
       "      <td>0.026321</td>\n",
       "      <td>0.890362</td>\n",
       "      <td>1.098580</td>\n",
       "      <td>-0.116127</td>\n",
       "      <td>0.094018</td>\n",
       "    </tr>\n",
       "  </tbody>\n",
       "</table>\n",
       "</div>"
      ],
      "text/plain": [
       "      mov    vg  all_prob  mov_prob   vg_prob  mov_norm   vg_norm   log_mov  \\\n",
       "the  1789  1814  0.053123  0.055713  0.050794  1.048759  0.956159  0.047607   \n",
       "a     981  1024  0.029562  0.030550  0.028673  1.033437  0.969935  0.032891   \n",
       "of    951   955  0.028102  0.029616  0.026741  1.053870  0.951563  0.052469   \n",
       "and   960   935  0.027940  0.029896  0.026181  1.070019  0.937043  0.067677   \n",
       "to    685   940  0.023959  0.021332  0.026321  0.890362  1.098580 -0.116127   \n",
       "\n",
       "       log_vg  \n",
       "the -0.044831  \n",
       "a   -0.030526  \n",
       "of  -0.049649  \n",
       "and -0.065026  \n",
       "to   0.094018  "
      ]
     },
     "execution_count": 64,
     "metadata": {},
     "output_type": "execute_result"
    }
   ],
   "source": [
    "vocab, vg_prior, mov_prior, model = train_nb_model(train_set, 5000)\n",
    "model.head()"
   ]
  },
  {
   "cell_type": "markdown",
   "metadata": {
    "collapsed": false
   },
   "source": [
    "#### Testing \n",
    "Now, after training the model, it's time to apply it to the test data and check the results"
   ]
  },
  {
   "cell_type": "code",
   "execution_count": 65,
   "metadata": {
    "collapsed": false
   },
   "outputs": [],
   "source": [
    "# Check out textblob that has a built-in sentiment and subjectivity analysis method.\n",
    "pd.options.mode.chained_assignment = None\n",
    "\n",
    "def apply_model(vocab, vg_prior, mov_prior, model, testset):\n",
    "    right = 0\n",
    "    wrong = 0\n",
    "    vocabset = set(vocab)\n",
    "    odds_vg = []\n",
    "    odds_mov = []\n",
    "\n",
    "    for i in testset.index:\n",
    "        odds_videogame = vg_prior\n",
    "        odds_movie = mov_prior\n",
    "        review = testset['review'][i]\n",
    "        review_counts = tokenize(review)\n",
    "        for word, count in review_counts.items():\n",
    "            if word not in vocabset:\n",
    "                continue\n",
    "            odds_videogame += model.loc[word, 'log_vg']\n",
    "            odds_movie += model.loc[word, 'log_mov']\n",
    "            \n",
    "        if odds_videogame > odds_movie:\n",
    "            prediction = 'vg'\n",
    "        else:\n",
    "            prediction = 'mov'\n",
    "        \n",
    "        odds_vg.append(odds_videogame)\n",
    "        odds_mov.append(odds_movie)\n",
    "\n",
    "        reality = categorize(testset, i)\n",
    "        if reality != 'vg' and reality != 'mov':\n",
    "            continue\n",
    "        elif prediction == reality:\n",
    "            right += 1\n",
    "        else:\n",
    "            wrong += 1\n",
    "\n",
    "    print(\"Got \" + str(right) + \" rows right, and \" + str(wrong) + \" wrong.\")\n",
    "    accuracy = (right / (wrong + right)) * 100\n",
    "    print(\"Accuracy was {0:.2f}%\".format(accuracy))\n",
    "    \n",
    "    resultset = test_set.copy()\n",
    "    resultset['odds_videogame'] = odds_vg\n",
    "    resultset['odds_movie'] = odds_mov\n",
    "    resultset = resultset.sort_values(by = 'odds_videogame')\n",
    "    \n",
    "    return resultset, accuracy"
   ]
  },
  {
   "cell_type": "code",
   "execution_count": 66,
   "metadata": {
    "collapsed": false
   },
   "outputs": [
    {
     "name": "stdout",
     "output_type": "stream",
     "text": [
      "Got 49 rows right, and 1 wrong.\n",
      "Accuracy was 98.00%\n"
     ]
    }
   ],
   "source": [
    "newtestset, accuracy = apply_model(vocab, vg_prior, mov_prior, model, test_set)"
   ]
  },
  {
   "cell_type": "code",
   "execution_count": null,
   "metadata": {
    "collapsed": true
   },
   "outputs": [],
   "source": []
  },
  {
   "cell_type": "code",
   "execution_count": 61,
   "metadata": {
    "collapsed": false
   },
   "outputs": [],
   "source": [
    "def five_fold_cross_valid(df, p):\n",
    "    accuracies = []\n",
    "    for i in range(5):\n",
    "        revdf_test_set = df[df['fold'] == i]\n",
    "        revdf_training_set = df[df['fold'] != i] \n",
    "        vocab, vg_prior, mov_prior, model = train_nb_model(revdf_training_set, p)\n",
    "        revdf_test_set, accuracy = apply_model(vocab, vg_prior, mov_prior, model, test_set)\n",
    "        accuracies.append(accuracy)\n",
    "    avg_acc = print('Average accuracy is ', round(sum(accuracies)/len(accuracies),2), '%')\n",
    "    return avg_acc"
   ]
  },
  {
   "cell_type": "markdown",
   "metadata": {},
   "source": [
    "Now, let's use our new function to test the five-fold accuracy of our classifer using 2,500 features (an arbitrarily chosen number):"
   ]
  },
  {
   "cell_type": "code",
   "execution_count": 67,
   "metadata": {
    "collapsed": false
   },
   "outputs": [
    {
     "name": "stdout",
     "output_type": "stream",
     "text": [
      "source\n",
      "mov     65\n",
      "vg     143\n",
      "Name: review, dtype: int64\n",
      "Got 50 rows right, and 0 wrong.\n",
      "Accuracy was 100.00%\n",
      "source\n",
      "mov     57\n",
      "vg     144\n",
      "Name: review, dtype: int64\n",
      "Got 50 rows right, and 0 wrong.\n",
      "Accuracy was 100.00%\n",
      "source\n",
      "mov     62\n",
      "vg     139\n",
      "Name: review, dtype: int64\n",
      "Got 50 rows right, and 0 wrong.\n",
      "Accuracy was 100.00%\n",
      "source\n",
      "mov     60\n",
      "vg     142\n",
      "Name: review, dtype: int64\n",
      "Got 49 rows right, and 1 wrong.\n",
      "Accuracy was 98.00%\n",
      "source\n",
      "mov     64\n",
      "vg     132\n",
      "Name: review, dtype: int64\n",
      "Got 50 rows right, and 0 wrong.\n",
      "Accuracy was 100.00%\n",
      "Average accuracy is  99.6 %\n"
     ]
    }
   ],
   "source": [
    "five_fold_cross_valid(review_data, 2500)"
   ]
  },
  {
   "cell_type": "markdown",
   "metadata": {},
   "source": [
    "### Sentiment\n",
    "We now have a classifier that can reliably identify a movie review over a video game review. The obvious follow-on is \"so what?\" While the very fact that the classifer *can* be built is significant--it tells us the two types of reviews are distinct in a significant way--it doesn't tell us so much *how* they are distinct. Analyzing the sentiment of each class of reviews can shed some light on the \"how.\" Sentiment analysis is a very en vogue, and can be done with a number of different methods and libraries. During the last session of 590TXL, Dr. Organisciak introduced [TextBlob](https://textblob.readthedocs.io/en/dev/), a relatively \"import-and-play\" library that allows us to do a number of interesting features, including [sentiment analysis](https://textblob.readthedocs.io/en/dev/quickstart.html#sentiment-analysis). Since this is pretty easy to implement, I thought I'd give it a shot and see if anything interesting turned up. Before we get to the results, lets use Textblob to analyze sentiment of each category of reviews:"
   ]
  },
  {
   "cell_type": "code",
   "execution_count": 80,
   "metadata": {
    "collapsed": false
   },
   "outputs": [],
   "source": [
    "# we already imported TextBlob in our list of imports, if you missed it\n",
    "\n",
    "vg_sent_list = [ ] # list that will store sentiment values for our vg reviews\n",
    "mov_sent_list = [ ] # list that will store sentiment values for our mov reviews\n",
    "\n",
    "for i in review_data.index:\n",
    "        review = review_df['review'][i]\n",
    "        rev_blob = TextBlob(review)\n",
    "        if review_df['source'][i] == 'vg':\n",
    "            vg_sent_list.append(rev_blob.sentiment)\n",
    "        elif review_df['source'][i] == 'mov':\n",
    "            mov_sent_list.append(rev_blob.sentiment)"
   ]
  },
  {
   "cell_type": "markdown",
   "metadata": {},
   "source": [
    "The above code actually runs the sentiment analysis, but doesn't quite get it into a format usable for us, as humans. TextBlob automatically generates two values for any given string it runs the `.sentiment` method on: \"polarity\" and \"objectivity,\" in tuple form. These two values are sentiment, on a scale from 1 (most positive) to 0 (most negative), and how accurate TextBlob feels it's sentiment analysis is, respectively. In order to get an average sentiment and accuracy for each class, we need to first separate the values into 4 different lists--2 for sentiment and accuracy for video game reviews and 2 for sentiment and accuracy for movie reviews. This can be done with a `for` loop that separates the tuples and adds each piece to the correct list:"
   ]
  },
  {
   "cell_type": "code",
   "execution_count": 81,
   "metadata": {
    "collapsed": false
   },
   "outputs": [
    {
     "name": "stdout",
     "output_type": "stream",
     "text": [
      "Average sentiment of VG reviews in corpus is 0.09446222340186292\n",
      "Average sentiment of MOV reviews in corpus is 0.12921615440100293\n",
      "Average objectivity of VG reviews in corpus is 0.49004231578921487\n",
      "Average objectivity of MOV reviews in corpus is 0.4748284952346567\n"
     ]
    }
   ],
   "source": [
    "# first create some lists to store the values\n",
    "vg_sent_only = []\n",
    "mov_sent_only = []\n",
    "mov_obj = []\n",
    "vg_obj = []\n",
    "\n",
    "# then we'll use a for loop to separate them for vg data and add them to the appropriate lists\n",
    "for item in vg_sent_list:\n",
    "    sentiment = item[0]\n",
    "    objectivity = item[1]\n",
    "    vg_sent_only.append(sentiment)\n",
    "    vg_obj.append(objectivity)\n",
    "    \n",
    "# print(vg_sent_only)\n",
    "\n",
    "# then repeat for mov data\n",
    "for item in mov_sent_list:\n",
    "    sentiment = item[0]\n",
    "    objectivity = item[1]\n",
    "    mov_sent_only.append(sentiment)\n",
    "    mov_obj.append(objectivity)\n",
    "    \n",
    "# print(mov_sent_only)\n",
    "\n",
    "# generate averages for each list of values\n",
    "vg_sent_avg = sum(vg_sent_only)/len(vg_sent_only)\n",
    "mov_sent_avg = sum(mov_sent_only) / len(mov_sent_only)\n",
    "mov_obj_avg = sum(mov_obj) / len(mov_obj)\n",
    "vg_obj_avg = sum(vg_obj) / len(vg_obj)\n",
    "\n",
    "print('Average sentiment of VG reviews in corpus is', vg_sent_avg)\n",
    "print('Average sentiment of MOV reviews in corpus is', mov_sent_avg)\n",
    "print('Average objectivity of VG reviews in corpus is', vg_obj_avg)\n",
    "print('Average objectivity of MOV reviews in corpus is', mov_obj_avg)"
   ]
  },
  {
   "cell_type": "markdown",
   "metadata": {},
   "source": [
    "#### Plotting for better comparison\n",
    "This data is great, but it can be hard to compare directly, both because of the difficulty of visualizing difference between such long floats and because of the need to see the distribution for each figure, which will be more enlightening. To do this, we'll convert the lists of sentiment and objectivty into data frames and then plot them against each other. Here's how, using a subplot call:"
   ]
  },
  {
   "cell_type": "code",
   "execution_count": 76,
   "metadata": {
    "collapsed": false
   },
   "outputs": [
    {
     "name": "stdout",
     "output_type": "stream",
     "text": [
      "Sentiment distributions compared:\n"
     ]
    },
    {
     "data": {
      "image/png": "[encoded data removed]",
      "text/plain": [
       "<matplotlib.figure.Figure at 0x11e4b3400>"
      ]
     },
     "metadata": {},
     "output_type": "display_data"
    }
   ],
   "source": [
    "matplotlib.rcParams['figure.figsize'] = (10.0, 8.0) # changing the default plot size to be bigger to facilitate reading\n",
    "\n",
    "vg_obj_df = pd.DataFrame(vg_obj)\n",
    "# vg_obj_df.head()\n",
    "\n",
    "vg_sent_df = pd.DataFrame(vg_sent_only)\n",
    "# vg_sent_df.head()\n",
    "\n",
    "mov_obj_df = pd.DataFrame(mov_obj)\n",
    "# mov_obj_df.head()\n",
    "\n",
    "mov_sent_df = pd.DataFrame(mov_sent_only)\n",
    "# mov_sent_df.head()\n",
    "\n",
    "mylabels = ['vg', 'mov']\n",
    "a = vg_sent_df.plot()\n",
    "mov_sent_df.plot(ax=a)\n",
    "print('Sentiment distributions compared:')\n",
    "plt.legend(mylabels)\n",
    "plt.show()"
   ]
  },
  {
   "cell_type": "code",
   "execution_count": 77,
   "metadata": {
    "collapsed": false
   },
   "outputs": [
    {
     "name": "stdout",
     "output_type": "stream",
     "text": [
      "Objectivity of sentiment distrubitions compared:\n"
     ]
    },
    {
     "data": {
      "image/png": "[encoded data removed]",
      "text/plain": [
       "<matplotlib.figure.Figure at 0x11e51eb00>"
      ]
     },
     "metadata": {},
     "output_type": "display_data"
    }
   ],
   "source": [
    "c = vg_obj_df.plot()\n",
    "mov_obj_df.plot(ax=c)\n",
    "print('Objectivity of sentiment distrubitions compared:')\n",
    "plt.legend(mylabels)\n",
    "plt.show()"
   ]
  },
  {
   "cell_type": "markdown",
   "metadata": {},
   "source": [
    "### Examining the Most- and Least-Common Words for Each Class of Review\n",
    "Placeholder"
   ]
  },
  {
   "cell_type": "code",
   "execution_count": 156,
   "metadata": {
    "collapsed": true
   },
   "outputs": [],
   "source": [
    "# Now, let's take a look at the actual top and bottom words associated with each class.\n",
    "# For this, we need to bring in some functions adapted from work of Ted Underwood\n",
    "def addcounters(counter2add, countersum):\n",
    "    ''' Adds all the counts in counter2add to countersum.'''\n",
    "    \n",
    "    for key, value in counter2add.items():\n",
    "        countersum[key] += value\n",
    "        \n",
    "def headandtail(tuplelist, n):\n",
    "    tuplelist.sort(reverse = True)\n",
    "    print(\"TOP VALUES:\")\n",
    "    for i in range(n):\n",
    "        print(tuplelist[i][1], tuplelist[i][0])\n",
    "    \n",
    "    print()\n",
    "    print(\"BOTTOM VALUES:\")\n",
    "    lastindex = len(tuplelist) - 1\n",
    "    for i in range(lastindex, lastindex - n, -1):\n",
    "        print(tuplelist[i][1], tuplelist[i][0])\n",
    "\n",
    "def logodds(countsA, countsB, word):\n",
    "    ''' Straightforward.\n",
    "    '''\n",
    "    \n",
    "    odds = (countsA[word] + 1) / (countsB[word] + 1)\n",
    "    \n",
    "    # Why do we add 1 on both sides? Two reasons. The hacky one is \n",
    "    # that otherwise we'll get a division-by-zero error whenever\n",
    "    # word isn't present in countsB. The more principled reason\n",
    "    # is that this technique (called Laplacian smoothing) tends\n",
    "    # to reduce the dramatic disproportion likely to be found in\n",
    "    # very rare words.\n",
    "    \n",
    "    return math.log(odds)\n",
    "\n",
    "def signed_dunnings(countsA, totalA, countsB, totalB, word):\n",
    "    ''' Less straightforward. This function calculates a signed (+1 / -1)\n",
    "    version of Dunning's log likelihood. Intuitively, this is a number \n",
    "    that gets larger as the frequency of the word in our two corpora\n",
    "    diverges from its EXPECTED frequency -- i.e., the frequency it would\n",
    "    have if it were equally distributed over both. But it also tends to get\n",
    "    larger as the raw frequency of the word increases.\n",
    "    \n",
    "    Note that this function requires two additional arguments:\n",
    "    the total number of words in A and B. We could calculate that inside\n",
    "    the function, but it's faster to calculate it just once, outside the function.\n",
    "    \n",
    "    Also note: the strict definition of Dunnings has no 'sign': it gets bigger\n",
    "    whether a word is overrepresented in A or B. I've edited that so that Dunnings\n",
    "    is positive if overrepresented in A, and negative if overrepresented in B.\n",
    "    '''\n",
    "    if word not in countsA and word not in countsB:\n",
    "        return 0\n",
    "    \n",
    "    # the raw frequencies of this word in our two corpora\n",
    "    # still doing a little Laplacian smoothing here\n",
    "    a = countsA[word] + 0.1\n",
    "    b = countsB[word] + 0.1\n",
    "    \n",
    "    # now let's calculate the expected number of times this\n",
    "    # word would occur in both if the frequency were constant\n",
    "    # across both\n",
    "    overallfreq = (a + b) / (totalA + totalB)\n",
    "    expectedA = totalA * overallfreq\n",
    "    expectedB = totalB * overallfreq\n",
    "    \n",
    "    # and now the Dunning's formula\n",
    "    dunning = 2 * ((a * math.log(a / expectedA)) + (b * math.log(b / expectedB)))\n",
    "    \n",
    "    if a < expectedA:\n",
    "        return -dunning\n",
    "    else:   \n",
    "        return dunning\n"
   ]
  },
  {
   "cell_type": "code",
   "execution_count": null,
   "metadata": {
    "collapsed": true
   },
   "outputs": [],
   "source": []
  },
  {
   "cell_type": "code",
   "execution_count": 109,
   "metadata": {
    "collapsed": false
   },
   "outputs": [
    {
     "name": "stdout",
     "output_type": "stream",
     "text": [
      "Total vocab =  13516\n",
      "Total vocab minus stop words =  13492\n"
     ]
    }
   ],
   "source": [
    "# Now, it's time to see the words most prevalent in each set of reviews.\n",
    "\n",
    "# First, we create a vocab. The create_vocab fucntion takes text and 'n' which is a stand-in for max size of the vocab.\n",
    "#  I'm going to try to capture all words, even though it's not necessary. It provides more flexibility for analysis,\n",
    "#  though.\n",
    "\n",
    "rev_vocab = create_vocab(review_data['review'], 20000)\n",
    "print('Total vocab = ', len(rev_vocab))\n",
    "\n",
    "# a list of common stop words to use for removing frequent words that are unenlightening:\n",
    "stopwords = {'a', 'an', 'are', 'and', 'but', 'or', 'that', 'this', 'so', \n",
    "             'all', 'at', 'if', 'in', 'i', 'is', 'was', 'by', 'of', 'to', \n",
    "             'the', 'be', 'you', 'were', '–', '\"'}\n",
    "\n",
    "# Removing stopwords for more enlightening results\n",
    "rev_vocab_nostop = list(set(rev_vocab) - stopwords)\n",
    "print('Total vocab minus stop words = ', len(rev_vocab_nostop))"
   ]
  },
  {
   "cell_type": "code",
   "execution_count": 110,
   "metadata": {
    "collapsed": false
   },
   "outputs": [
    {
     "name": "stdout",
     "output_type": "stream",
     "text": [
      "Total number of rows in test_review_data dataset =  252\n",
      "Total movie review words =  9550\n",
      "Total video game review words =  7026\n"
     ]
    }
   ],
   "source": [
    "video_game = Counter()\n",
    "movie = Counter()\n",
    "\n",
    "num_rows = review_data.shape[0]\n",
    "print('Total number of rows in test_review_data dataset = ', num_rows)\n",
    "\n",
    "# Figure out how many rows are in the Trump DataFrame\n",
    "# and put that number in a variable like 'numrows.'\n",
    "# Then iterate through the 'text' column of the data frame.\n",
    "\n",
    "for i in range(num_rows):\n",
    "    counts = tokenize(review_data['review'][i])\n",
    "    if 'mov' in review_data['source'][i]:\n",
    "        addcounters(counts, movie)\n",
    "    elif 'vg' in review_data['source'][i]:\n",
    "        addcounters(counts, video_game)\n",
    "\n",
    "vg_count = len(video_game)\n",
    "mov_count = len(movie)\n",
    "\n",
    "print('Total movie review words = ', mov_count)\n",
    "print('Total video game review words = ', vg_count)"
   ]
  },
  {
   "cell_type": "code",
   "execution_count": 111,
   "metadata": {
    "collapsed": false
   },
   "outputs": [
    {
     "name": "stdout",
     "output_type": "stream",
     "text": [
      "FOR LOG ODDS:\n",
      "TOP VALUES:\n",
      "– 4.804021044733257\n",
      "games 4.110873864173311\n",
      "enemies 3.713572066704308\n",
      "puzzles 3.4011973816621555\n",
      "game 3.3758795736778655\n",
      "gameplay 3.332204510175204\n",
      "cards 3.295836866004329\n",
      "resi 3.1780538303479458\n",
      "main 3.1780538303479458\n",
      "card 3.1780538303479458\n",
      "campaign 3.1354942159291497\n",
      "voodoo 3.091042453358316\n",
      "game’s 3.091042453358316\n",
      "extra 2.995732273553991\n",
      "units 2.9444389791664403\n",
      "you’re 2.9267394020670396\n",
      "player 2.8903717578961645\n",
      "missions 2.8903717578961645\n",
      "i’m 2.8903717578961645\n",
      "halo 2.8903717578961645\n",
      "wars 2.833213344056216\n",
      "collect 2.772588722239781\n",
      "thimbleweed 2.70805020110221\n",
      "myself 2.70805020110221\n",
      "options 2.6390573296152584\n",
      "\n",
      "BOTTOM VALUES:\n",
      "film -4.350277936359301\n",
      "director -3.871201010907891\n",
      "documentary -3.6635616461296463\n",
      "fawcett -3.332204510175204\n",
      "olli -3.1780538303479458\n",
      "films -3.1354942159291497\n",
      "michael -3.1354942159291497\n",
      "movies -3.1354942159291497\n",
      "norman -3.1354942159291497\n",
      "directed -3.044522437723423\n",
      "drama -3.044522437723423\n",
      "wife -3.044522437723423\n",
      "“the -3.044522437723423\n",
      "french -2.995732273553991\n",
      "film’s -2.9444389791664407\n",
      "ms -2.9444389791664407\n",
      "audiences -2.890371757896165\n",
      "james -2.833213344056216\n",
      "john -2.833213344056216\n",
      "tommy -2.833213344056216\n",
      "“a -2.833213344056216\n",
      "audience -2.772588722239781\n",
      "british -2.772588722239781\n",
      "film's -2.772588722239781\n",
      "filmmaker -2.772588722239781\n",
      "\n",
      "\n",
      "FOR DUNNINGS:\n",
      "TOP VALUES:\n",
      "his 163.50389043775527\n",
      "film 158.75348353237396\n",
      "he 122.28132192876419\n",
      "her 80.85521129722653\n",
      "movie 61.42719052927957\n",
      "“the 53.59590451095252\n",
      "director 50.68374971077046\n",
      "documentary 40.8006465722928\n",
      "mr 37.91713929034529\n",
      "she 34.89678958514073\n",
      "who 34.00815747855843\n",
      "whose 32.13469584935861\n",
      "young 29.136380632237973\n",
      "life 28.87205448363585\n",
      "fawcett 28.737552715500524\n",
      "olli 24.358111518437607\n",
      "school 23.506331042204007\n",
      "norman 23.264113566434126\n",
      "movies 23.264113566434126\n",
      "michael 23.264113566434126\n",
      "films 23.264113566434126\n",
      "baby 22.481672545716464\n",
      "woman 21.45989468751975\n",
      "wife 21.077381397107093\n",
      "drama 21.077381397107093\n",
      "\n",
      "BOTTOM VALUES:\n",
      "game -343.9958205719624\n",
      "your -254.88368525568876\n",
      "my -123.10435677865789\n",
      "can -109.74352571888875\n",
      "games -101.80266278872595\n",
      "me -89.94332574960129\n",
      "it -88.26860098699854\n",
      "you’re -78.90349339002009\n",
      "enemies -67.54997412845613\n",
      "get -56.387626253408044\n",
      "more -54.87583558735663\n",
      "it’s -52.92640161822442\n",
      "them -50.29104439545396\n",
      "players -49.951960166448785\n",
      "puzzles -48.73056481121615\n",
      "gameplay -45.31142715054672\n",
      "cards -43.60225610606544\n",
      "every -41.87525794544209\n",
      "just -41.20908492992229\n",
      "playing -41.13224514379124\n",
      "up -39.096506746910805\n",
      "card -38.47659714829177\n",
      "main -38.47659714829177\n",
      "resi -38.47659714829177\n",
      "don’t -36.83731310242366\n"
     ]
    }
   ],
   "source": [
    "# When you get around to running Dunning's, you'll need to\n",
    "# create variables that hold the total count of *all words*\n",
    "# in iphone and android.\n",
    "\n",
    "total_words = Counter()\n",
    "addcounters(video_game, total_words)\n",
    "addcounters(movie, total_words)\n",
    "\n",
    "# print('Total word count = ', len(total_words))\n",
    "\n",
    "# Create an empty list to hold pairs of (overrepresentation_measure, word)\n",
    "# Then iterate through your vocabulary. For each word, measure \n",
    "# overrepresentation using either logodds or signed_dunnings.\n",
    "# Create a tuple, (overrepresentation_measure, word)\n",
    "# and append it to the empty list you created.\n",
    "\n",
    "overrep_words_log = []\n",
    "overrep_words_dunnings = []\n",
    "\n",
    "for wrd in rev_vocab_nostop:\n",
    "    x = signed_dunnings(movie, mov_count, video_game, vg_count, wrd)\n",
    "    overrep_words_dunnings.append((x, wrd))\n",
    "\n",
    "for word in rev_vocab:\n",
    "    x = logodds(video_game, movie, word)\n",
    "    overrep_words_log.append((x, word))\n",
    "\n",
    "# Finally use the headandtail function to display the top 25 and bottom 25\n",
    "# words in your tuplelist.\n",
    "\n",
    "print('FOR LOG ODDS:')\n",
    "headandtail(overrep_words_log, 25)\n",
    "print('\\n')\n",
    "print('FOR DUNNINGS:')\n",
    "headandtail(overrep_words_dunnings, 25)"
   ]
  },
  {
   "cell_type": "markdown",
   "metadata": {},
   "source": [
    "## Findings & Conclusion\n",
    "Placeholder\n"
   ]
  },
  {
   "cell_type": "markdown",
   "metadata": {
    "collapsed": true
   },
   "source": [
    "## Possible Next Steps\n",
    "Placeholder"
   ]
  },
  {
   "cell_type": "code",
   "execution_count": null,
   "metadata": {
    "collapsed": true
   },
   "outputs": [],
   "source": []
  }
 ],
 "metadata": {
  "anaconda-cloud": {},
  "kernelspec": {
   "display_name": "Python [conda root]",
   "language": "python",
   "name": "conda-root-py"
  },
  "language_info": {
   "codemirror_mode": {
    "name": "ipython",
    "version": 3
   },
   "file_extension": ".py",
   "mimetype": "text/x-python",
   "name": "python",
   "nbconvert_exporter": "python",
   "pygments_lexer": "ipython3",
   "version": "3.5.3"
  }
 },
 "nbformat": 4,
 "nbformat_minor": 1
}
