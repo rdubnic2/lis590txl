{
 "cells": [
  {
   "cell_type": "markdown",
   "metadata": {},
   "source": [
    "Lab 9\n",
    "\n",
    "- Dimensionality reduction with Latent Semantic Analysis\n",
    "- Dictionary-based sentiment analysis\n",
    "- Classification-based sentiment analysis"
   ]
  },
  {
   "cell_type": "code",
   "execution_count": 2,
   "metadata": {
    "collapsed": false
   },
   "outputs": [],
   "source": [
    "%matplotlib inline\n",
    "import pandas as pd\n",
    "import numpy as np\n",
    "\n",
    "path = 'https://raw.githubusercontent.com/organisciak/Text-Mining-Course/master/data/contemporary_books/'\n",
    "data = pd.read_csv(path + 'contemporary.csv', encoding='utf-8').set_index('book')\n",
    "info = pd.read_csv(path + 'contemporary_labels.csv', encoding='utf-8')\n",
    "\n",
    "# data.head()\n",
    "# data.values"
   ]
  },
  {
   "cell_type": "markdown",
   "metadata": {},
   "source": [
    "## Latent Semantic Analysis\n",
    "\n",
    "Latent Semantic Analysis applies a dimensionality reduction, SVD, over the term-document matrix. It can be found in Sci-Kit Learn using a similar interface to what we saw for classification and clustering: you initialize the model, train it (`fit`), then optionally give it other texts to infer which topics they belong to (`transform`). As before, if you want to see the topics for the texts that you're training on, you can use `fit_transform` all at once.\n",
    "\n",
    "http://scikit-learn.org/stable/modules/generated/sklearn.decomposition.TruncatedSVD.html"
   ]
  },
  {
   "cell_type": "code",
   "execution_count": 3,
   "metadata": {
    "collapsed": false
   },
   "outputs": [],
   "source": [
    "from sklearn.decomposition import TruncatedSVD\n",
    "lsa = TruncatedSVD(n_components=2)\n",
    "twodims = lsa.fit_transform(data.values)\n",
    "# type(twodims)"
   ]
  },
  {
   "cell_type": "markdown",
   "metadata": {},
   "source": [
    "`twodims` here gives us a representation of each of our books in two numbers. This is too small to be interpreted by us as topics, but the number are still useful for interpreting the similarity or difference of our books.\n",
    "\n",
    "`twodims` is currently a Numpy Array, let's convert it to something we know better, a DataFrame:"
   ]
  },
  {
   "cell_type": "code",
   "execution_count": 4,
   "metadata": {
    "collapsed": false
   },
   "outputs": [
    {
     "data": {
      "text/html": [
       "<div>\n",
       "<table border=\"1\" class=\"dataframe\">\n",
       "  <thead>\n",
       "    <tr style=\"text-align: right;\">\n",
       "      <th></th>\n",
       "      <th>dim1</th>\n",
       "      <th>dim2</th>\n",
       "    </tr>\n",
       "    <tr>\n",
       "      <th>title</th>\n",
       "      <th></th>\n",
       "      <th></th>\n",
       "    </tr>\n",
       "  </thead>\n",
       "  <tbody>\n",
       "    <tr>\n",
       "      <th>The stand</th>\n",
       "      <td>4539.134777</td>\n",
       "      <td>-899.085756</td>\n",
       "    </tr>\n",
       "    <tr>\n",
       "      <th>Lady oracle;</th>\n",
       "      <td>1483.051270</td>\n",
       "      <td>-156.938065</td>\n",
       "    </tr>\n",
       "    <tr>\n",
       "      <th>The robber bride</th>\n",
       "      <td>2061.469682</td>\n",
       "      <td>1036.625792</td>\n",
       "    </tr>\n",
       "    <tr>\n",
       "      <th>The pelican brief</th>\n",
       "      <td>1304.004510</td>\n",
       "      <td>133.809138</td>\n",
       "    </tr>\n",
       "    <tr>\n",
       "      <th>The rainmaker</th>\n",
       "      <td>1642.424503</td>\n",
       "      <td>1212.007130</td>\n",
       "    </tr>\n",
       "  </tbody>\n",
       "</table>\n",
       "</div>"
      ],
      "text/plain": [
       "                          dim1         dim2\n",
       "title                                      \n",
       "The stand          4539.134777  -899.085756\n",
       "Lady oracle;       1483.051270  -156.938065\n",
       "The robber bride   2061.469682  1036.625792\n",
       "The pelican brief  1304.004510   133.809138\n",
       "The rainmaker      1642.424503  1212.007130"
      ]
     },
     "execution_count": 4,
     "metadata": {},
     "output_type": "execute_result"
    }
   ],
   "source": [
    "twodims_df = pd.DataFrame(twodims, columns=['dim1', 'dim2'], index=info['title'])\n",
    "twodims_df.head()"
   ]
  },
  {
   "cell_type": "markdown",
   "metadata": {},
   "source": [
    "DataFrames have a call to `plot.scatter` that is useful here:"
   ]
  },
  {
   "cell_type": "code",
   "execution_count": 5,
   "metadata": {
    "collapsed": false
   },
   "outputs": [
    {
     "data": {
      "text/plain": [
       "<matplotlib.axes._subplots.AxesSubplot at 0x10ed51b38>"
      ]
     },
     "execution_count": 5,
     "metadata": {},
     "output_type": "execute_result"
    },
    {
     "data": {
      "image/png": "[encoded data removed]",
      "text/plain": [
       "<matplotlib.figure.Figure at 0x102338a58>"
      ]
     },
     "metadata": {},
     "output_type": "display_data"
    }
   ],
   "source": [
    "twodims_df.plot.scatter('dim1', 'dim2')"
   ]
  },
  {
   "cell_type": "markdown",
   "metadata": {},
   "source": [
    "This plot of all the books shows that, when reducing the document-term matrix to 2-dimensions, *The Stand* is a heavy outlier, confirming what we saw last week.\n",
    "\n",
    "As last week, a TFIDF transformation will give better results, as such:\n",
    "\n",
    "![](../images/lsa_2dim_tfidf.png)\n",
    "\n",
    "**Q1** (2pts): Show the code to produce the above image. Note that the TFIDF transformation uses sublinear TF scaling."
   ]
  },
  {
   "cell_type": "code",
   "execution_count": 6,
   "metadata": {
    "collapsed": false,
    "scrolled": true
   },
   "outputs": [
    {
     "data": {
      "text/plain": [
       "<matplotlib.axes._subplots.AxesSubplot at 0x114854d30>"
      ]
     },
     "execution_count": 6,
     "metadata": {},
     "output_type": "execute_result"
    },
    {
     "data": {
      "image/png": "[encoded data removed]",
      "text/plain": [
       "<matplotlib.figure.Figure at 0x10a6a8d30>"
      ]
     },
     "metadata": {},
     "output_type": "display_data"
    }
   ],
   "source": [
    "# Q1\n",
    "\n",
    "%matplotlib inline\n",
    "import pandas as pd\n",
    "from sklearn.feature_extraction.text import TfidfTransformer\n",
    "\n",
    "path = 'https://raw.githubusercontent.com/organisciak/Text-Mining-Course/master/data/contemporary_books/'\n",
    "data = pd.read_csv(path + 'contemporary.csv', encoding='utf-8').set_index('book')\n",
    "info = pd.read_csv(path + 'contemporary_labels.csv', encoding='utf-8')\n",
    "\n",
    "lsa = TruncatedSVD(n_components=2)\n",
    "twodims = lsa.fit_transform(data.values)\n",
    "\n",
    "# print(info)\n",
    "# data.head()\n",
    "\n",
    "transformer = TfidfTransformer(sublinear_tf=True)\n",
    "twodims_tf_idf = transformer.fit_transform(data.values)\n",
    "\n",
    "twodims_tf_idf_lsa = lsa.fit_transform(twodims_tf_idf)\n",
    "\n",
    "twodims_tf_idf_df = pd.DataFrame(twodims_tf_idf_lsa, columns=['dim1','dim2'], index=info['title'])\n",
    "# twodims_tf_idf_df.head(25)\n",
    "\n",
    "twodims_tf_idf_df.plot.scatter('dim1', 'dim2')"
   ]
  },
  {
   "cell_type": "markdown",
   "metadata": {},
   "source": [
    "## Inspecting the LSA output\n",
    "\n",
    "You can look at how each word fits into each dimension with `lsa.components_`. This value only exists after the model is trained with `lsa.fit` or, as we did above, `lsa.fit_transform`.\n",
    "\n",
    "*Tip*: If you're trying to figure out what information is in a matrix, often its useful to check how big it is. We know that our original document-term matrix is:"
   ]
  },
  {
   "cell_type": "code",
   "execution_count": 7,
   "metadata": {
    "collapsed": false
   },
   "outputs": [
    {
     "data": {
      "text/plain": [
       "(31, 17570)"
      ]
     },
     "execution_count": 7,
     "metadata": {},
     "output_type": "execute_result"
    }
   ],
   "source": [
    "data.shape"
   ]
  },
  {
   "cell_type": "markdown",
   "metadata": {},
   "source": [
    ".. 31 books x 17570 words. The output of our two-dimension LSA is:"
   ]
  },
  {
   "cell_type": "code",
   "execution_count": 8,
   "metadata": {
    "collapsed": false
   },
   "outputs": [
    {
     "data": {
      "text/plain": [
       "(31, 2)"
      ]
     },
     "execution_count": 8,
     "metadata": {},
     "output_type": "execute_result"
    }
   ],
   "source": [
    "twodims.shape"
   ]
  },
  {
   "cell_type": "markdown",
   "metadata": {},
   "source": [
    "...31 books x 2 dimensions. So when we check the size of `lsa.components_`:"
   ]
  },
  {
   "cell_type": "code",
   "execution_count": 9,
   "metadata": {
    "collapsed": false
   },
   "outputs": [
    {
     "data": {
      "text/plain": [
       "(2, 17570)"
      ]
     },
     "execution_count": 9,
     "metadata": {},
     "output_type": "execute_result"
    }
   ],
   "source": [
    "lsa.components_.shape"
   ]
  },
  {
   "cell_type": "markdown",
   "metadata": {},
   "source": [
    "We can infer that it is a dimension x word matrix. Convert it to a DataFrame and transpose it (i.e. rotate the columns/row, with `T`) so that the dimensions are rows rather than columns."
   ]
  },
  {
   "cell_type": "code",
   "execution_count": 10,
   "metadata": {
    "collapsed": false,
    "scrolled": true
   },
   "outputs": [
    {
     "data": {
      "text/html": [
       "<div>\n",
       "<table border=\"1\" class=\"dataframe\">\n",
       "  <thead>\n",
       "    <tr style=\"text-align: right;\">\n",
       "      <th></th>\n",
       "      <th>0</th>\n",
       "      <th>1</th>\n",
       "    </tr>\n",
       "  </thead>\n",
       "  <tbody>\n",
       "    <tr>\n",
       "      <th>aback</th>\n",
       "      <td>0.003482</td>\n",
       "      <td>-0.003931</td>\n",
       "    </tr>\n",
       "    <tr>\n",
       "      <th>abagail</th>\n",
       "      <td>0.001587</td>\n",
       "      <td>-0.003958</td>\n",
       "    </tr>\n",
       "    <tr>\n",
       "      <th>abandon</th>\n",
       "      <td>0.004803</td>\n",
       "      <td>0.000010</td>\n",
       "    </tr>\n",
       "    <tr>\n",
       "      <th>abandoned</th>\n",
       "      <td>0.011372</td>\n",
       "      <td>0.004887</td>\n",
       "    </tr>\n",
       "    <tr>\n",
       "      <th>abandoning</th>\n",
       "      <td>0.003055</td>\n",
       "      <td>0.003171</td>\n",
       "    </tr>\n",
       "  </tbody>\n",
       "</table>\n",
       "</div>"
      ],
      "text/plain": [
       "                   0         1\n",
       "aback       0.003482 -0.003931\n",
       "abagail     0.001587 -0.003958\n",
       "abandon     0.004803  0.000010\n",
       "abandoned   0.011372  0.004887\n",
       "abandoning  0.003055  0.003171"
      ]
     },
     "execution_count": 10,
     "metadata": {},
     "output_type": "execute_result"
    }
   ],
   "source": [
    "dimwords = pd.DataFrame(lsa.components_, columns=data.columns).T\n",
    "dimwords.head()"
   ]
  },
  {
   "cell_type": "markdown",
   "metadata": {},
   "source": [
    "What are the most representative words for a topic? Choose a column and sort it in descending order to find out. Noting that we didn't change the column names this time from the default `0` and `1`, selection and sorting should be familiar to you by now:"
   ]
  },
  {
   "cell_type": "code",
   "execution_count": 11,
   "metadata": {
    "collapsed": false,
    "scrolled": true
   },
   "outputs": [
    {
     "data": {
      "text/plain": [
       "said    0.037033\n",
       "back    0.033661\n",
       "time    0.032871\n",
       "know    0.032695\n",
       "get     0.032203\n",
       "Name: 0, dtype: float64"
      ]
     },
     "execution_count": 11,
     "metadata": {},
     "output_type": "execute_result"
    }
   ],
   "source": [
    "dimwords[0].sort_values(ascending=False).head()"
   ]
  },
  {
   "cell_type": "markdown",
   "metadata": {},
   "source": [
    "Or more generally, extracting the top words from the index, for each dimension:"
   ]
  },
  {
   "cell_type": "code",
   "execution_count": 12,
   "metadata": {
    "collapsed": false
   },
   "outputs": [
    {
     "name": "stdout",
     "output_type": "stream",
     "text": [
      "0 Top words:  ['said' 'back' 'time' 'know' 'get' 'little' 'see']\n",
      "1 Top words:  ['lawsuit' 'courtroom' 'jury' 'litigation' 'jurors' 'fees' 'client']\n"
     ]
    }
   ],
   "source": [
    "for i in range(0, 2):\n",
    "    topwords = dimwords[i].sort_values(ascending=False)\n",
    "    print(i, \"Top words: \", topwords.index.values[:7])"
   ]
  },
  {
   "cell_type": "markdown",
   "metadata": {},
   "source": [
    "To move toward topics, try training with more dimensions, and with smaller document frames (e.g. pages rather than books). Here are the top words for 15 topics:\n",
    "\n",
    "```\n",
    "0 Top words:  ['time' 'way' 'something' 'eyes' 'man' 'door' 'head']\n",
    "1 Top words:  ['lawyers' 'trial' 'lawyer' 'jury' 'client' 'firm' 'office']\n",
    "2 Top words:  ['university' 'mar' 'billing' 'books' 'book' 'date' 'fiction']\n",
    "3 Top words:  ['fiction' 'copyright' 'book' 'women' 'author' 'children' 'permission']\n",
    "4 Top words:  ['copyright' 'book' 'fiction' 'trademarks' 'characters' 'resemblance'\n",
    " 'author']\n",
    "5 Top words:  ['jury' 'jurors' 'courtroom' 'witness' 'trial' 'courthouse' 'county']\n",
    "6 Top words:  ['copyright' 'division' 'trademarks' 'persons' 'rights' 'resemblance'\n",
    " 'permission']\n",
    "7 Top words:  ['claims' 'claim' 'policy' 'documents' 'company' 'firm' 'marrow']\n",
    "8 Top words:  ['woods' 'boat' 'settlement' 'firm' 'water' 'tree' 'trees']\n",
    "9 Top words:  ['quarterback' 'team' 'panthers' 'football' 'field' 'game' 'ball']\n",
    "10 Top words:  ['beach' 'shells' 'daughter' 'paintings' 'pictures' 'painting' 'ship']\n",
    "11 Top words:  ['firm' 'tort' 'plaintiffs' 'art' 'trial' 'paintings' 'shells']\n",
    "12 Top words:  ['maids' 'suitors' 'cop' 'palace' 'husband' 'son' 'father']\n",
    "13 Top words:  ['boat' 'river' 'cop' 'sand' 'plane' 'wind' 'boats']\n",
    "14 Top words:  ['firm' 'exam' 'hospital' 'horror' 'bar' 'nurse' 'cell']\n",
    "```\n",
    "\n",
    "We've posted data for 10-page chunks of the same books here:"
   ]
  },
  {
   "cell_type": "code",
   "execution_count": 13,
   "metadata": {
    "collapsed": false
   },
   "outputs": [],
   "source": [
    "path = 'https://raw.githubusercontent.com/organisciak/Text-Mining-Course/master/data/contemporary_books/'\n",
    "data = pd.read_csv(path + 'contemporary-pages.csv.gz', encoding='utf-8', compression='gzip').set_index('id')\n",
    "info = pd.read_csv(path + 'contemporary-pages_labels.csv', encoding='utf-8')\n",
    "\n",
    "# info.head(125)"
   ]
  },
  {
   "cell_type": "markdown",
   "metadata": {},
   "source": [
    "**Q2**: Training on the page chunks, train a model with 15 topics and view the topics. They'll be similar but not necessarily the same to what is posted above. Share your code."
   ]
  },
  {
   "cell_type": "code",
   "execution_count": 14,
   "metadata": {
    "collapsed": false
   },
   "outputs": [
    {
     "name": "stdout",
     "output_type": "stream",
     "text": [
      "0 Top words:  ['time' 'way' 'man' 'something' 'eyes' 'people' 'head' 'door']\n",
      "1 Top words:  ['money' 'lawyers' 'lawyer' 'office' 'jury' 'trial' 'years' 'case']\n",
      "2 Top words:  ['mother' 'film' 'horror' 'father' 'book' 'story' 'things' 'house']\n",
      "3 Top words:  ['film' 'horror' 'book' 'man' 'story' 'tv' 'novel' 'people']\n",
      "4 Top words:  ['jury' 'jurors' 'trial' 'courtroom' 'witness' 'claims' 'case' 'time']\n",
      "5 Top words:  ['man' 'mother' 'father' 'people' 'woman' 'jury' 'money' 'cop']\n",
      "6 Top words:  ['film' 'mother' 'door' 'cop' 'car' 'father' 'book' 'tv']\n",
      "7 Top words:  ['room' 'door' 'man' 'women' 'bed' 'woman' 'floor' 'men']\n",
      "8 Top words:  ['film' 'money' 'eyes' 'hand' 'room' 'lawyers' 'water' 'lawyer']\n",
      "9 Top words:  ['cop' 'something' 'people' 'women' 'phone' 'things' 'woman' 'anything']\n",
      "10 Top words:  ['money' 'time' 'car' 'claims' 'father' 'cop' 'house' 'room']\n",
      "11 Top words:  ['film' 'phone' 'time' 'mother' 'book' 'night' 'tv' 'man']\n",
      "12 Top words:  ['film' 'cop' 'women' 'car' 'water' 'men' 'boat' 'money']\n",
      "13 Top words:  ['cop' 'room' 'game' 'night' 'day' 'voice' 'years' 'bed']\n",
      "14 Top words:  ['house' 'cop' 'grandmother' 'time' 'case' 'kitchen' 'book' 'trial']\n"
     ]
    }
   ],
   "source": [
    "# Q2\n",
    "\n",
    "from sklearn.decomposition import TruncatedSVD\n",
    "lsa = TruncatedSVD(n_components=15)\n",
    "fifteendims = lsa.fit_transform(data.values)\n",
    "\n",
    "fifteendims_df = pd.DataFrame(fifteendims, columns=['dim1', 'dim2', 'dim3','dim4','dim5','dim6','dim7','dim8','dim9','dim10','dim11', 'dim12', 'dim13','dim14','dim15'], index=info['title'])\n",
    "fifteendims_df.head(20)\n",
    "\n",
    "fifteendimwords = pd.DataFrame(lsa.components_, columns=data.columns).T\n",
    "# fifteendimwords.shape\n",
    "\n",
    "# fifteendimwords[0].sort_values(ascending=False).head()\n",
    "\n",
    "for i in range(0, 15):\n",
    "    topwords = fifteendimwords[i].sort_values(ascending=False)\n",
    "    print(i, \"Top words: \", topwords.index.values[:8])"
   ]
  },
  {
   "cell_type": "markdown",
   "metadata": {},
   "source": [
    "## Sentiment Analysis - Dictionary Method\n",
    "\n",
    "One form of sentiment analysis is through dictionaries that assign a valence to a set of known words.\n",
    "\n",
    "We'll use a version of the dictionary created by Nielson (2011). To use it, download the [zip file](http://www2.imm.dtu.dk/pubdb/views/publication_details.php?id=6010) and unpack `AFINN-111.txt`.\n",
    "\n",
    "\\*Nielsen, Finn Årup. May 2011. \"A new ANEW: Evaluation of a word list for sentiment analysis in microblogs\", Proceedings of the ESWC 2011 Workshop on 'Making Sense of Microposts': Big things come in small packages 718 in CEUR Workshop Proceedings : 93-98. http://arxiv.org/abs/1103.2903\n",
    "\n",
    "This dictionary assigns emotional values from -5 to +5: negative values denote negative emotion, while positive values are positive."
   ]
  },
  {
   "cell_type": "code",
   "execution_count": 15,
   "metadata": {
    "collapsed": false
   },
   "outputs": [
    {
     "data": {
      "text/html": [
       "<div>\n",
       "<table border=\"1\" class=\"dataframe\">\n",
       "  <thead>\n",
       "    <tr style=\"text-align: right;\">\n",
       "      <th></th>\n",
       "      <th>token</th>\n",
       "      <th>valence</th>\n",
       "    </tr>\n",
       "  </thead>\n",
       "  <tbody>\n",
       "    <tr>\n",
       "      <th>2215</th>\n",
       "      <td>terribly</td>\n",
       "      <td>-3</td>\n",
       "    </tr>\n",
       "    <tr>\n",
       "      <th>1157</th>\n",
       "      <td>haters</td>\n",
       "      <td>-3</td>\n",
       "    </tr>\n",
       "    <tr>\n",
       "      <th>1277</th>\n",
       "      <td>inconsiderate</td>\n",
       "      <td>-2</td>\n",
       "    </tr>\n",
       "    <tr>\n",
       "      <th>1438</th>\n",
       "      <td>liked</td>\n",
       "      <td>2</td>\n",
       "    </tr>\n",
       "    <tr>\n",
       "      <th>1774</th>\n",
       "      <td>profiteer</td>\n",
       "      <td>-2</td>\n",
       "    </tr>\n",
       "  </tbody>\n",
       "</table>\n",
       "</div>"
      ],
      "text/plain": [
       "              token  valence\n",
       "2215       terribly       -3\n",
       "1157         haters       -3\n",
       "1277  inconsiderate       -2\n",
       "1438          liked        2\n",
       "1774      profiteer       -2"
      ]
     },
     "execution_count": 15,
     "metadata": {},
     "output_type": "execute_result"
    }
   ],
   "source": [
    "# afinn = pd.read_csv(\"../data/AFINN-111.txt\", sep='\\t', names=['token','valence'])\n",
    "afinn = pd.read_csv(\"/Users/rdubnic2/Documents/lis590txl/Data/AFINN-111.txt\", sep='\\t', names=['token','valence'])\n",
    "afinn.sample(5)"
   ]
  },
  {
   "cell_type": "markdown",
   "metadata": {},
   "source": [
    "Here's an example of a word at each sentiment value:\n",
    "\n",
    "(What am I doing here? I'm grouping by different values for 'value' and randomly sampling a single row from that subgroup)"
   ]
  },
  {
   "cell_type": "code",
   "execution_count": 16,
   "metadata": {
    "collapsed": false
   },
   "outputs": [
    {
     "data": {
      "text/html": [
       "<div>\n",
       "<table border=\"1\" class=\"dataframe\">\n",
       "  <thead>\n",
       "    <tr style=\"text-align: right;\">\n",
       "      <th></th>\n",
       "      <th></th>\n",
       "      <th>token</th>\n",
       "      <th>valence</th>\n",
       "    </tr>\n",
       "    <tr>\n",
       "      <th>valence</th>\n",
       "      <th></th>\n",
       "      <th></th>\n",
       "      <th></th>\n",
       "    </tr>\n",
       "  </thead>\n",
       "  <tbody>\n",
       "    <tr>\n",
       "      <th>-5</th>\n",
       "      <th>420</th>\n",
       "      <td>cocksuckers</td>\n",
       "      <td>-5</td>\n",
       "    </tr>\n",
       "    <tr>\n",
       "      <th>-4</th>\n",
       "      <th>2466</th>\n",
       "      <td>wtf</td>\n",
       "      <td>-4</td>\n",
       "    </tr>\n",
       "    <tr>\n",
       "      <th>-3</th>\n",
       "      <th>2438</th>\n",
       "      <td>woeful</td>\n",
       "      <td>-3</td>\n",
       "    </tr>\n",
       "    <tr>\n",
       "      <th>-2</th>\n",
       "      <th>308</th>\n",
       "      <td>boycott</td>\n",
       "      <td>-2</td>\n",
       "    </tr>\n",
       "    <tr>\n",
       "      <th>-1</th>\n",
       "      <th>673</th>\n",
       "      <td>disappear</td>\n",
       "      <td>-1</td>\n",
       "    </tr>\n",
       "    <tr>\n",
       "      <th>0</th>\n",
       "      <th>2073</th>\n",
       "      <td>some kind</td>\n",
       "      <td>0</td>\n",
       "    </tr>\n",
       "    <tr>\n",
       "      <th>1</th>\n",
       "      <th>865</th>\n",
       "      <td>entitled</td>\n",
       "      <td>1</td>\n",
       "    </tr>\n",
       "    <tr>\n",
       "      <th>2</th>\n",
       "      <th>2187</th>\n",
       "      <td>supports</td>\n",
       "      <td>2</td>\n",
       "    </tr>\n",
       "    <tr>\n",
       "      <th>3</th>\n",
       "      <th>1470</th>\n",
       "      <td>love</td>\n",
       "      <td>3</td>\n",
       "    </tr>\n",
       "    <tr>\n",
       "      <th>4</th>\n",
       "      <th>1863</th>\n",
       "      <td>rejoices</td>\n",
       "      <td>4</td>\n",
       "    </tr>\n",
       "    <tr>\n",
       "      <th>5</th>\n",
       "      <th>315</th>\n",
       "      <td>breathtaking</td>\n",
       "      <td>5</td>\n",
       "    </tr>\n",
       "  </tbody>\n",
       "</table>\n",
       "</div>"
      ],
      "text/plain": [
       "                     token  valence\n",
       "valence                            \n",
       "-5      420    cocksuckers       -5\n",
       "-4      2466           wtf       -4\n",
       "-3      2438        woeful       -3\n",
       "-2      308        boycott       -2\n",
       "-1      673      disappear       -1\n",
       " 0      2073     some kind        0\n",
       " 1      865       entitled        1\n",
       " 2      2187      supports        2\n",
       " 3      1470          love        3\n",
       " 4      1863      rejoices        4\n",
       " 5      315   breathtaking        5"
      ]
     },
     "execution_count": 16,
     "metadata": {},
     "output_type": "execute_result"
    }
   ],
   "source": [
    "afinn.groupby('valence').apply(lambda x: x.sample())"
   ]
  },
  {
   "cell_type": "markdown",
   "metadata": {
    "collapsed": true
   },
   "source": [
    "One way to use a sentiment dictionary is to assign sentiment weights to all the known words, and sum it up.\n",
    "\n",
    "Since we already have the sentiment dictionary as a Pandas DataFrame, we can load a DataFrame from our text and do an 'inner join', which joins two dataframes based on the values that overlap between specific columns.\n",
    "\n",
    "The book we'll try is _The Stand_, available in the Github repository or at https://bedrock.resnet.cms.waikato.ac.nz/vol-checker/VolumeCheck?download-id=mdp.39015005028686. "
   ]
  },
  {
   "cell_type": "code",
   "execution_count": 17,
   "metadata": {
    "collapsed": false
   },
   "outputs": [
    {
     "name": "stdout",
     "output_type": "stream",
     "text": [
      "Our book is  The stand / Stephen King.\n"
     ]
    }
   ],
   "source": [
    "# Load a volume\n",
    "from htrc_features import FeatureReader\n",
    "fr = FeatureReader('../data/contemporary_books/dataset_files/mdp.39015005028686.json.bz2')\n",
    "vol = fr.first()\n",
    "\n",
    "print(\"Our book is \", vol.title)\n",
    "\n",
    "df = vol.tokenlist(pos=False, pages=False, case=False).reset_index()\n",
    "# df.head()"
   ]
  },
  {
   "cell_type": "markdown",
   "metadata": {},
   "source": [
    "Inner join is possible with `pd.merge(dataframe1, dataframe2)`.\n",
    "\n",
    "Here is a visual example of inner joining from the [Brief primer on merge methods](http://pandas.pydata.org/pandas-docs/stable/merging.html#brief-primer-on-merge-methods-relational-algebra) from the Pandas documentation:\n",
    "\n",
    "![](../images/inner-join.png)"
   ]
  },
  {
   "cell_type": "code",
   "execution_count": 23,
   "metadata": {
    "collapsed": false
   },
   "outputs": [
    {
     "data": {
      "text/html": [
       "<div>\n",
       "<table border=\"1\" class=\"dataframe\">\n",
       "  <thead>\n",
       "    <tr style=\"text-align: right;\">\n",
       "      <th></th>\n",
       "      <th>section</th>\n",
       "      <th>lowercase</th>\n",
       "      <th>count</th>\n",
       "      <th>token</th>\n",
       "      <th>valence</th>\n",
       "    </tr>\n",
       "  </thead>\n",
       "  <tbody>\n",
       "    <tr>\n",
       "      <th>0</th>\n",
       "      <td>body</td>\n",
       "      <td>abandon</td>\n",
       "      <td>2</td>\n",
       "      <td>abandon</td>\n",
       "      <td>-2</td>\n",
       "    </tr>\n",
       "    <tr>\n",
       "      <th>1</th>\n",
       "      <td>body</td>\n",
       "      <td>abandoned</td>\n",
       "      <td>6</td>\n",
       "      <td>abandoned</td>\n",
       "      <td>-2</td>\n",
       "    </tr>\n",
       "    <tr>\n",
       "      <th>2</th>\n",
       "      <td>body</td>\n",
       "      <td>ability</td>\n",
       "      <td>8</td>\n",
       "      <td>ability</td>\n",
       "      <td>2</td>\n",
       "    </tr>\n",
       "    <tr>\n",
       "      <th>3</th>\n",
       "      <td>body</td>\n",
       "      <td>aboard</td>\n",
       "      <td>2</td>\n",
       "      <td>aboard</td>\n",
       "      <td>1</td>\n",
       "    </tr>\n",
       "    <tr>\n",
       "      <th>4</th>\n",
       "      <td>body</td>\n",
       "      <td>absolve</td>\n",
       "      <td>1</td>\n",
       "      <td>absolve</td>\n",
       "      <td>2</td>\n",
       "    </tr>\n",
       "  </tbody>\n",
       "</table>\n",
       "</div>"
      ],
      "text/plain": [
       "  section  lowercase  count      token  valence\n",
       "0    body    abandon      2    abandon       -2\n",
       "1    body  abandoned      6  abandoned       -2\n",
       "2    body    ability      8    ability        2\n",
       "3    body     aboard      2     aboard        1\n",
       "4    body    absolve      1    absolve        2"
      ]
     },
     "execution_count": 23,
     "metadata": {},
     "output_type": "execute_result"
    }
   ],
   "source": [
    "valence = pd.merge(df, afinn, left_on='lowercase', right_on='token')\n",
    "valence.head()"
   ]
  },
  {
   "cell_type": "markdown",
   "metadata": {},
   "source": [
    "As you can see, the only the words from _The Stand_ that also exist in the dictionary were retained.\n",
    "\n",
    "Side-note: there are two columns that you don't need. If they bother you they can be deleted with `drop()` -- e.g., `valence.drop(['section', 'lowercase'], 1)` -- or simply ignore them!\n",
    "\n",
    "**Q3** (2 points): Share the code to determine the sum of all the sentiment scores for _The Stand_. Hints: The result is `-1397`, not `-559`. Also, remember that a single column of a DataFrame is simply as Series object, so Googling 'sum a Series in Pandas' might help in summing a column."
   ]
  },
  {
   "cell_type": "code",
   "execution_count": 19,
   "metadata": {
    "collapsed": false
   },
   "outputs": [
    {
     "data": {
      "text/plain": [
       "-1397"
      ]
     },
     "execution_count": 19,
     "metadata": {},
     "output_type": "execute_result"
    }
   ],
   "source": [
    "# Q3\n",
    "\n",
    "total_valence_vals = valence['count'] * valence['valence']\n",
    "valence['total valence'] = total_valence_vals\n",
    "\n",
    "valence['total valence'].sum()"
   ]
  },
  {
   "cell_type": "markdown",
   "metadata": {},
   "source": [
    "**Q4**: What is a possible problem with summing a set of dictionary assigned sentiment scores?"
   ]
  },
  {
   "cell_type": "markdown",
   "metadata": {},
   "source": [
    "## Q4 Answer\n",
    "\n",
    "Aside from the problem with doing the above, where you aren't actually getting a cumulative valence score, though you might expect it, you lose a lot of nuance in the scores. For instance, the -2 and 2 valence numbers basically cancel out, leaving the extreme values to dictate the overal valence number for the whole collection. Sometimes this might be ok, if your valence score is very high or low, but mostly it fuzzes your data, I think."
   ]
  },
  {
   "cell_type": "markdown",
   "metadata": {},
   "source": [
    "**Q5** (2 points): Share the code for determining the page-by-page sentiment in the book. You'll need to load more data out of the volume, and return to your groupby() skills.\n",
    "\n",
    "Hint: The sentiments for pages 8,9,and 13 are +5, +11, and -10. If you run .plot() on your final dataframe, it will look like this:\n",
    "\n",
    "![](../images/thestand-valence.png)"
   ]
  },
  {
   "cell_type": "code",
   "execution_count": 20,
   "metadata": {
    "collapsed": false
   },
   "outputs": [
    {
     "name": "stdout",
     "output_type": "stream",
     "text": [
      "Our book is  The stand / Stephen King.\n"
     ]
    },
    {
     "data": {
      "text/plain": [
       "<matplotlib.axes._subplots.AxesSubplot at 0x147c037b8>"
      ]
     },
     "execution_count": 20,
     "metadata": {},
     "output_type": "execute_result"
    },
    {
     "data": {
      "image/png": "[encoded data removed]",
      "text/plain": [
       "<matplotlib.figure.Figure at 0x147c014e0>"
      ]
     },
     "metadata": {},
     "output_type": "display_data"
    }
   ],
   "source": [
    "# Q5\n",
    "\n",
    "# Load a volume\n",
    "from htrc_features import FeatureReader\n",
    "fr = FeatureReader('../data/contemporary_books/dataset_files/mdp.39015005028686.json.bz2')\n",
    "vol = fr.first()\n",
    "\n",
    "print(\"Our book is \", vol.title)\n",
    "\n",
    "afinn = pd.read_csv(\"/Users/rdubnic2/Documents/lis590txl/Data/AFINN-111.txt\", sep='\\t', names=['token','valence'])\n",
    "# afinn.sample(5)\n",
    "\n",
    "stand_df = vol.tokenlist(pos=False, pages=True, case=False).reset_index()\n",
    "# stand_df.head()\n",
    "\n",
    "stand_valence = pd.merge(stand_df, afinn, left_on='lowercase', right_on='token').groupby('page')\n",
    "stand_valence_vals = stand_valence.apply(lambda x: (x['count']* x['valence']).sum())\n",
    "# stand_valence_vals.head()\n",
    "stand_valence_vals.plot()\n"
   ]
  },
  {
   "cell_type": "code",
   "execution_count": 21,
   "metadata": {
    "collapsed": false
   },
   "outputs": [
    {
     "data": {
      "text/html": [
       "<div>\n",
       "<table border=\"1\" class=\"dataframe\">\n",
       "  <thead>\n",
       "    <tr style=\"text-align: right;\">\n",
       "      <th></th>\n",
       "      <th>token</th>\n",
       "      <th>valence</th>\n",
       "    </tr>\n",
       "  </thead>\n",
       "  <tbody>\n",
       "    <tr>\n",
       "      <th>0</th>\n",
       "      <td>abandon</td>\n",
       "      <td>-2</td>\n",
       "    </tr>\n",
       "    <tr>\n",
       "      <th>1</th>\n",
       "      <td>abandoned</td>\n",
       "      <td>-2</td>\n",
       "    </tr>\n",
       "    <tr>\n",
       "      <th>2</th>\n",
       "      <td>abandons</td>\n",
       "      <td>-2</td>\n",
       "    </tr>\n",
       "    <tr>\n",
       "      <th>3</th>\n",
       "      <td>abducted</td>\n",
       "      <td>-2</td>\n",
       "    </tr>\n",
       "    <tr>\n",
       "      <th>4</th>\n",
       "      <td>abduction</td>\n",
       "      <td>-2</td>\n",
       "    </tr>\n",
       "  </tbody>\n",
       "</table>\n",
       "</div>"
      ],
      "text/plain": [
       "       token  valence\n",
       "0    abandon       -2\n",
       "1  abandoned       -2\n",
       "2   abandons       -2\n",
       "3   abducted       -2\n",
       "4  abduction       -2"
      ]
     },
     "execution_count": 21,
     "metadata": {},
     "output_type": "execute_result"
    }
   ],
   "source": [
    "afinn.head()"
   ]
  },
  {
   "cell_type": "markdown",
   "metadata": {},
   "source": [
    "## Tip\n",
    "\n",
    "That page-by-page sentiment plot is messy. If you want to see the overarching thrust of sentiment in the novel, try smoothing it with a rolling mean.\n",
    "\n",
    "A rolling mean takes the average sentiment for a window of pages, then moves the window forward one spot and averages again, and so on (e.g. with a window of 5, means are taken for pages 1-5, then pages 2-6, then 3-7, etc.)."
   ]
  },
  {
   "cell_type": "code",
   "execution_count": 22,
   "metadata": {
    "collapsed": false
   },
   "outputs": [
    {
     "ename": "KeyError",
     "evalue": "'total'",
     "output_type": "error",
     "traceback": [
      "\u001b[0;31m---------------------------------------------------------------------------\u001b[0m",
      "\u001b[0;31mTypeError\u001b[0m                                 Traceback (most recent call last)",
      "\u001b[0;32mpandas/index.pyx\u001b[0m in \u001b[0;36mpandas.index.IndexEngine.get_loc (pandas/index.c:4279)\u001b[0;34m()\u001b[0m\n",
      "\u001b[0;32mpandas/src/hashtable_class_helper.pxi\u001b[0m in \u001b[0;36mpandas.hashtable.Int64HashTable.get_item (pandas/hashtable.c:8543)\u001b[0;34m()\u001b[0m\n",
      "\u001b[0;31mTypeError\u001b[0m: an integer is required",
      "\nDuring handling of the above exception, another exception occurred:\n",
      "\u001b[0;31mKeyError\u001b[0m                                  Traceback (most recent call last)",
      "\u001b[0;32m<ipython-input-22-c9a73f3509b2>\u001b[0m in \u001b[0;36m<module>\u001b[0;34m()\u001b[0m\n\u001b[0;32m----> 1\u001b[0;31m \u001b[0mstand_valence_vals\u001b[0m\u001b[0;34m[\u001b[0m\u001b[0;34m'rolling'\u001b[0m\u001b[0;34m]\u001b[0m \u001b[0;34m=\u001b[0m \u001b[0mstand_valence_vals\u001b[0m\u001b[0;34m[\u001b[0m\u001b[0;34m'total'\u001b[0m\u001b[0;34m]\u001b[0m\u001b[0;34m.\u001b[0m\u001b[0mrolling\u001b[0m\u001b[0;34m(\u001b[0m\u001b[0mwindow\u001b[0m\u001b[0;34m=\u001b[0m\u001b[0;36m60\u001b[0m\u001b[0;34m,\u001b[0m \u001b[0mmin_periods\u001b[0m\u001b[0;34m=\u001b[0m\u001b[0;36m1\u001b[0m\u001b[0;34m)\u001b[0m\u001b[0;34m.\u001b[0m\u001b[0mmean\u001b[0m\u001b[0;34m(\u001b[0m\u001b[0;34m)\u001b[0m\u001b[0;34m\u001b[0m\u001b[0m\n\u001b[0m\u001b[1;32m      2\u001b[0m \u001b[0mstand_valence_vals\u001b[0m\u001b[0;34m[\u001b[0m\u001b[0;34m'rolling'\u001b[0m\u001b[0;34m]\u001b[0m\u001b[0;34m.\u001b[0m\u001b[0mplot\u001b[0m\u001b[0;34m(\u001b[0m\u001b[0;34m)\u001b[0m\u001b[0;34m\u001b[0m\u001b[0m\n",
      "\u001b[0;32m/Users/rdubnic2/anaconda/lib/python3.5/site-packages/pandas/core/series.py\u001b[0m in \u001b[0;36m__getitem__\u001b[0;34m(self, key)\u001b[0m\n\u001b[1;32m    601\u001b[0m         \u001b[0mkey\u001b[0m \u001b[0;34m=\u001b[0m \u001b[0mcom\u001b[0m\u001b[0;34m.\u001b[0m\u001b[0m_apply_if_callable\u001b[0m\u001b[0;34m(\u001b[0m\u001b[0mkey\u001b[0m\u001b[0;34m,\u001b[0m \u001b[0mself\u001b[0m\u001b[0;34m)\u001b[0m\u001b[0;34m\u001b[0m\u001b[0m\n\u001b[1;32m    602\u001b[0m         \u001b[0;32mtry\u001b[0m\u001b[0;34m:\u001b[0m\u001b[0;34m\u001b[0m\u001b[0m\n\u001b[0;32m--> 603\u001b[0;31m             \u001b[0mresult\u001b[0m \u001b[0;34m=\u001b[0m \u001b[0mself\u001b[0m\u001b[0;34m.\u001b[0m\u001b[0mindex\u001b[0m\u001b[0;34m.\u001b[0m\u001b[0mget_value\u001b[0m\u001b[0;34m(\u001b[0m\u001b[0mself\u001b[0m\u001b[0;34m,\u001b[0m \u001b[0mkey\u001b[0m\u001b[0;34m)\u001b[0m\u001b[0;34m\u001b[0m\u001b[0m\n\u001b[0m\u001b[1;32m    604\u001b[0m \u001b[0;34m\u001b[0m\u001b[0m\n\u001b[1;32m    605\u001b[0m             \u001b[0;32mif\u001b[0m \u001b[0;32mnot\u001b[0m \u001b[0mis_scalar\u001b[0m\u001b[0;34m(\u001b[0m\u001b[0mresult\u001b[0m\u001b[0;34m)\u001b[0m\u001b[0;34m:\u001b[0m\u001b[0;34m\u001b[0m\u001b[0m\n",
      "\u001b[0;32m/Users/rdubnic2/anaconda/lib/python3.5/site-packages/pandas/indexes/base.py\u001b[0m in \u001b[0;36mget_value\u001b[0;34m(self, series, key)\u001b[0m\n\u001b[1;32m   2167\u001b[0m         \u001b[0;32mtry\u001b[0m\u001b[0;34m:\u001b[0m\u001b[0;34m\u001b[0m\u001b[0m\n\u001b[1;32m   2168\u001b[0m             return self._engine.get_value(s, k,\n\u001b[0;32m-> 2169\u001b[0;31m                                           tz=getattr(series.dtype, 'tz', None))\n\u001b[0m\u001b[1;32m   2170\u001b[0m         \u001b[0;32mexcept\u001b[0m \u001b[0mKeyError\u001b[0m \u001b[0;32mas\u001b[0m \u001b[0me1\u001b[0m\u001b[0;34m:\u001b[0m\u001b[0;34m\u001b[0m\u001b[0m\n\u001b[1;32m   2171\u001b[0m             \u001b[0;32mif\u001b[0m \u001b[0mlen\u001b[0m\u001b[0;34m(\u001b[0m\u001b[0mself\u001b[0m\u001b[0;34m)\u001b[0m \u001b[0;34m>\u001b[0m \u001b[0;36m0\u001b[0m \u001b[0;32mand\u001b[0m \u001b[0mself\u001b[0m\u001b[0;34m.\u001b[0m\u001b[0minferred_type\u001b[0m \u001b[0;32min\u001b[0m \u001b[0;34m[\u001b[0m\u001b[0;34m'integer'\u001b[0m\u001b[0;34m,\u001b[0m \u001b[0;34m'boolean'\u001b[0m\u001b[0;34m]\u001b[0m\u001b[0;34m:\u001b[0m\u001b[0;34m\u001b[0m\u001b[0m\n",
      "\u001b[0;32mpandas/index.pyx\u001b[0m in \u001b[0;36mpandas.index.IndexEngine.get_value (pandas/index.c:3557)\u001b[0;34m()\u001b[0m\n",
      "\u001b[0;32mpandas/index.pyx\u001b[0m in \u001b[0;36mpandas.index.IndexEngine.get_value (pandas/index.c:3240)\u001b[0;34m()\u001b[0m\n",
      "\u001b[0;32mpandas/index.pyx\u001b[0m in \u001b[0;36mpandas.index.IndexEngine.get_loc (pandas/index.c:4363)\u001b[0;34m()\u001b[0m\n",
      "\u001b[0;31mKeyError\u001b[0m: 'total'"
     ]
    }
   ],
   "source": [
    "stand_valence_vals['rolling'] = stand_valence_vals['total'].rolling(window=60, min_periods=1).mean()\n",
    "stand_valence_vals['rolling'].plot()"
   ]
  },
  {
   "cell_type": "markdown",
   "metadata": {},
   "source": [
    "This generally aligns with events in the *The Stand*. Things are fine for a very brief moment because a virus wipes out most of America. The rising sentiment happens through the middle act, as survivors are finding eaching, travelling toward Boulder, CO, and eventually rebuilding. Then the third act has a showdown with an antogonist and some smaller survival conflicts.\n",
    "\n",
    "Not perfect, but certainly more representative then the unsmoothed version!"
   ]
  },
  {
   "cell_type": "markdown",
   "metadata": {},
   "source": [
    "## Extra Notes\n",
    "\n",
    "Here is how you can visualize `twodims` in its original Numpy Array form, without converting it to a DataFrame."
   ]
  },
  {
   "cell_type": "code",
   "execution_count": null,
   "metadata": {
    "collapsed": false,
    "scrolled": true
   },
   "outputs": [],
   "source": [
    "import matplotlib.pyplot as plt\n",
    "plt.scatter(x=twodims[:,0], y=twodims[:,1])"
   ]
  },
  {
   "cell_type": "markdown",
   "metadata": {},
   "source": [
    "Since we have not done much work with arrays, it is worth noting how we provided the values to the scatterplot.\n",
    "\n",
    "The twodims array provides two values for each books. By asking for `twodims[:,0]` to set to x, that simply returns the first value for all the books. `:` is essentially saying \"from start to finish\": in this case we asked for all the rows. The second value refers to the columns: we only asked for the first column: `0`.\n",
    "\n",
    "Consider an array called `arr` that looks like this:\n",
    "\n",
    "```\n",
    "[[a, A],\n",
    " [b, B],\n",
    " [c, C]]\n",
    "```\n",
    "\n",
    "In this example, `arr[:,0]` returns `[a,b,c]`, while `arr[:,1]` returns `[A,B,C]`.\n",
    "\n",
    "Of course, while we haven't dealt with arrays much, we have dealt with their smarter cousin, DataFrames. If you want ignore all of the above, you can also convert twodims to a more familiar DataFrame:"
   ]
  }
 ],
 "metadata": {
  "anaconda-cloud": {},
  "kernelspec": {
   "display_name": "Python [default]",
   "language": "python",
   "name": "python3"
  },
  "language_info": {
   "codemirror_mode": {
    "name": "ipython",
    "version": 3
   },
   "file_extension": ".py",
   "mimetype": "text/x-python",
   "name": "python",
   "nbconvert_exporter": "python",
   "pygments_lexer": "ipython3",
   "version": "3.5.3"
  }
 },
 "nbformat": 4,
 "nbformat_minor": 0
}
