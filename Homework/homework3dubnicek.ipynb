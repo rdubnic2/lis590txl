{
 "cells": [
  {
   "cell_type": "markdown",
   "metadata": {},
   "source": [
    "## Placeholder\n",
    "\n",
    "More placeholder."
   ]
  },
  {
   "cell_type": "code",
   "execution_count": 3,
   "metadata": {
    "collapsed": false
   },
   "outputs": [],
   "source": [
    "import nltk\n"
   ]
  },
  {
   "cell_type": "code",
   "execution_count": 4,
   "metadata": {
    "collapsed": false
   },
   "outputs": [],
   "source": [
    "\n",
    "\n",
    "with open(\"../Homework/frankenstein.txt\") as f:\n",
    "    frankensteinString = f.read()\n",
    "    \n",
    "# frankensteinString[:250]\n",
    "\n",
    "frankensteinTokens = nltk.word_tokenize(frankensteinString)\n",
    "# frankentest = []\n",
    "frankentest = [word for word in frankensteinTokens if word.find('-') >= 0]\n",
    "# for word in frankensteinTokens:\n",
    "#     if word.find('-') >= 0:\n",
    "#         frankentest.append(word)\n",
    "# print(frankentest[:20])\n",
    "\n",
    "# frankensteinTokens[:10]\n",
    "# print(frankensteinTokens[:10])\n",
    "\n",
    "# print('Tokens 39 through 67 are ', frankensteinTokens[39:67])\n",
    "\n",
    "frankenloop = []\n",
    "\n",
    "for w in frankensteinTokens[:10]:\n",
    "    frankenloop.append(w)\n",
    "# print([w for w in frankensteinTokens[:10] if w[0].isalpha()])\n",
    "\n",
    "frankenAlphas = [word for word in frankensteinTokens if word[0].isalpha()]\n",
    "# frankenAlphas[1215:1221]\n",
    "\n",
    "frankenAlphasFreq = nltk.FreqDist(frankenAlphas)\n",
    "# frankenAlphasFreq.tabulate(10)\n",
    "\n",
    "frankensteinStringLow = nltk.word_tokenize(frankensteinString.lower())\n",
    "frankenAlphasLow = [word for word in frankensteinStringLow if word[0].isalpha()]\n",
    "frankenAlphasLowFreq = nltk.FreqDist(frankenAlphasLow)\n",
    "# frankenAlphasLowFreq.tabulate(10)\n",
    "\n",
    "stopwords = nltk.corpus.stopwords.words('english')\n",
    "# print(sorted(stopwords))\n",
    "\n",
    "# stopwords.append('could')\n",
    "# stopwords.append('would')\n",
    "# stopwords.append('upon')\n",
    "# stopwords.append('yet')\n",
    "# print(sorted(stopwords))\n",
    "\n",
    "frankenAlphasNoStop = [word for word in frankenAlphasLow if word not in stopwords]\n",
    "frankenAlphasNoStopFreq = nltk.FreqDist(frankenAlphasNoStop)\n",
    "# frankenAlphasNoStopFreq.tabulate(10)\n",
    "\n",
    "%matplotlib inline\n",
    "\n",
    "# frankenAlphasNoStopFreq.plot(40)\n",
    "\n",
    "frankensteinTokens2 = nltk.Text(frankensteinTokens)\n",
    "\n",
    "# frankensteinTokens2.concordance('monster', width = 49, lines = 5)"
   ]
  },
  {
   "cell_type": "code",
   "execution_count": 12,
   "metadata": {
    "collapsed": false
   },
   "outputs": [
    {
     "data": {
      "text/plain": [
       "'Letter 1\\n\\nSt. Peters'"
      ]
     },
     "execution_count": 12,
     "metadata": {},
     "output_type": "execute_result"
    }
   ],
   "source": [
    "frankensteinString[:20]"
   ]
  },
  {
   "cell_type": "code",
   "execution_count": 9,
   "metadata": {
    "collapsed": false
   },
   "outputs": [
    {
     "data": {
      "text/plain": [
       "False"
      ]
     },
     "execution_count": 9,
     "metadata": {},
     "output_type": "execute_result"
    }
   ],
   "source": [
    "frankAlpha"
   ]
  },
  {
   "cell_type": "code",
   "execution_count": 10,
   "metadata": {
    "collapsed": false
   },
   "outputs": [
    {
     "ename": "TypeError",
     "evalue": "object of type 'bool' has no len()",
     "output_type": "error",
     "traceback": [
      "\u001b[0;31m---------------------------------------------------------------------------\u001b[0m",
      "\u001b[0;31mTypeError\u001b[0m                                 Traceback (most recent call last)",
      "\u001b[0;32m<ipython-input-10-8801914208fb>\u001b[0m in \u001b[0;36m<module>\u001b[0;34m()\u001b[0m\n\u001b[0;32m----> 1\u001b[0;31m \u001b[0mlen\u001b[0m\u001b[0;34m(\u001b[0m\u001b[0mfrankAlpha\u001b[0m\u001b[0;34m)\u001b[0m\u001b[0;34m\u001b[0m\u001b[0m\n\u001b[0m",
      "\u001b[0;31mTypeError\u001b[0m: object of type 'bool' has no len()"
     ]
    }
   ],
   "source": []
  },
  {
   "cell_type": "code",
   "execution_count": null,
   "metadata": {
    "collapsed": true
   },
   "outputs": [],
   "source": []
  }
 ],
 "metadata": {
  "anaconda-cloud": {},
  "kernelspec": {
   "display_name": "Python [conda root]",
   "language": "python",
   "name": "conda-root-py"
  },
  "language_info": {
   "codemirror_mode": {
    "name": "ipython",
    "version": 3
   },
   "file_extension": ".py",
   "mimetype": "text/x-python",
   "name": "python",
   "nbconvert_exporter": "python",
   "pygments_lexer": "ipython3",
   "version": "3.5.2"
  }
 },
 "nbformat": 4,
 "nbformat_minor": 1
}
