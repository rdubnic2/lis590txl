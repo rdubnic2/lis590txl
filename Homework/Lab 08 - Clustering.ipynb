{
 "cells": [
  {
   "cell_type": "markdown",
   "metadata": {},
   "source": [
    "# Lab 08"
   ]
  },
  {
   "cell_type": "markdown",
   "metadata": {},
   "source": [
    "## More Classification with Scikit Learn\n",
    "\n",
    "Last week we used the Naive Bayes multinomial classifier, getting 93% accuracy on our author classification task."
   ]
  },
  {
   "cell_type": "code",
   "execution_count": 2,
   "metadata": {
    "collapsed": false
   },
   "outputs": [],
   "source": [
    "import pandas as pd\n",
    "path = 'https://raw.githubusercontent.com/organisciak/Text-Mining-Course/master/data/contemporary_books/'\n",
    "data = pd.read_csv(path + 'contemporary.csv', encoding='utf-8').set_index('book')\n",
    "info = pd.read_csv(path + 'contemporary_labels.csv', encoding='utf-8')\n",
    "\n",
    "train_data = data.iloc[0:15]\n",
    "train_labels = info.iloc[0:15]\n",
    "test_data = data.iloc[15:]\n",
    "test_labels = info.iloc[15:]"
   ]
  },
  {
   "cell_type": "markdown",
   "metadata": {},
   "source": [
    "Other classifiers are available from SciKit Learn using the same interface, including support vector machines ([linear_model.SGDClassifier()](http://scikit-learn.org/stable/modules/generated/sklearn.linear_model.SGDClassifier.html)) and Logistic Regression: ([linear_model.LogisticRegression()](http://scikit-learn.org/stable/modules/generated/sklearn.linear_model.LogisticRegression.html)). They have many more options to customize them; for now, you can focus on the default options. Out of the box, you use them in exactly the same way that you used MultinomialNB last week.\n",
    "\n",
    "**Q1**: Replacing the Naive Bayes classifier with Logistic Regression, what accurance do you get on the same train/test task as in Lab 8? Don't forget to start with `from sklearn import linear_model`.\n",
    "\n",
    "[0.0, 0.25, 0.5, 0.625, 0.6875, 0.875, 0.9375, 1]"
   ]
  },
  {
   "cell_type": "code",
   "execution_count": 3,
   "metadata": {
    "collapsed": false
   },
   "outputs": [
    {
     "data": {
      "text/plain": [
       "1.0"
      ]
     },
     "execution_count": 3,
     "metadata": {},
     "output_type": "execute_result"
    }
   ],
   "source": [
    "from sklearn import linear_model\n",
    "\n",
    "classifier = linear_model.LogisticRegression()\n",
    "\n",
    "# Train\n",
    "classifier.fit(train_data, train_labels['author'])\n",
    "\n",
    "# Run classifier\n",
    "classifier.predict(test_data)\n",
    "\n",
    "# Evaluate classifier\n",
    "classifier.score(test_data.values, test_labels['author'])"
   ]
  },
  {
   "cell_type": "markdown",
   "metadata": {},
   "source": [
    "**Q2**: Try the SVM classifier. Re-run your code initializing, fitting, and scoring a couple of times. What happens to the accuracy?"
   ]
  },
  {
   "cell_type": "code",
   "execution_count": 4,
   "metadata": {
    "collapsed": false
   },
   "outputs": [
    {
     "data": {
      "text/plain": [
       "0.9375"
      ]
     },
     "execution_count": 4,
     "metadata": {},
     "output_type": "execute_result"
    }
   ],
   "source": [
    "classifier2 = linear_model.SGDClassifier()\n",
    "\n",
    "# Train\n",
    "classifier2.fit(train_data, train_labels['author'])\n",
    "\n",
    "# Run classifier\n",
    "classifier2.predict(test_data)\n",
    "\n",
    "# Evaluate classifier\n",
    "classifier2.score(test_data.values, test_labels['author'])"
   ]
  },
  {
   "cell_type": "markdown",
   "metadata": {},
   "source": [
    "## Answer\n",
    "Accuracy jumps all over the place, initially going down over 4-5 additional attempts, but then jumping back up to near 1.0, before becoming mostly random in value after each new attempt."
   ]
  },
  {
   "cell_type": "markdown",
   "metadata": {},
   "source": [
    "## Clustering with Scikit Learn\n",
    "\n",
    "To cluster in Scikit Learn, you need the same type of data as in classification: a set of vectors with term counts, one vector per document.\n",
    "\n",
    "However, clustering is usually done when you don't know a real set of classes, so you do not supply labels.\n",
    "\n",
    "Here is how you might learn a set of clusters with K-Means from the Atwood/Grisham/King data that we already have loaded:"
   ]
  },
  {
   "cell_type": "code",
   "execution_count": 5,
   "metadata": {
    "collapsed": true
   },
   "outputs": [],
   "source": [
    "from sklearn.cluster import KMeans\n",
    "kmeans = KMeans(n_clusters=3, random_state=0).fit(data)"
   ]
  },
  {
   "cell_type": "markdown",
   "metadata": {},
   "source": [
    "The cluster groups that were assigned are available from `kmeans.labels_`:"
   ]
  },
  {
   "cell_type": "code",
   "execution_count": 6,
   "metadata": {
    "collapsed": false
   },
   "outputs": [
    {
     "data": {
      "text/plain": [
       "array([1, 0, 2, 0, 0, 2, 2, 0, 2, 0, 0, 0, 0, 2, 2, 0, 0, 0, 2, 0, 0, 2, 0,\n",
       "       0, 0, 0, 0, 0, 2, 0, 0], dtype=int32)"
      ]
     },
     "execution_count": 6,
     "metadata": {},
     "output_type": "execute_result"
    }
   ],
   "source": [
    "kmeans.labels_"
   ]
  },
  {
   "cell_type": "markdown",
   "metadata": {},
   "source": [
    "Remember that K-Means starts with a random initialization and can get stuck in different configurations, so your groups may not be identical.\n",
    "\n",
    "**Q3**: You want to view the cluster groups alongside the information for the books that are held in info. Show the code to add a `group` column to `info`, set to the kmeans label information, and to sort the values by that column. It will look something like this: \n",
    "\n",
    "![](../images/lab8-group-column.png)"
   ]
  },
  {
   "cell_type": "code",
   "execution_count": 7,
   "metadata": {
    "collapsed": false
   },
   "outputs": [
    {
     "name": "stderr",
     "output_type": "stream",
     "text": [
      "/Users/rdubnic2/anaconda/lib/python3.5/site-packages/ipykernel/__main__.py:8: FutureWarning: sort(columns=....) is deprecated, use sort_values(by=.....)\n"
     ]
    }
   ],
   "source": [
    "group = pd.DataFrame(kmeans.labels_)\n",
    "\n",
    "info['group'] = group\n",
    "\n",
    "# Verifying the addition\n",
    "# info.head()\n",
    "\n",
    "info = info.sort('group', ascending=True)\n",
    "\n",
    "# Verifying the sort\n",
    "# info.head(30)"
   ]
  },
  {
   "cell_type": "markdown",
   "metadata": {},
   "source": [
    "In my K-Means clustering for 3 groups, I ended up with one group that only had one book: *The Stand*.\n",
    "\n",
    "This makes sense, because *The Stand* is loooong, and I'm using raw term frequencies. So, every word will show up a lot more, not because that word is more prominant in that book, but because there are some many more words being used overall. On a graph, *The Stand* would float far afield of all the other books.\n",
    "\n",
    "We already learned how to correct raw frequency counts: our old friend tf-idf! We learned about softened the scaling of counts (sublinear tf) and weighing words relative to their prevalence in the language (idf). Scikit Learn offers both of those under `sklearn.feature_extraction.text.TfidfTransformer`."
   ]
  },
  {
   "cell_type": "markdown",
   "metadata": {},
   "source": [
    "**Q4**: Using the documentation for TfidfTransformer (and maybe help from your classmates), determine how to transform the document-term data used above, with both sublinear tf scaling and inverse-document-frequency. Share your code.\n",
    "\n",
    "Hint: if you did it right, the value for the first word of the first document for your new variable (i.e. `data_tfidf[0,0]`) should be around `0.0063`."
   ]
  },
  {
   "cell_type": "code",
   "execution_count": 18,
   "metadata": {
    "collapsed": false
   },
   "outputs": [
    {
     "ename": "AttributeError",
     "evalue": "values not found",
     "output_type": "error",
     "traceback": [
      "\u001b[0;31m---------------------------------------------------------------------------\u001b[0m",
      "\u001b[0;31mAttributeError\u001b[0m                            Traceback (most recent call last)",
      "\u001b[0;32m<ipython-input-18-0432e19bd8a7>\u001b[0m in \u001b[0;36m<module>\u001b[0;34m()\u001b[0m\n\u001b[1;32m      7\u001b[0m \u001b[0mdata_tfidf\u001b[0m \u001b[0;34m=\u001b[0m \u001b[0mtransformer\u001b[0m\u001b[0;34m.\u001b[0m\u001b[0mfit_transform\u001b[0m\u001b[0;34m(\u001b[0m\u001b[0mdata\u001b[0m\u001b[0;34m)\u001b[0m\u001b[0;34m\u001b[0m\u001b[0m\n\u001b[1;32m      8\u001b[0m \u001b[0;34m\u001b[0m\u001b[0m\n\u001b[0;32m----> 9\u001b[0;31m \u001b[0mprint\u001b[0m\u001b[0;34m(\u001b[0m\u001b[0mdata_tfidf\u001b[0m\u001b[0;34m.\u001b[0m\u001b[0mvalues\u001b[0m\u001b[0;34m)\u001b[0m\u001b[0;34m\u001b[0m\u001b[0m\n\u001b[0m\u001b[1;32m     10\u001b[0m \u001b[0;34m\u001b[0m\u001b[0m\n\u001b[1;32m     11\u001b[0m \u001b[0mprint\u001b[0m\u001b[0;34m(\u001b[0m\u001b[0;34m'Value for first word of first document TF-IDF is'\u001b[0m\u001b[0;34m,\u001b[0m \u001b[0mdata_tfidf\u001b[0m\u001b[0;34m[\u001b[0m\u001b[0;36m0\u001b[0m\u001b[0;34m,\u001b[0m\u001b[0;36m0\u001b[0m\u001b[0;34m]\u001b[0m\u001b[0;34m)\u001b[0m\u001b[0;34m\u001b[0m\u001b[0m\n",
      "\u001b[0;32m/Users/rdubnic2/anaconda/lib/python3.5/site-packages/scipy/sparse/base.py\u001b[0m in \u001b[0;36m__getattr__\u001b[0;34m(self, attr)\u001b[0m\n\u001b[1;32m    574\u001b[0m             \u001b[0;32mreturn\u001b[0m \u001b[0mself\u001b[0m\u001b[0;34m.\u001b[0m\u001b[0mgetnnz\u001b[0m\u001b[0;34m(\u001b[0m\u001b[0;34m)\u001b[0m\u001b[0;34m\u001b[0m\u001b[0m\n\u001b[1;32m    575\u001b[0m         \u001b[0;32melse\u001b[0m\u001b[0;34m:\u001b[0m\u001b[0;34m\u001b[0m\u001b[0m\n\u001b[0;32m--> 576\u001b[0;31m             \u001b[0;32mraise\u001b[0m \u001b[0mAttributeError\u001b[0m\u001b[0;34m(\u001b[0m\u001b[0mattr\u001b[0m \u001b[0;34m+\u001b[0m \u001b[0;34m\" not found\"\u001b[0m\u001b[0;34m)\u001b[0m\u001b[0;34m\u001b[0m\u001b[0m\n\u001b[0m\u001b[1;32m    577\u001b[0m \u001b[0;34m\u001b[0m\u001b[0m\n\u001b[1;32m    578\u001b[0m     \u001b[0;32mdef\u001b[0m \u001b[0mtranspose\u001b[0m\u001b[0;34m(\u001b[0m\u001b[0mself\u001b[0m\u001b[0;34m,\u001b[0m \u001b[0maxes\u001b[0m\u001b[0;34m=\u001b[0m\u001b[0;32mNone\u001b[0m\u001b[0;34m,\u001b[0m \u001b[0mcopy\u001b[0m\u001b[0;34m=\u001b[0m\u001b[0;32mFalse\u001b[0m\u001b[0;34m)\u001b[0m\u001b[0;34m:\u001b[0m\u001b[0;34m\u001b[0m\u001b[0m\n",
      "\u001b[0;31mAttributeError\u001b[0m: values not found"
     ]
    }
   ],
   "source": [
    "from sklearn.feature_extraction.text import TfidfTransformer\n",
    "\n",
    "data = pd.read_csv(path + 'contemporary.csv', encoding='utf-8').set_index('book')\n",
    "\n",
    "transformer = TfidfTransformer(sublinear_tf=True)\n",
    "\n",
    "data_tfidf = transformer.fit_transform(data)\n",
    "\n",
    "print(data_tfidf.values)\n",
    "\n",
    "print('Value for first word of first document TF-IDF is', data_tfidf[0,0])\n"
   ]
  },
  {
   "cell_type": "markdown",
   "metadata": {},
   "source": [
    "**Q5**: Try clustering on the tf-idf transformed data, using the same `n_clusters=3` k-means options as before. How do the results look different? (tip, the sorting from *Q3* might help you look at the data)."
   ]
  },
  {
   "cell_type": "code",
   "execution_count": 9,
   "metadata": {
    "collapsed": false
   },
   "outputs": [
    {
     "name": "stderr",
     "output_type": "stream",
     "text": [
      "/Users/rdubnic2/anaconda/lib/python3.5/site-packages/ipykernel/__main__.py:11: FutureWarning: sort(columns=....) is deprecated, use sort_values(by=.....)\n"
     ]
    },
    {
     "data": {
      "text/html": [
       "<div>\n",
       "<table border=\"1\" class=\"dataframe\">\n",
       "  <thead>\n",
       "    <tr style=\"text-align: right;\">\n",
       "      <th></th>\n",
       "      <th>book</th>\n",
       "      <th>author</th>\n",
       "      <th>title</th>\n",
       "      <th>group</th>\n",
       "    </tr>\n",
       "  </thead>\n",
       "  <tbody>\n",
       "    <tr>\n",
       "      <th>15</th>\n",
       "      <td>mdp.39015058207492</td>\n",
       "      <td>Grisham</td>\n",
       "      <td>The last juror</td>\n",
       "      <td>0</td>\n",
       "    </tr>\n",
       "    <tr>\n",
       "      <th>4</th>\n",
       "      <td>mdp.39015031703609</td>\n",
       "      <td>Grisham</td>\n",
       "      <td>The rainmaker</td>\n",
       "      <td>0</td>\n",
       "    </tr>\n",
       "    <tr>\n",
       "      <th>3</th>\n",
       "      <td>mdp.39015029244657</td>\n",
       "      <td>Grisham</td>\n",
       "      <td>The pelican brief</td>\n",
       "      <td>0</td>\n",
       "    </tr>\n",
       "    <tr>\n",
       "      <th>12</th>\n",
       "      <td>mdp.39015054084192</td>\n",
       "      <td>Grisham</td>\n",
       "      <td>The testament</td>\n",
       "      <td>0</td>\n",
       "    </tr>\n",
       "    <tr>\n",
       "      <th>10</th>\n",
       "      <td>mdp.39015046788223</td>\n",
       "      <td>Grisham</td>\n",
       "      <td>The rainmaker</td>\n",
       "      <td>0</td>\n",
       "    </tr>\n",
       "    <tr>\n",
       "      <th>11</th>\n",
       "      <td>mdp.39015046835560</td>\n",
       "      <td>Grisham</td>\n",
       "      <td>The partner</td>\n",
       "      <td>0</td>\n",
       "    </tr>\n",
       "    <tr>\n",
       "      <th>19</th>\n",
       "      <td>mdp.39015066084040</td>\n",
       "      <td>Grisham</td>\n",
       "      <td>The summons</td>\n",
       "      <td>0</td>\n",
       "    </tr>\n",
       "    <tr>\n",
       "      <th>9</th>\n",
       "      <td>mdp.39015046381565</td>\n",
       "      <td>Grisham</td>\n",
       "      <td>A time to kill</td>\n",
       "      <td>0</td>\n",
       "    </tr>\n",
       "    <tr>\n",
       "      <th>22</th>\n",
       "      <td>mdp.39015073669312</td>\n",
       "      <td>Grisham</td>\n",
       "      <td>The appeal</td>\n",
       "      <td>0</td>\n",
       "    </tr>\n",
       "    <tr>\n",
       "      <th>27</th>\n",
       "      <td>pst.000050069378</td>\n",
       "      <td>Grisham</td>\n",
       "      <td>The king of torts (large print)</td>\n",
       "      <td>0</td>\n",
       "    </tr>\n",
       "    <tr>\n",
       "      <th>20</th>\n",
       "      <td>mdp.39015070756609</td>\n",
       "      <td>Grisham</td>\n",
       "      <td>Playing for pizza</td>\n",
       "      <td>0</td>\n",
       "    </tr>\n",
       "    <tr>\n",
       "      <th>14</th>\n",
       "      <td>mdp.39015055831070</td>\n",
       "      <td>King</td>\n",
       "      <td>From a Buick 8 : a novel</td>\n",
       "      <td>1</td>\n",
       "    </tr>\n",
       "    <tr>\n",
       "      <th>18</th>\n",
       "      <td>mdp.39015063682309</td>\n",
       "      <td>King</td>\n",
       "      <td>Cell : a novel</td>\n",
       "      <td>1</td>\n",
       "    </tr>\n",
       "    <tr>\n",
       "      <th>8</th>\n",
       "      <td>mdp.39015043798936</td>\n",
       "      <td>King</td>\n",
       "      <td>Bag of bones</td>\n",
       "      <td>1</td>\n",
       "    </tr>\n",
       "    <tr>\n",
       "      <th>13</th>\n",
       "      <td>mdp.39015054263903</td>\n",
       "      <td>King</td>\n",
       "      <td>Everything's eventual : 14 dark tales</td>\n",
       "      <td>1</td>\n",
       "    </tr>\n",
       "    <tr>\n",
       "      <th>28</th>\n",
       "      <td>uc1.32106011612402</td>\n",
       "      <td>King</td>\n",
       "      <td>The dark half</td>\n",
       "      <td>1</td>\n",
       "    </tr>\n",
       "    <tr>\n",
       "      <th>0</th>\n",
       "      <td>mdp.39015005028686</td>\n",
       "      <td>King</td>\n",
       "      <td>The stand</td>\n",
       "      <td>1</td>\n",
       "    </tr>\n",
       "    <tr>\n",
       "      <th>21</th>\n",
       "      <td>mdp.39015073669205</td>\n",
       "      <td>King</td>\n",
       "      <td>Duma Key</td>\n",
       "      <td>1</td>\n",
       "    </tr>\n",
       "    <tr>\n",
       "      <th>5</th>\n",
       "      <td>mdp.39015038148048</td>\n",
       "      <td>King</td>\n",
       "      <td>Desperation</td>\n",
       "      <td>1</td>\n",
       "    </tr>\n",
       "    <tr>\n",
       "      <th>23</th>\n",
       "      <td>pst.000023498051</td>\n",
       "      <td>King</td>\n",
       "      <td>Carrie</td>\n",
       "      <td>1</td>\n",
       "    </tr>\n",
       "    <tr>\n",
       "      <th>30</th>\n",
       "      <td>uc1.32106017944551</td>\n",
       "      <td>King</td>\n",
       "      <td>Cujo</td>\n",
       "      <td>1</td>\n",
       "    </tr>\n",
       "    <tr>\n",
       "      <th>7</th>\n",
       "      <td>mdp.39015043780249</td>\n",
       "      <td>King</td>\n",
       "      <td>The girl who loved Tom Gordon</td>\n",
       "      <td>1</td>\n",
       "    </tr>\n",
       "    <tr>\n",
       "      <th>25</th>\n",
       "      <td>pst.000026751405</td>\n",
       "      <td>Atwood</td>\n",
       "      <td>Cat's eye</td>\n",
       "      <td>2</td>\n",
       "    </tr>\n",
       "    <tr>\n",
       "      <th>1</th>\n",
       "      <td>mdp.39015010763418</td>\n",
       "      <td>Atwood</td>\n",
       "      <td>Lady oracle;</td>\n",
       "      <td>2</td>\n",
       "    </tr>\n",
       "    <tr>\n",
       "      <th>24</th>\n",
       "      <td>pst.000026748658</td>\n",
       "      <td>Atwood</td>\n",
       "      <td>Bodily harm</td>\n",
       "      <td>2</td>\n",
       "    </tr>\n",
       "    <tr>\n",
       "      <th>2</th>\n",
       "      <td>mdp.39015027242315</td>\n",
       "      <td>Atwood</td>\n",
       "      <td>The robber bride</td>\n",
       "      <td>2</td>\n",
       "    </tr>\n",
       "    <tr>\n",
       "      <th>6</th>\n",
       "      <td>mdp.39015040702071</td>\n",
       "      <td>Atwood</td>\n",
       "      <td>Alias Grace</td>\n",
       "      <td>2</td>\n",
       "    </tr>\n",
       "    <tr>\n",
       "      <th>29</th>\n",
       "      <td>uc1.32106012198112</td>\n",
       "      <td>King</td>\n",
       "      <td>Stephen King's Danse macabre</td>\n",
       "      <td>2</td>\n",
       "    </tr>\n",
       "    <tr>\n",
       "      <th>16</th>\n",
       "      <td>mdp.39015060663583</td>\n",
       "      <td>Atwood</td>\n",
       "      <td>The handmaid's tale</td>\n",
       "      <td>2</td>\n",
       "    </tr>\n",
       "    <tr>\n",
       "      <th>17</th>\n",
       "      <td>mdp.39015062842383</td>\n",
       "      <td>Atwood</td>\n",
       "      <td>The Penelopiad</td>\n",
       "      <td>2</td>\n",
       "    </tr>\n",
       "  </tbody>\n",
       "</table>\n",
       "</div>"
      ],
      "text/plain": [
       "                  book   author                                  title  group\n",
       "15  mdp.39015058207492  Grisham                         The last juror      0\n",
       "4   mdp.39015031703609  Grisham                          The rainmaker      0\n",
       "3   mdp.39015029244657  Grisham                      The pelican brief      0\n",
       "12  mdp.39015054084192  Grisham                          The testament      0\n",
       "10  mdp.39015046788223  Grisham                          The rainmaker      0\n",
       "11  mdp.39015046835560  Grisham                            The partner      0\n",
       "19  mdp.39015066084040  Grisham                            The summons      0\n",
       "9   mdp.39015046381565  Grisham                         A time to kill      0\n",
       "22  mdp.39015073669312  Grisham                             The appeal      0\n",
       "27    pst.000050069378  Grisham        The king of torts (large print)      0\n",
       "20  mdp.39015070756609  Grisham                      Playing for pizza      0\n",
       "14  mdp.39015055831070     King               From a Buick 8 : a novel      1\n",
       "18  mdp.39015063682309     King                         Cell : a novel      1\n",
       "8   mdp.39015043798936     King                           Bag of bones      1\n",
       "13  mdp.39015054263903     King  Everything's eventual : 14 dark tales      1\n",
       "28  uc1.32106011612402     King                          The dark half      1\n",
       "0   mdp.39015005028686     King                              The stand      1\n",
       "21  mdp.39015073669205     King                               Duma Key      1\n",
       "5   mdp.39015038148048     King                            Desperation      1\n",
       "23    pst.000023498051     King                                 Carrie      1\n",
       "30  uc1.32106017944551     King                                   Cujo      1\n",
       "7   mdp.39015043780249     King          The girl who loved Tom Gordon      1\n",
       "25    pst.000026751405   Atwood                              Cat's eye      2\n",
       "1   mdp.39015010763418   Atwood                           Lady oracle;      2\n",
       "24    pst.000026748658   Atwood                            Bodily harm      2\n",
       "2   mdp.39015027242315   Atwood                       The robber bride      2\n",
       "6   mdp.39015040702071   Atwood                            Alias Grace      2\n",
       "29  uc1.32106012198112     King           Stephen King's Danse macabre      2\n",
       "16  mdp.39015060663583   Atwood                    The handmaid's tale      2\n",
       "17  mdp.39015062842383   Atwood                         The Penelopiad      2"
      ]
     },
     "execution_count": 9,
     "metadata": {},
     "output_type": "execute_result"
    }
   ],
   "source": [
    "from sklearn.cluster import KMeans\n",
    "kmeans = KMeans(n_clusters=3, random_state=0).fit(data_tfidf)\n",
    "\n",
    "group = pd.DataFrame(kmeans.labels_)\n",
    "\n",
    "info['group'] = group\n",
    "\n",
    "# Verifying the addition\n",
    "# info.head()\n",
    "\n",
    "info = info.sort('group', ascending=True)\n",
    "\n",
    "# Verifying the sort\n",
    "info.head(30)"
   ]
  },
  {
   "cell_type": "markdown",
   "metadata": {},
   "source": [
    "So far we have tested clustering around known information, but the useful part of unsupervised learning is in finding new patterns. What if you cluster into two clusters? 20? What patterns do we see?\n",
    "\n",
    "**Q6**: Cluster data_tfidf to 2 clusters and describe how the books cluster."
   ]
  },
  {
   "cell_type": "code",
   "execution_count": 10,
   "metadata": {
    "collapsed": false
   },
   "outputs": [
    {
     "name": "stderr",
     "output_type": "stream",
     "text": [
      "/Users/rdubnic2/anaconda/lib/python3.5/site-packages/ipykernel/__main__.py:11: FutureWarning: sort(columns=....) is deprecated, use sort_values(by=.....)\n"
     ]
    },
    {
     "data": {
      "text/html": [
       "<div>\n",
       "<table border=\"1\" class=\"dataframe\">\n",
       "  <thead>\n",
       "    <tr style=\"text-align: right;\">\n",
       "      <th></th>\n",
       "      <th>book</th>\n",
       "      <th>author</th>\n",
       "      <th>title</th>\n",
       "      <th>group</th>\n",
       "    </tr>\n",
       "  </thead>\n",
       "  <tbody>\n",
       "    <tr>\n",
       "      <th>15</th>\n",
       "      <td>mdp.39015058207492</td>\n",
       "      <td>Grisham</td>\n",
       "      <td>The last juror</td>\n",
       "      <td>0</td>\n",
       "    </tr>\n",
       "    <tr>\n",
       "      <th>20</th>\n",
       "      <td>mdp.39015070756609</td>\n",
       "      <td>Grisham</td>\n",
       "      <td>Playing for pizza</td>\n",
       "      <td>0</td>\n",
       "    </tr>\n",
       "    <tr>\n",
       "      <th>22</th>\n",
       "      <td>mdp.39015073669312</td>\n",
       "      <td>Grisham</td>\n",
       "      <td>The appeal</td>\n",
       "      <td>0</td>\n",
       "    </tr>\n",
       "    <tr>\n",
       "      <th>9</th>\n",
       "      <td>mdp.39015046381565</td>\n",
       "      <td>Grisham</td>\n",
       "      <td>A time to kill</td>\n",
       "      <td>0</td>\n",
       "    </tr>\n",
       "    <tr>\n",
       "      <th>19</th>\n",
       "      <td>mdp.39015066084040</td>\n",
       "      <td>Grisham</td>\n",
       "      <td>The summons</td>\n",
       "      <td>0</td>\n",
       "    </tr>\n",
       "    <tr>\n",
       "      <th>27</th>\n",
       "      <td>pst.000050069378</td>\n",
       "      <td>Grisham</td>\n",
       "      <td>The king of torts (large print)</td>\n",
       "      <td>0</td>\n",
       "    </tr>\n",
       "    <tr>\n",
       "      <th>10</th>\n",
       "      <td>mdp.39015046788223</td>\n",
       "      <td>Grisham</td>\n",
       "      <td>The rainmaker</td>\n",
       "      <td>0</td>\n",
       "    </tr>\n",
       "    <tr>\n",
       "      <th>12</th>\n",
       "      <td>mdp.39015054084192</td>\n",
       "      <td>Grisham</td>\n",
       "      <td>The testament</td>\n",
       "      <td>0</td>\n",
       "    </tr>\n",
       "    <tr>\n",
       "      <th>3</th>\n",
       "      <td>mdp.39015029244657</td>\n",
       "      <td>Grisham</td>\n",
       "      <td>The pelican brief</td>\n",
       "      <td>0</td>\n",
       "    </tr>\n",
       "    <tr>\n",
       "      <th>4</th>\n",
       "      <td>mdp.39015031703609</td>\n",
       "      <td>Grisham</td>\n",
       "      <td>The rainmaker</td>\n",
       "      <td>0</td>\n",
       "    </tr>\n",
       "    <tr>\n",
       "      <th>11</th>\n",
       "      <td>mdp.39015046835560</td>\n",
       "      <td>Grisham</td>\n",
       "      <td>The partner</td>\n",
       "      <td>0</td>\n",
       "    </tr>\n",
       "    <tr>\n",
       "      <th>7</th>\n",
       "      <td>mdp.39015043780249</td>\n",
       "      <td>King</td>\n",
       "      <td>The girl who loved Tom Gordon</td>\n",
       "      <td>1</td>\n",
       "    </tr>\n",
       "    <tr>\n",
       "      <th>16</th>\n",
       "      <td>mdp.39015060663583</td>\n",
       "      <td>Atwood</td>\n",
       "      <td>The handmaid's tale</td>\n",
       "      <td>1</td>\n",
       "    </tr>\n",
       "    <tr>\n",
       "      <th>29</th>\n",
       "      <td>uc1.32106012198112</td>\n",
       "      <td>King</td>\n",
       "      <td>Stephen King's Danse macabre</td>\n",
       "      <td>1</td>\n",
       "    </tr>\n",
       "    <tr>\n",
       "      <th>6</th>\n",
       "      <td>mdp.39015040702071</td>\n",
       "      <td>Atwood</td>\n",
       "      <td>Alias Grace</td>\n",
       "      <td>1</td>\n",
       "    </tr>\n",
       "    <tr>\n",
       "      <th>2</th>\n",
       "      <td>mdp.39015027242315</td>\n",
       "      <td>Atwood</td>\n",
       "      <td>The robber bride</td>\n",
       "      <td>1</td>\n",
       "    </tr>\n",
       "    <tr>\n",
       "      <th>24</th>\n",
       "      <td>pst.000026748658</td>\n",
       "      <td>Atwood</td>\n",
       "      <td>Bodily harm</td>\n",
       "      <td>1</td>\n",
       "    </tr>\n",
       "    <tr>\n",
       "      <th>1</th>\n",
       "      <td>mdp.39015010763418</td>\n",
       "      <td>Atwood</td>\n",
       "      <td>Lady oracle;</td>\n",
       "      <td>1</td>\n",
       "    </tr>\n",
       "    <tr>\n",
       "      <th>25</th>\n",
       "      <td>pst.000026751405</td>\n",
       "      <td>Atwood</td>\n",
       "      <td>Cat's eye</td>\n",
       "      <td>1</td>\n",
       "    </tr>\n",
       "    <tr>\n",
       "      <th>30</th>\n",
       "      <td>uc1.32106017944551</td>\n",
       "      <td>King</td>\n",
       "      <td>Cujo</td>\n",
       "      <td>1</td>\n",
       "    </tr>\n",
       "    <tr>\n",
       "      <th>28</th>\n",
       "      <td>uc1.32106011612402</td>\n",
       "      <td>King</td>\n",
       "      <td>The dark half</td>\n",
       "      <td>1</td>\n",
       "    </tr>\n",
       "    <tr>\n",
       "      <th>5</th>\n",
       "      <td>mdp.39015038148048</td>\n",
       "      <td>King</td>\n",
       "      <td>Desperation</td>\n",
       "      <td>1</td>\n",
       "    </tr>\n",
       "    <tr>\n",
       "      <th>21</th>\n",
       "      <td>mdp.39015073669205</td>\n",
       "      <td>King</td>\n",
       "      <td>Duma Key</td>\n",
       "      <td>1</td>\n",
       "    </tr>\n",
       "    <tr>\n",
       "      <th>0</th>\n",
       "      <td>mdp.39015005028686</td>\n",
       "      <td>King</td>\n",
       "      <td>The stand</td>\n",
       "      <td>1</td>\n",
       "    </tr>\n",
       "    <tr>\n",
       "      <th>17</th>\n",
       "      <td>mdp.39015062842383</td>\n",
       "      <td>Atwood</td>\n",
       "      <td>The Penelopiad</td>\n",
       "      <td>1</td>\n",
       "    </tr>\n",
       "    <tr>\n",
       "      <th>13</th>\n",
       "      <td>mdp.39015054263903</td>\n",
       "      <td>King</td>\n",
       "      <td>Everything's eventual : 14 dark tales</td>\n",
       "      <td>1</td>\n",
       "    </tr>\n",
       "    <tr>\n",
       "      <th>8</th>\n",
       "      <td>mdp.39015043798936</td>\n",
       "      <td>King</td>\n",
       "      <td>Bag of bones</td>\n",
       "      <td>1</td>\n",
       "    </tr>\n",
       "    <tr>\n",
       "      <th>18</th>\n",
       "      <td>mdp.39015063682309</td>\n",
       "      <td>King</td>\n",
       "      <td>Cell : a novel</td>\n",
       "      <td>1</td>\n",
       "    </tr>\n",
       "    <tr>\n",
       "      <th>14</th>\n",
       "      <td>mdp.39015055831070</td>\n",
       "      <td>King</td>\n",
       "      <td>From a Buick 8 : a novel</td>\n",
       "      <td>1</td>\n",
       "    </tr>\n",
       "    <tr>\n",
       "      <th>23</th>\n",
       "      <td>pst.000023498051</td>\n",
       "      <td>King</td>\n",
       "      <td>Carrie</td>\n",
       "      <td>1</td>\n",
       "    </tr>\n",
       "  </tbody>\n",
       "</table>\n",
       "</div>"
      ],
      "text/plain": [
       "                  book   author                                  title  group\n",
       "15  mdp.39015058207492  Grisham                         The last juror      0\n",
       "20  mdp.39015070756609  Grisham                      Playing for pizza      0\n",
       "22  mdp.39015073669312  Grisham                             The appeal      0\n",
       "9   mdp.39015046381565  Grisham                         A time to kill      0\n",
       "19  mdp.39015066084040  Grisham                            The summons      0\n",
       "27    pst.000050069378  Grisham        The king of torts (large print)      0\n",
       "10  mdp.39015046788223  Grisham                          The rainmaker      0\n",
       "12  mdp.39015054084192  Grisham                          The testament      0\n",
       "3   mdp.39015029244657  Grisham                      The pelican brief      0\n",
       "4   mdp.39015031703609  Grisham                          The rainmaker      0\n",
       "11  mdp.39015046835560  Grisham                            The partner      0\n",
       "7   mdp.39015043780249     King          The girl who loved Tom Gordon      1\n",
       "16  mdp.39015060663583   Atwood                    The handmaid's tale      1\n",
       "29  uc1.32106012198112     King           Stephen King's Danse macabre      1\n",
       "6   mdp.39015040702071   Atwood                            Alias Grace      1\n",
       "2   mdp.39015027242315   Atwood                       The robber bride      1\n",
       "24    pst.000026748658   Atwood                            Bodily harm      1\n",
       "1   mdp.39015010763418   Atwood                           Lady oracle;      1\n",
       "25    pst.000026751405   Atwood                              Cat's eye      1\n",
       "30  uc1.32106017944551     King                                   Cujo      1\n",
       "28  uc1.32106011612402     King                          The dark half      1\n",
       "5   mdp.39015038148048     King                            Desperation      1\n",
       "21  mdp.39015073669205     King                               Duma Key      1\n",
       "0   mdp.39015005028686     King                              The stand      1\n",
       "17  mdp.39015062842383   Atwood                         The Penelopiad      1\n",
       "13  mdp.39015054263903     King  Everything's eventual : 14 dark tales      1\n",
       "8   mdp.39015043798936     King                           Bag of bones      1\n",
       "18  mdp.39015063682309     King                         Cell : a novel      1\n",
       "14  mdp.39015055831070     King               From a Buick 8 : a novel      1\n",
       "23    pst.000023498051     King                                 Carrie      1"
      ]
     },
     "execution_count": 10,
     "metadata": {},
     "output_type": "execute_result"
    }
   ],
   "source": [
    "from sklearn.cluster import KMeans\n",
    "kmeans = KMeans(n_clusters=2, random_state=0).fit(data_tfidf)\n",
    "\n",
    "group = pd.DataFrame(kmeans.labels_)\n",
    "\n",
    "info['group'] = group\n",
    "\n",
    "# Verifying the addition\n",
    "# info.head()\n",
    "\n",
    "info = info.sort('group', ascending=True)\n",
    "\n",
    "# Verifying the sort\n",
    "info.head(30)"
   ]
  },
  {
   "cell_type": "markdown",
   "metadata": {},
   "source": [
    "## More Techniques\n",
    "\n",
    "### An easier to interpret classifier: decision tree\n",
    "\n",
    "Here is an example of a decision tree classifier, which identifies discriminatory features out of the larger set, and uses those features to make the important classification decisions."
   ]
  },
  {
   "cell_type": "code",
   "execution_count": 11,
   "metadata": {
    "collapsed": false
   },
   "outputs": [],
   "source": [
    "from sklearn import tree\n",
    "clf = tree.DecisionTreeClassifier()\n",
    "clf = clf.fit(data, info['author'])"
   ]
  },
  {
   "cell_type": "markdown",
   "metadata": {},
   "source": [
    "Visualization is trickier because you need to install a separate library; details can be found in the Scikit Learn docs. Here is an example of what a decision tree might look like:\n",
    "\n",
    "![](../images/decisiontree.png)\n",
    "\n",
    "(This tree was trained with the arguments `splitter='random', criterion='entropy', min_samples_split=0.5`.)"
   ]
  },
  {
   "cell_type": "markdown",
   "metadata": {},
   "source": [
    "This example uses all of the data, because we're not testing it on anything, but it is possible to use in the same way as earlier classifiers, with `clf.fit(train_data)` and `clf.predict(test_data)`.\n",
    "\n",
    "Decision Trees are easy to interpret, but tend to be most interesting for tasks with many classes but few features. For text mining, we usually have really large feature sets, because each word in our vocabulary is a feature.\n",
    "\n",
    "Here is a non-text example that I trained on the survival of Titanic passengers."
   ]
  },
  {
   "cell_type": "code",
   "execution_count": 12,
   "metadata": {
    "collapsed": false,
    "scrolled": false
   },
   "outputs": [],
   "source": [
    "df = pd.read_csv('http://vincentarelbundock.github.io/Rdatasets/csv/datasets/Titanic.csv', na_values='*').dropna()\n",
    "# Make the passenger class column numeric (e.g. 1,2,3) instead of strings (e.g. '1st', '2nd', '3rd')\n",
    "df['PClass'] = df['PClass'].apply(lambda x: float(x[0]))\n",
    "\n",
    "clf = tree.DecisionTreeClassifier()\n",
    "clf = clf.fit(df[['PClass', 'Age', 'SexCode']], df['Survived'])"
   ]
  },
  {
   "cell_type": "markdown",
   "metadata": {},
   "source": [
    "The decision tree for this classifier is [posted as a PDF](../images/titanic.pdf). Reading from the top:\n",
    "\n",
    "- By default, assume that the passenger didn't survive.\n",
    "- The most important indicator of survival is gender. If the gender is '0' (Male), assume the person died, else assume they survived.\n",
    "- Amongst men, Age <= 12 was an indicator of survival. Amongst women, the most important next differentior was whether they were in first class (survived) or third (did not survive).\n",
    "\n",
    "And so on. The zoomed out view shows the grimness: men on left, women on right, dark orange is likely non-survival while dark blue is likely survival.\n",
    "\n",
    "![](../images/titanic-zoomed-out.png)"
   ]
  },
  {
   "cell_type": "markdown",
   "metadata": {},
   "source": [
    "### Agglomerative Clustering\n",
    "\n",
    "Here is an example of agglomerative cluster - 'bottom-up' clustering:"
   ]
  },
  {
   "cell_type": "code",
   "execution_count": 13,
   "metadata": {
    "collapsed": false
   },
   "outputs": [
    {
     "data": {
      "image/png": "[encoded data removed]",
      "text/plain": [
       "<matplotlib.figure.Figure at 0x1116d7358>"
      ]
     },
     "metadata": {},
     "output_type": "display_data"
    }
   ],
   "source": [
    "%matplotlib inline\n",
    "from sklearn.cluster import AgglomerativeClustering\n",
    "from scipy.cluster.hierarchy import dendrogram, linkage\n",
    "\n",
    "# Learn clusters\n",
    "model = AgglomerativeClustering()\n",
    "model = model.fit(data_tfidf.toarray())\n",
    "\n",
    "# Visualize the clusters\n",
    "Z = linkage(model.children_)\n",
    "graph = dendrogram(Z, orientation='right', labels=info['title'].values)"
   ]
  },
  {
   "cell_type": "markdown",
   "metadata": {},
   "source": [
    "These clusters are visualized using a dendrogram. The lines connect similar books or clusters, and the depth of the lines shows how similar those two nodes are. For example the cluster of _Cujo_ and _Dance macabre_ is very dissimilar from the cluster of all the other books, which is why the blue line extends so far to the right when connecting them."
   ]
  }
 ],
 "metadata": {
  "anaconda-cloud": {},
  "kernelspec": {
   "display_name": "Python [default]",
   "language": "python",
   "name": "python3"
  },
  "language_info": {
   "codemirror_mode": {
    "name": "ipython",
    "version": 3
   },
   "file_extension": ".py",
   "mimetype": "text/x-python",
   "name": "python",
   "nbconvert_exporter": "python",
   "pygments_lexer": "ipython3",
   "version": "3.5.3"
  }
 },
 "nbformat": 4,
 "nbformat_minor": 0
}
